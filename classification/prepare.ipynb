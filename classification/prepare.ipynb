{
 "cells": [
  {
   "cell_type": "markdown",
   "metadata": {},
   "source": [
    "# Classification - Data Preparation Exercise"
   ]
  },
  {
   "cell_type": "code",
   "execution_count": 3,
   "metadata": {},
   "outputs": [],
   "source": [
    "from acquire import get_titanic_data, get_iris_data\n",
    "from sklearn.preprocessing import LabelEncoder\n",
    "from sklearn.preprocessing import MinMaxScaler"
   ]
  },
  {
   "cell_type": "markdown",
   "metadata": {},
   "source": [
    "## 1. Iris Data\n",
    "\n",
    "Use the function defined in acquire.py to load the iris data."
   ]
  },
  {
   "cell_type": "code",
   "execution_count": 4,
   "metadata": {},
   "outputs": [],
   "source": [
    "df_iris = get_iris_data()"
   ]
  },
  {
   "cell_type": "markdown",
   "metadata": {},
   "source": [
    "a. Drop the species_id and measurement_id columns."
   ]
  },
  {
   "cell_type": "code",
   "execution_count": 5,
   "metadata": {},
   "outputs": [],
   "source": [
    "df_iris = df_iris.drop(columns=[\"species_id\", \"measurement_id\"])"
   ]
  },
  {
   "cell_type": "markdown",
   "metadata": {},
   "source": [
    "b. Rename the species_name column to just species."
   ]
  },
  {
   "cell_type": "code",
   "execution_count": 6,
   "metadata": {},
   "outputs": [],
   "source": [
    "df_iris = df_iris.rename(index=str, columns={\"species_name\": \"species\"})"
   ]
  },
  {
   "cell_type": "markdown",
   "metadata": {},
   "source": [
    "c. Encode the species name using a sklearn label encoder. Research the inverse_transform method of the label encoder. How might this be useful?"
   ]
  },
  {
   "cell_type": "code",
   "execution_count": 7,
   "metadata": {},
   "outputs": [],
   "source": [
    "encoder_iris = LabelEncoder()\n",
    "encoder_iris.fit(df_iris.species)\n",
    "df_iris.species = encoder_iris.transform(df_iris.species)"
   ]
  },
  {
   "cell_type": "markdown",
   "metadata": {},
   "source": [
    "Create a function named prep_iris that accepts the untransformed iris data, and returns the data with the transformations above applied."
   ]
  },
  {
   "cell_type": "code",
   "execution_count": 8,
   "metadata": {},
   "outputs": [],
   "source": [
    "def prep_iris(df_iris):\n",
    "    df = df_iris.copy()\n",
    "    \n",
    "    df = df.drop(columns=[\"species_id\", \"measurement_id\"])\n",
    "    \n",
    "    df = df.rename(index=str, columns={\"species_name\": \"species\"})\n",
    "    \n",
    "    encoder = LabelEncoder()\n",
    "    encoder.fit(df.species)\n",
    "    df.species = encoder.transform(df.species)\n",
    "    \n",
    "    return df"
   ]
  },
  {
   "cell_type": "markdown",
   "metadata": {},
   "source": [
    "## 2. Titanic Data\n",
    "\n",
    "Use the function you defined in acquire.py to load the titanic data set."
   ]
  },
  {
   "cell_type": "code",
   "execution_count": 9,
   "metadata": {},
   "outputs": [],
   "source": [
    "df_titanic = get_titanic_data()"
   ]
  },
  {
   "cell_type": "markdown",
   "metadata": {},
   "source": [
    "Write the code to perform the operations below. (Do this yourself, don't copy from the curriculum.)"
   ]
  },
  {
   "cell_type": "markdown",
   "metadata": {},
   "source": [
    "a. Handle the missing values in the embark_town and embarked columns."
   ]
  },
  {
   "cell_type": "code",
   "execution_count": 10,
   "metadata": {},
   "outputs": [],
   "source": [
    "# df_titanic.embarked.value_counts(dropna=False)\n",
    "df_titanic.embarked = df_titanic.embarked.fillna(\"U\")\n",
    "df_titanic.embark_town = df_titanic.embark_town.fillna(\"Unknown\")"
   ]
  },
  {
   "cell_type": "markdown",
   "metadata": {},
   "source": [
    "b. Remove the deck column."
   ]
  },
  {
   "cell_type": "code",
   "execution_count": 11,
   "metadata": {},
   "outputs": [],
   "source": [
    "df_titanic = df_titanic.drop(columns=\"deck\")"
   ]
  },
  {
   "cell_type": "markdown",
   "metadata": {},
   "source": [
    "c. Use a label encoder to transform the embarked column."
   ]
  },
  {
   "cell_type": "code",
   "execution_count": 12,
   "metadata": {},
   "outputs": [],
   "source": [
    "encoder_titanic = LabelEncoder()\n",
    "encoder_titanic.fit(df_titanic.embarked)\n",
    "df_titanic.embarked = encoder_titanic.transform(df_titanic.embarked)"
   ]
  },
  {
   "cell_type": "markdown",
   "metadata": {},
   "source": [
    "d. Scale the age and fare columns using a min max scaler. Why might this be beneficial? When might you not want to do this?"
   ]
  },
  {
   "cell_type": "code",
   "execution_count": 13,
   "metadata": {},
   "outputs": [],
   "source": [
    "scaler = MinMaxScaler()\n",
    "df_titanic[[\"age\", \"fare\"]] = scaler.fit_transform(df_titanic[[\"age\", \"fare\"]])"
   ]
  },
  {
   "cell_type": "markdown",
   "metadata": {},
   "source": [
    "Create a function named prep_titanic that accepts the untransformed titanic data, and returns the data with the transformations above applied."
   ]
  },
  {
   "cell_type": "code",
   "execution_count": 14,
   "metadata": {},
   "outputs": [],
   "source": [
    "def prep_titanic(df_titanic):\n",
    "    df = df_titanic.copy()\n",
    "    \n",
    "    df.embarked = df.embarked.fillna(\"U\")\n",
    "    df.embark_town = df.embark_town.fillna(\"Unknown\")\n",
    "    \n",
    "    df = df.drop(columns=\"deck\")\n",
    "    \n",
    "    encoder = LabelEncoder()\n",
    "    encoder.fit(df.embarked)\n",
    "    df.embarked = encoder.transform(df.embarked)\n",
    "    \n",
    "    scaler = MinMaxScaler()\n",
    "    df[[\"age\", \"fare\"]] = scaler.fit_transform(df[[\"age\", \"fare\"]])\n",
    "    \n",
    "    return df"
   ]
  }
 ],
 "metadata": {
  "kernelspec": {
   "display_name": "Python 3",
   "language": "python",
   "name": "python3"
  },
  "language_info": {
   "codemirror_mode": {
    "name": "ipython",
    "version": 3
   },
   "file_extension": ".py",
   "mimetype": "text/x-python",
   "name": "python",
   "nbconvert_exporter": "python",
   "pygments_lexer": "ipython3",
   "version": "3.7.1"
  }
 },
 "nbformat": 4,
 "nbformat_minor": 2
}
