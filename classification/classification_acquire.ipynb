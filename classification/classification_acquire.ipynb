{
 "cells": [
  {
   "cell_type": "code",
   "execution_count": 2,
   "metadata": {},
   "outputs": [],
   "source": [
    "import pandas as pd\n",
    "from sqlalchemy import create_engine\n",
    "from pydataset import data"
   ]
  },
  {
   "cell_type": "markdown",
   "metadata": {},
   "source": [
    "## 1. Use the pydataset module to load the iris data set into a dataframe, df_iris"
   ]
  },
  {
   "cell_type": "code",
   "execution_count": 3,
   "metadata": {},
   "outputs": [],
   "source": [
    "df_iris = data(\"iris\")"
   ]
  },
  {
   "cell_type": "code",
   "execution_count": 4,
   "metadata": {},
   "outputs": [
    {
     "name": "stdout",
     "output_type": "stream",
     "text": [
      "print the first 3 rows\n",
      "   Sepal.Length  Sepal.Width  Petal.Length  Petal.Width Species\n",
      "1           5.1          3.5           1.4          0.2  setosa\n",
      "2           4.9          3.0           1.4          0.2  setosa\n",
      "3           4.7          3.2           1.3          0.2  setosa\n"
     ]
    }
   ],
   "source": [
    "print(\"print the first 3 rows\")\n",
    "print(df_iris.head(3))"
   ]
  },
  {
   "cell_type": "code",
   "execution_count": 5,
   "metadata": {},
   "outputs": [
    {
     "name": "stdout",
     "output_type": "stream",
     "text": [
      "print the number of rows and columns (shape)\n",
      "(150, 5)\n"
     ]
    }
   ],
   "source": [
    "print(\"print the number of rows and columns (shape)\")\n",
    "print(df_iris.shape)"
   ]
  },
  {
   "cell_type": "code",
   "execution_count": 6,
   "metadata": {},
   "outputs": [
    {
     "name": "stdout",
     "output_type": "stream",
     "text": [
      "print the column names\n",
      "Sepal.Length | Sepal.Width | Petal.Length | Petal.Width | Species\n"
     ]
    }
   ],
   "source": [
    "print(\"print the column names\")\n",
    "print(*df_iris.columns, sep=\" | \")"
   ]
  },
  {
   "cell_type": "code",
   "execution_count": 7,
   "metadata": {},
   "outputs": [
    {
     "name": "stdout",
     "output_type": "stream",
     "text": [
      "print the data type of each column\n",
      "Sepal.Length    float64\n",
      "Sepal.Width     float64\n",
      "Petal.Length    float64\n",
      "Petal.Width     float64\n",
      "Species          object\n",
      "dtype: object\n"
     ]
    }
   ],
   "source": [
    "print(\"print the data type of each column\")\n",
    "print(df_iris.dtypes)"
   ]
  },
  {
   "cell_type": "code",
   "execution_count": 8,
   "metadata": {},
   "outputs": [
    {
     "name": "stdout",
     "output_type": "stream",
     "text": [
      "print the summary statistics for each of the numeric variables. Would you recommend rescaling the data based on these statistics?\n",
      "       Sepal.Length  Sepal.Width  Petal.Length  Petal.Width\n",
      "count    150.000000   150.000000    150.000000   150.000000\n",
      "mean       5.843333     3.057333      3.758000     1.199333\n",
      "std        0.828066     0.435866      1.765298     0.762238\n",
      "min        4.300000     2.000000      1.000000     0.100000\n",
      "25%        5.100000     2.800000      1.600000     0.300000\n",
      "50%        5.800000     3.000000      4.350000     1.300000\n",
      "75%        6.400000     3.300000      5.100000     1.800000\n",
      "max        7.900000     4.400000      6.900000     2.500000\n"
     ]
    }
   ],
   "source": [
    "print(\"print the summary statistics for each of the numeric variables. Would you recommend rescaling the data based on these statistics?\")\n",
    "print(df_iris.describe())"
   ]
  },
  {
   "cell_type": "markdown",
   "metadata": {},
   "source": [
    "I would not rescale because the each numeric variable is in centimeters and is close together."
   ]
  },
  {
   "cell_type": "markdown",
   "metadata": {},
   "source": [
    "## 2. Read the data tab from the stats module dataset, Excel_Stats.xlsx, into a dataframe, df_excel"
   ]
  },
  {
   "cell_type": "code",
   "execution_count": 9,
   "metadata": {},
   "outputs": [],
   "source": [
    "df_excel = pd.read_excel(\"Excel_Stats.xlsx\", sheet_name=\"Data\")"
   ]
  },
  {
   "cell_type": "markdown",
   "metadata": {},
   "source": [
    "* assign the first 100 rows to a new dataframe, df_excel_sample"
   ]
  },
  {
   "cell_type": "code",
   "execution_count": 10,
   "metadata": {},
   "outputs": [],
   "source": [
    "df_excel_sample = df_excel.head(100)"
   ]
  },
  {
   "cell_type": "code",
   "execution_count": 11,
   "metadata": {},
   "outputs": [
    {
     "name": "stdout",
     "output_type": "stream",
     "text": [
      "print the number of rows of your original dataframe\n",
      "7043\n"
     ]
    }
   ],
   "source": [
    "print(\"print the number of rows of your original dataframe\")\n",
    "print(df_excel.shape[0])"
   ]
  },
  {
   "cell_type": "code",
   "execution_count": 12,
   "metadata": {},
   "outputs": [
    {
     "name": "stdout",
     "output_type": "stream",
     "text": [
      "print the first 5 column names\n",
      "customer_id, gender, is_senior_citizen, partner, dependents\n"
     ]
    }
   ],
   "source": [
    "print(\"print the first 5 column names\")\n",
    "print(*df_excel.columns[:5], sep=\", \")"
   ]
  },
  {
   "cell_type": "code",
   "execution_count": 13,
   "metadata": {},
   "outputs": [
    {
     "name": "stdout",
     "output_type": "stream",
     "text": [
      "print the column names that have a data type of object\n",
      "customer_id | gender | partner | dependents | payment_type | churn\n"
     ]
    },
    {
     "data": {
      "text/plain": [
       "customer_id           object\n",
       "gender                object\n",
       "is_senior_citizen      int64\n",
       "partner               object\n",
       "dependents            object\n",
       "tenure                 int64\n",
       "phone_service          int64\n",
       "internet_service       int64\n",
       "contract_type          int64\n",
       "payment_type          object\n",
       "monthly_charges      float64\n",
       "total_charges        float64\n",
       "churn                 object\n",
       "dtype: object"
      ]
     },
     "execution_count": 13,
     "metadata": {},
     "output_type": "execute_result"
    }
   ],
   "source": [
    "print(\"print the column names that have a data type of object\")\n",
    "print(*df_excel.select_dtypes(include=\"object\").columns, sep=\" | \")\n",
    "df_excel.dtypes"
   ]
  },
  {
   "cell_type": "code",
   "execution_count": 14,
   "metadata": {},
   "outputs": [
    {
     "name": "stdout",
     "output_type": "stream",
     "text": [
      "compute the range for each of the numeric variables.\n",
      "is_senior_citizen       1.0\n",
      "tenure                 72.0\n",
      "phone_service           2.0\n",
      "internet_service        2.0\n",
      "contract_type           2.0\n",
      "monthly_charges       100.5\n",
      "total_charges        8666.0\n",
      "dtype: float64\n"
     ]
    }
   ],
   "source": [
    "print(\"compute the range for each of the numeric variables.\")\n",
    "df_num_vars = df_excel.select_dtypes(include=\"number\")\n",
    "print(df_num_vars.apply(lambda s: s.max() - s.min()))"
   ]
  },
  {
   "cell_type": "markdown",
   "metadata": {},
   "source": [
    "## 3. Read train.csv from google drive (shared through classroom in topic 'Classification') into a dataframe labeled df_google"
   ]
  },
  {
   "cell_type": "code",
   "execution_count": 15,
   "metadata": {},
   "outputs": [],
   "source": [
    "# sheets_url = \"https://docs.google.com/spreadsheets/d/1tSdauljeTt9CT5WdWULGRyWSPQT3ofn38sVIBlIc6zM/edit#gid=1473664817\"\n",
    "# sheets_url = sheets_url.replace('/edit#gid=', '/export?format=csv&gid=')\n",
    "df_google = pd.read_csv(\"train.csv\")"
   ]
  },
  {
   "cell_type": "code",
   "execution_count": 16,
   "metadata": {},
   "outputs": [
    {
     "name": "stdout",
     "output_type": "stream",
     "text": [
      "print the first 3 rows\n",
      "   rowid                 date  Temperature  Humidity  Light     CO2  \\\n",
      "0      1  2015-02-04 17:51:00        23.18   27.2720  426.0  721.25   \n",
      "1      2  2015-02-04 17:51:59        23.15   27.2675  429.5  714.00   \n",
      "2      3  2015-02-04 17:53:00        23.15   27.2450  426.0  713.50   \n",
      "\n",
      "   HumidityRatio  Occupancy  \n",
      "0       0.004793          1  \n",
      "1       0.004783          1  \n",
      "2       0.004779          1  \n"
     ]
    }
   ],
   "source": [
    "print(\"print the first 3 rows\")\n",
    "print(df_google.head(3))"
   ]
  },
  {
   "cell_type": "code",
   "execution_count": 17,
   "metadata": {},
   "outputs": [
    {
     "name": "stdout",
     "output_type": "stream",
     "text": [
      "print the number of rows and columns\n",
      "(8143, 8)\n"
     ]
    }
   ],
   "source": [
    "print(\"print the number of rows and columns\")\n",
    "print(df_google.shape)"
   ]
  },
  {
   "cell_type": "code",
   "execution_count": 18,
   "metadata": {},
   "outputs": [
    {
     "name": "stdout",
     "output_type": "stream",
     "text": [
      "print the column names\n",
      "rowid | date | Temperature | Humidity | Light | CO2 | HumidityRatio | Occupancy\n"
     ]
    }
   ],
   "source": [
    "print(\"print the column names\")\n",
    "print(*df_google.columns, sep=\" | \")"
   ]
  },
  {
   "cell_type": "code",
   "execution_count": 19,
   "metadata": {},
   "outputs": [
    {
     "name": "stdout",
     "output_type": "stream",
     "text": [
      "print the data type of each column\n",
      "rowid              int64\n",
      "date              object\n",
      "Temperature      float64\n",
      "Humidity         float64\n",
      "Light            float64\n",
      "CO2              float64\n",
      "HumidityRatio    float64\n",
      "Occupancy          int64\n",
      "dtype: object\n"
     ]
    }
   ],
   "source": [
    "print(\"print the data type of each column\")\n",
    "print(df_google.dtypes)"
   ]
  },
  {
   "cell_type": "code",
   "execution_count": 20,
   "metadata": {},
   "outputs": [
    {
     "name": "stdout",
     "output_type": "stream",
     "text": [
      "print the summary statistics for each of the numeric variables\n",
      "             rowid  Temperature     Humidity        Light          CO2  \\\n",
      "count  8143.000000  8143.000000  8143.000000  8143.000000  8143.000000   \n",
      "mean   4072.000000    20.619084    25.731507   119.519375   606.546243   \n",
      "std    2350.825954     1.016916     5.531211   194.755805   314.320877   \n",
      "min       1.000000    19.000000    16.745000     0.000000   412.750000   \n",
      "25%    2036.500000    19.700000    20.200000     0.000000   439.000000   \n",
      "50%    4072.000000    20.390000    26.222500     0.000000   453.500000   \n",
      "75%    6107.500000    21.390000    30.533333   256.375000   638.833333   \n",
      "max    8143.000000    23.180000    39.117500  1546.333333  2028.500000   \n",
      "\n",
      "       HumidityRatio    Occupancy  \n",
      "count    8143.000000  8143.000000  \n",
      "mean        0.003863     0.212330  \n",
      "std         0.000852     0.408982  \n",
      "min         0.002674     0.000000  \n",
      "25%         0.003078     0.000000  \n",
      "50%         0.003801     0.000000  \n",
      "75%         0.004352     0.000000  \n",
      "max         0.006476     1.000000  \n"
     ]
    }
   ],
   "source": [
    "print(\"print the summary statistics for each of the numeric variables\")\n",
    "print(df_google.describe())"
   ]
  },
  {
   "cell_type": "code",
   "execution_count": 21,
   "metadata": {},
   "outputs": [],
   "source": [
    "# print(\"print the unique values for each of your categorical variables\")\n",
    "# SKIP per Zach; there are no categorical variables"
   ]
  },
  {
   "cell_type": "markdown",
   "metadata": {},
   "source": [
    "## 4. In mysql workbench or a terminal, write a query to select all the columns of the passengers table from the titanic database. Export that table to a csv you store locally. Read that csv into a dataframe df_csv."
   ]
  },
  {
   "cell_type": "code",
   "execution_count": 22,
   "metadata": {},
   "outputs": [
    {
     "data": {
      "text/html": [
       "<div>\n",
       "<style scoped>\n",
       "    .dataframe tbody tr th:only-of-type {\n",
       "        vertical-align: middle;\n",
       "    }\n",
       "\n",
       "    .dataframe tbody tr th {\n",
       "        vertical-align: top;\n",
       "    }\n",
       "\n",
       "    .dataframe thead th {\n",
       "        text-align: right;\n",
       "    }\n",
       "</style>\n",
       "<table border=\"1\" class=\"dataframe\">\n",
       "  <thead>\n",
       "    <tr style=\"text-align: right;\">\n",
       "      <th></th>\n",
       "      <th>passenger_id</th>\n",
       "      <th>survived</th>\n",
       "      <th>pclass</th>\n",
       "      <th>sex</th>\n",
       "      <th>age</th>\n",
       "      <th>sibsp</th>\n",
       "      <th>parch</th>\n",
       "      <th>fare</th>\n",
       "      <th>embarked</th>\n",
       "      <th>class</th>\n",
       "      <th>deck</th>\n",
       "      <th>embark_town</th>\n",
       "      <th>alone</th>\n",
       "    </tr>\n",
       "  </thead>\n",
       "  <tbody>\n",
       "    <tr>\n",
       "      <th>0</th>\n",
       "      <td>0</td>\n",
       "      <td>0</td>\n",
       "      <td>3</td>\n",
       "      <td>male</td>\n",
       "      <td>22.0</td>\n",
       "      <td>1</td>\n",
       "      <td>0</td>\n",
       "      <td>7.2500</td>\n",
       "      <td>S</td>\n",
       "      <td>Third</td>\n",
       "      <td>NaN</td>\n",
       "      <td>Southampton</td>\n",
       "      <td>0</td>\n",
       "    </tr>\n",
       "    <tr>\n",
       "      <th>1</th>\n",
       "      <td>1</td>\n",
       "      <td>1</td>\n",
       "      <td>1</td>\n",
       "      <td>female</td>\n",
       "      <td>38.0</td>\n",
       "      <td>1</td>\n",
       "      <td>0</td>\n",
       "      <td>71.2833</td>\n",
       "      <td>C</td>\n",
       "      <td>First</td>\n",
       "      <td>C</td>\n",
       "      <td>Cherbourg</td>\n",
       "      <td>0</td>\n",
       "    </tr>\n",
       "    <tr>\n",
       "      <th>2</th>\n",
       "      <td>2</td>\n",
       "      <td>1</td>\n",
       "      <td>3</td>\n",
       "      <td>female</td>\n",
       "      <td>26.0</td>\n",
       "      <td>0</td>\n",
       "      <td>0</td>\n",
       "      <td>7.9250</td>\n",
       "      <td>S</td>\n",
       "      <td>Third</td>\n",
       "      <td>NaN</td>\n",
       "      <td>Southampton</td>\n",
       "      <td>1</td>\n",
       "    </tr>\n",
       "    <tr>\n",
       "      <th>3</th>\n",
       "      <td>3</td>\n",
       "      <td>1</td>\n",
       "      <td>1</td>\n",
       "      <td>female</td>\n",
       "      <td>35.0</td>\n",
       "      <td>1</td>\n",
       "      <td>0</td>\n",
       "      <td>53.1000</td>\n",
       "      <td>S</td>\n",
       "      <td>First</td>\n",
       "      <td>C</td>\n",
       "      <td>Southampton</td>\n",
       "      <td>0</td>\n",
       "    </tr>\n",
       "    <tr>\n",
       "      <th>4</th>\n",
       "      <td>4</td>\n",
       "      <td>0</td>\n",
       "      <td>3</td>\n",
       "      <td>male</td>\n",
       "      <td>35.0</td>\n",
       "      <td>0</td>\n",
       "      <td>0</td>\n",
       "      <td>8.0500</td>\n",
       "      <td>S</td>\n",
       "      <td>Third</td>\n",
       "      <td>NaN</td>\n",
       "      <td>Southampton</td>\n",
       "      <td>1</td>\n",
       "    </tr>\n",
       "  </tbody>\n",
       "</table>\n",
       "</div>"
      ],
      "text/plain": [
       "   passenger_id  survived  pclass     sex   age  sibsp  parch     fare  \\\n",
       "0             0         0       3    male  22.0      1      0   7.2500   \n",
       "1             1         1       1  female  38.0      1      0  71.2833   \n",
       "2             2         1       3  female  26.0      0      0   7.9250   \n",
       "3             3         1       1  female  35.0      1      0  53.1000   \n",
       "4             4         0       3    male  35.0      0      0   8.0500   \n",
       "\n",
       "  embarked  class deck  embark_town  alone  \n",
       "0        S  Third  NaN  Southampton      0  \n",
       "1        C  First    C    Cherbourg      0  \n",
       "2        S  Third  NaN  Southampton      1  \n",
       "3        S  First    C  Southampton      0  \n",
       "4        S  Third  NaN  Southampton      1  "
      ]
     },
     "execution_count": 22,
     "metadata": {},
     "output_type": "execute_result"
    }
   ],
   "source": [
    "df_csv = pd.read_csv(\"titanic.csv\")\n",
    "df_csv.head()"
   ]
  },
  {
   "cell_type": "code",
   "execution_count": 23,
   "metadata": {},
   "outputs": [
    {
     "name": "stdout",
     "output_type": "stream",
     "text": [
      "print the number of rows and columns\n",
      "(891, 13)\n"
     ]
    }
   ],
   "source": [
    "print(\"print the number of rows and columns\")\n",
    "print(df_csv.shape)"
   ]
  },
  {
   "cell_type": "code",
   "execution_count": 24,
   "metadata": {},
   "outputs": [
    {
     "name": "stdout",
     "output_type": "stream",
     "text": [
      "print the column names\n",
      "passenger_id | survived | pclass | sex | age | sibsp | parch | fare | embarked | class | deck | embark_town | alone\n"
     ]
    }
   ],
   "source": [
    "print(\"print the column names\")\n",
    "print(*df_csv.columns, sep=\" | \")"
   ]
  },
  {
   "cell_type": "code",
   "execution_count": 25,
   "metadata": {},
   "outputs": [
    {
     "name": "stdout",
     "output_type": "stream",
     "text": [
      "print the data type of each column\n",
      "passenger_id      int64\n",
      "survived          int64\n",
      "pclass            int64\n",
      "sex              object\n",
      "age             float64\n",
      "sibsp             int64\n",
      "parch             int64\n",
      "fare            float64\n",
      "embarked         object\n",
      "class            object\n",
      "deck             object\n",
      "embark_town      object\n",
      "alone             int64\n",
      "dtype: object\n"
     ]
    }
   ],
   "source": [
    "print(\"print the data type of each column\")\n",
    "print(df_csv.dtypes)"
   ]
  },
  {
   "cell_type": "code",
   "execution_count": 26,
   "metadata": {},
   "outputs": [
    {
     "name": "stdout",
     "output_type": "stream",
     "text": [
      "print the summary statistics for each numeric variable\n",
      "              age        fare\n",
      "count  714.000000  891.000000\n",
      "mean    29.699118   32.204208\n",
      "std     14.526497   49.693429\n",
      "min      0.420000    0.000000\n",
      "25%     20.125000    7.910400\n",
      "50%     28.000000   14.454200\n",
      "75%     38.000000   31.000000\n",
      "max     80.000000  512.329200\n"
     ]
    }
   ],
   "source": [
    "print(\"print the summary statistics for each numeric variable\")\n",
    "print(df_csv[[\"age\", \"fare\"]].describe())"
   ]
  },
  {
   "cell_type": "code",
   "execution_count": 27,
   "metadata": {},
   "outputs": [
    {
     "name": "stdout",
     "output_type": "stream",
     "text": [
      "print the unique values for each categorical variables. If there are more than 5 distinct values, print the top 5 in terms of prevelence or frequency.\n",
      "  survived: 0, 1\n",
      "    pclass: 3, 1, 2\n",
      "       sex: male, female\n",
      "     sibsp: 0, 1, 2, 4, 3\n",
      "     parch: 0, 1, 2, 5, 3\n",
      "  embarked: S, C, Q\n",
      "     class: Third, First, Second\n",
      "      deck: C, B, D, E, A\n",
      "     alone: 1, 0\n"
     ]
    }
   ],
   "source": [
    "print(\"print the unique values for each categorical variables. If there are more than 5 distinct values, print the top 5 in terms of prevelence or frequency.\")\n",
    "cols = (\"survived\", \"pclass\", \"sex\", \"sibsp\", \"parch\", \"embarked\", \"class\", \"deck\", \"alone\")\n",
    "for col in cols:\n",
    "    print(f\"{col:>10}: {', '.join(pd.Series(df_csv[col].value_counts().index.values).astype(str).unique()[:5])}\")"
   ]
  }
 ],
 "metadata": {
  "kernelspec": {
   "display_name": "Python 3",
   "language": "python",
   "name": "python3"
  },
  "language_info": {
   "codemirror_mode": {
    "name": "ipython",
    "version": 3
   },
   "file_extension": ".py",
   "mimetype": "text/x-python",
   "name": "python",
   "nbconvert_exporter": "python",
   "pygments_lexer": "ipython3",
   "version": "3.7.1"
  }
 },
 "nbformat": 4,
 "nbformat_minor": 2
}
