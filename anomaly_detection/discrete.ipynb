{
 "cells": [
  {
   "cell_type": "markdown",
   "metadata": {},
   "source": [
    "# Discrete Anomaly Detection"
   ]
  },
  {
   "cell_type": "code",
   "execution_count": 35,
   "metadata": {},
   "outputs": [],
   "source": [
    "import itertools\n",
    "import matplotlib.pyplot as plt\n",
    "import matplotlib.dates as mdates\n",
    "import numpy as np\n",
    "import pandas as pd\n",
    "import math\n",
    "from sklearn import metrics\n",
    "from random import randint\n",
    "from matplotlib import style\n",
    "import seaborn as sns"
   ]
  },
  {
   "cell_type": "markdown",
   "metadata": {},
   "source": [
    "## Acquire"
   ]
  },
  {
   "cell_type": "code",
   "execution_count": 36,
   "metadata": {},
   "outputs": [],
   "source": [
    "colnames = [\"ip\", \"timestamp\", \"request_method\", \"status\", \"size\",\n",
    "            \"destination\", \"request_agent\"]\n",
    "\n",
    "df_orig = pd.read_csv(\"http://python.zach.lol/access.log\",\n",
    "                      engine=\"python\",\n",
    "                      header=None,\n",
    "                      index_col=False,\n",
    "                      names=colnames,\n",
    "                      sep=r'\\s(?=(?:[^\"]*\"[^\"]*\")*[^\"]*$)(?![^\\[]*\\])',\n",
    "                      na_values='\"-\"',\n",
    "                      usecols=[0, 3, 4, 5, 6, 7, 8])\n",
    "\n",
    "new = pd.DataFrame([[\"95.31.18.119\", \"[21/Apr/2019:10:02:41+0000]\", \n",
    "                     \"GET /api/v1/items/HTTP/1.1\", 200, 1153005, np.nan, \n",
    "                     \"python-requests/2.21.0\"],\n",
    "                    [\"95.31.16.121\", \"[17/Apr/2019:19:36:41+0000]\", \n",
    "                     \"GET /api/v1/sales?page=79/HTTP/1.1\", 301, 1005, np.nan, \n",
    "                     \"python-requests/2.21.0\"],\n",
    "                    [\"97.105.15.120\", \"[18/Apr/2019:19:42:41+0000]\", \n",
    "                     \"GET /api/v1/sales?page=79/HTTP/1.1\", 301, 2560, np.nan, \n",
    "                     \"python-requests/2.21.0\"],\n",
    "                    [\"97.105.19.58\", \"[19/Apr/2019:19:42:41+0000]\", \n",
    "                     \"GET /api/v1/sales?page=79/HTTP/1.1\", 200, 2056327, np.nan, \n",
    "                     \"python-requests/2.21.0\"]], columns=colnames)"
   ]
  },
  {
   "cell_type": "code",
   "execution_count": 37,
   "metadata": {},
   "outputs": [],
   "source": [
    "df = df_orig.append(new)"
   ]
  },
  {
   "cell_type": "code",
   "execution_count": 38,
   "metadata": {},
   "outputs": [
    {
     "data": {
      "text/html": [
       "<div>\n",
       "<style scoped>\n",
       "    .dataframe tbody tr th:only-of-type {\n",
       "        vertical-align: middle;\n",
       "    }\n",
       "\n",
       "    .dataframe tbody tr th {\n",
       "        vertical-align: top;\n",
       "    }\n",
       "\n",
       "    .dataframe thead th {\n",
       "        text-align: right;\n",
       "    }\n",
       "</style>\n",
       "<table border=\"1\" class=\"dataframe\">\n",
       "  <thead>\n",
       "    <tr style=\"text-align: right;\">\n",
       "      <th></th>\n",
       "      <th>ip</th>\n",
       "      <th>timestamp</th>\n",
       "      <th>request_method</th>\n",
       "      <th>status</th>\n",
       "      <th>size</th>\n",
       "      <th>destination</th>\n",
       "      <th>request_agent</th>\n",
       "    </tr>\n",
       "  </thead>\n",
       "  <tbody>\n",
       "    <tr>\n",
       "      <th>0</th>\n",
       "      <td>97.105.19.58</td>\n",
       "      <td>[16/Apr/2019:19:34:42 +0000]</td>\n",
       "      <td>\"GET /api/v1/sales?page=81 HTTP/1.1\"</td>\n",
       "      <td>200</td>\n",
       "      <td>512495</td>\n",
       "      <td>NaN</td>\n",
       "      <td>\"python-requests/2.21.0\"</td>\n",
       "    </tr>\n",
       "    <tr>\n",
       "      <th>1</th>\n",
       "      <td>97.105.19.58</td>\n",
       "      <td>[16/Apr/2019:19:34:42 +0000]</td>\n",
       "      <td>\"GET /api/v1/items HTTP/1.1\"</td>\n",
       "      <td>200</td>\n",
       "      <td>3561</td>\n",
       "      <td>NaN</td>\n",
       "      <td>\"python-requests/2.21.0\"</td>\n",
       "    </tr>\n",
       "    <tr>\n",
       "      <th>2</th>\n",
       "      <td>97.105.19.58</td>\n",
       "      <td>[16/Apr/2019:19:34:44 +0000]</td>\n",
       "      <td>\"GET /api/v1/sales?page=82 HTTP/1.1\"</td>\n",
       "      <td>200</td>\n",
       "      <td>510103</td>\n",
       "      <td>NaN</td>\n",
       "      <td>\"python-requests/2.21.0\"</td>\n",
       "    </tr>\n",
       "    <tr>\n",
       "      <th>3</th>\n",
       "      <td>97.105.19.58</td>\n",
       "      <td>[16/Apr/2019:19:34:46 +0000]</td>\n",
       "      <td>\"GET /api/v1/sales?page=83 HTTP/1.1\"</td>\n",
       "      <td>200</td>\n",
       "      <td>510003</td>\n",
       "      <td>NaN</td>\n",
       "      <td>\"python-requests/2.21.0\"</td>\n",
       "    </tr>\n",
       "    <tr>\n",
       "      <th>4</th>\n",
       "      <td>97.105.19.58</td>\n",
       "      <td>[16/Apr/2019:19:34:48 +0000]</td>\n",
       "      <td>\"GET /api/v1/sales?page=84 HTTP/1.1\"</td>\n",
       "      <td>200</td>\n",
       "      <td>511963</td>\n",
       "      <td>NaN</td>\n",
       "      <td>\"python-requests/2.21.0\"</td>\n",
       "    </tr>\n",
       "  </tbody>\n",
       "</table>\n",
       "</div>"
      ],
      "text/plain": [
       "             ip                     timestamp  \\\n",
       "0  97.105.19.58  [16/Apr/2019:19:34:42 +0000]   \n",
       "1  97.105.19.58  [16/Apr/2019:19:34:42 +0000]   \n",
       "2  97.105.19.58  [16/Apr/2019:19:34:44 +0000]   \n",
       "3  97.105.19.58  [16/Apr/2019:19:34:46 +0000]   \n",
       "4  97.105.19.58  [16/Apr/2019:19:34:48 +0000]   \n",
       "\n",
       "                         request_method  status    size destination  \\\n",
       "0  \"GET /api/v1/sales?page=81 HTTP/1.1\"     200  512495         NaN   \n",
       "1          \"GET /api/v1/items HTTP/1.1\"     200    3561         NaN   \n",
       "2  \"GET /api/v1/sales?page=82 HTTP/1.1\"     200  510103         NaN   \n",
       "3  \"GET /api/v1/sales?page=83 HTTP/1.1\"     200  510003         NaN   \n",
       "4  \"GET /api/v1/sales?page=84 HTTP/1.1\"     200  511963         NaN   \n",
       "\n",
       "              request_agent  \n",
       "0  \"python-requests/2.21.0\"  \n",
       "1  \"python-requests/2.21.0\"  \n",
       "2  \"python-requests/2.21.0\"  \n",
       "3  \"python-requests/2.21.0\"  \n",
       "4  \"python-requests/2.21.0\"  "
      ]
     },
     "execution_count": 38,
     "metadata": {},
     "output_type": "execute_result"
    }
   ],
   "source": [
    "df.head()"
   ]
  },
  {
   "cell_type": "code",
   "execution_count": 39,
   "metadata": {},
   "outputs": [
    {
     "name": "stdout",
     "output_type": "stream",
     "text": [
      "<class 'pandas.core.frame.DataFrame'>\n",
      "Int64Index: 13978 entries, 0 to 3\n",
      "Data columns (total 7 columns):\n",
      "ip                13978 non-null object\n",
      "timestamp         13978 non-null object\n",
      "request_method    13978 non-null object\n",
      "status            13978 non-null int64\n",
      "size              13978 non-null int64\n",
      "destination       25 non-null object\n",
      "request_agent     13978 non-null object\n",
      "dtypes: int64(2), object(5)\n",
      "memory usage: 873.6+ KB\n"
     ]
    }
   ],
   "source": [
    "df.info()"
   ]
  },
  {
   "cell_type": "markdown",
   "metadata": {},
   "source": [
    "## Preparation"
   ]
  },
  {
   "cell_type": "markdown",
   "metadata": {},
   "source": [
    "### Parse Datetime"
   ]
  },
  {
   "cell_type": "code",
   "execution_count": 40,
   "metadata": {},
   "outputs": [],
   "source": [
    "df.timestamp = df.timestamp.str.replace(r'(\\[|\\])', '', regex=True)\n",
    "df.timestamp= pd.to_datetime(df.timestamp.str.replace(':', ' ', 1))\n",
    "df = df.set_index('timestamp').tz_localize(None)"
   ]
  },
  {
   "cell_type": "markdown",
   "metadata": {},
   "source": [
    "### Clean Up Text"
   ]
  },
  {
   "cell_type": "code",
   "execution_count": 41,
   "metadata": {},
   "outputs": [],
   "source": [
    "for col in ['request_method', 'request_agent', 'destination']:\n",
    "    df[col] = df[col].str.replace('\"', '')\n",
    "\n",
    "df['request_method'] = df.request_method.str.replace(r'\\?page=[0-9]+', '', regex=True)"
   ]
  },
  {
   "cell_type": "code",
   "execution_count": 42,
   "metadata": {},
   "outputs": [
    {
     "data": {
      "text/html": [
       "<div>\n",
       "<style scoped>\n",
       "    .dataframe tbody tr th:only-of-type {\n",
       "        vertical-align: middle;\n",
       "    }\n",
       "\n",
       "    .dataframe tbody tr th {\n",
       "        vertical-align: top;\n",
       "    }\n",
       "\n",
       "    .dataframe thead th {\n",
       "        text-align: right;\n",
       "    }\n",
       "</style>\n",
       "<table border=\"1\" class=\"dataframe\">\n",
       "  <thead>\n",
       "    <tr style=\"text-align: right;\">\n",
       "      <th></th>\n",
       "      <th>ip</th>\n",
       "      <th>request_method</th>\n",
       "      <th>status</th>\n",
       "      <th>size</th>\n",
       "      <th>destination</th>\n",
       "      <th>request_agent</th>\n",
       "    </tr>\n",
       "    <tr>\n",
       "      <th>timestamp</th>\n",
       "      <th></th>\n",
       "      <th></th>\n",
       "      <th></th>\n",
       "      <th></th>\n",
       "      <th></th>\n",
       "      <th></th>\n",
       "    </tr>\n",
       "  </thead>\n",
       "  <tbody>\n",
       "    <tr>\n",
       "      <th>2019-04-16 19:34:42</th>\n",
       "      <td>97.105.19.58</td>\n",
       "      <td>GET /api/v1/sales HTTP/1.1</td>\n",
       "      <td>200</td>\n",
       "      <td>512495</td>\n",
       "      <td>NaN</td>\n",
       "      <td>python-requests/2.21.0</td>\n",
       "    </tr>\n",
       "    <tr>\n",
       "      <th>2019-04-16 19:34:42</th>\n",
       "      <td>97.105.19.58</td>\n",
       "      <td>GET /api/v1/items HTTP/1.1</td>\n",
       "      <td>200</td>\n",
       "      <td>3561</td>\n",
       "      <td>NaN</td>\n",
       "      <td>python-requests/2.21.0</td>\n",
       "    </tr>\n",
       "    <tr>\n",
       "      <th>2019-04-16 19:34:44</th>\n",
       "      <td>97.105.19.58</td>\n",
       "      <td>GET /api/v1/sales HTTP/1.1</td>\n",
       "      <td>200</td>\n",
       "      <td>510103</td>\n",
       "      <td>NaN</td>\n",
       "      <td>python-requests/2.21.0</td>\n",
       "    </tr>\n",
       "    <tr>\n",
       "      <th>2019-04-16 19:34:46</th>\n",
       "      <td>97.105.19.58</td>\n",
       "      <td>GET /api/v1/sales HTTP/1.1</td>\n",
       "      <td>200</td>\n",
       "      <td>510003</td>\n",
       "      <td>NaN</td>\n",
       "      <td>python-requests/2.21.0</td>\n",
       "    </tr>\n",
       "    <tr>\n",
       "      <th>2019-04-16 19:34:48</th>\n",
       "      <td>97.105.19.58</td>\n",
       "      <td>GET /api/v1/sales HTTP/1.1</td>\n",
       "      <td>200</td>\n",
       "      <td>511963</td>\n",
       "      <td>NaN</td>\n",
       "      <td>python-requests/2.21.0</td>\n",
       "    </tr>\n",
       "  </tbody>\n",
       "</table>\n",
       "</div>"
      ],
      "text/plain": [
       "                               ip              request_method  status    size  \\\n",
       "timestamp                                                                       \n",
       "2019-04-16 19:34:42  97.105.19.58  GET /api/v1/sales HTTP/1.1     200  512495   \n",
       "2019-04-16 19:34:42  97.105.19.58  GET /api/v1/items HTTP/1.1     200    3561   \n",
       "2019-04-16 19:34:44  97.105.19.58  GET /api/v1/sales HTTP/1.1     200  510103   \n",
       "2019-04-16 19:34:46  97.105.19.58  GET /api/v1/sales HTTP/1.1     200  510003   \n",
       "2019-04-16 19:34:48  97.105.19.58  GET /api/v1/sales HTTP/1.1     200  511963   \n",
       "\n",
       "                    destination           request_agent  \n",
       "timestamp                                                \n",
       "2019-04-16 19:34:42         NaN  python-requests/2.21.0  \n",
       "2019-04-16 19:34:42         NaN  python-requests/2.21.0  \n",
       "2019-04-16 19:34:44         NaN  python-requests/2.21.0  \n",
       "2019-04-16 19:34:46         NaN  python-requests/2.21.0  \n",
       "2019-04-16 19:34:48         NaN  python-requests/2.21.0  "
      ]
     },
     "execution_count": 42,
     "metadata": {},
     "output_type": "execute_result"
    }
   ],
   "source": [
    "df.head()"
   ]
  },
  {
   "cell_type": "code",
   "execution_count": 43,
   "metadata": {},
   "outputs": [],
   "source": [
    "df[\"request_agent\"] = df.request_agent.str.replace(r\" .+\", '', 1, regex=True)"
   ]
  },
  {
   "cell_type": "markdown",
   "metadata": {},
   "source": [
    "### Convert Bytes to MB"
   ]
  },
  {
   "cell_type": "code",
   "execution_count": 44,
   "metadata": {},
   "outputs": [],
   "source": [
    "# df['size_mb'] = [n/1024/1024 for n in df['size']]\n",
    "df[\"size_mb\"] = df[\"size\"] / 1024 / 1024"
   ]
  },
  {
   "cell_type": "code",
   "execution_count": 45,
   "metadata": {},
   "outputs": [
    {
     "data": {
      "text/html": [
       "<div>\n",
       "<style scoped>\n",
       "    .dataframe tbody tr th:only-of-type {\n",
       "        vertical-align: middle;\n",
       "    }\n",
       "\n",
       "    .dataframe tbody tr th {\n",
       "        vertical-align: top;\n",
       "    }\n",
       "\n",
       "    .dataframe thead th {\n",
       "        text-align: right;\n",
       "    }\n",
       "</style>\n",
       "<table border=\"1\" class=\"dataframe\">\n",
       "  <thead>\n",
       "    <tr style=\"text-align: right;\">\n",
       "      <th></th>\n",
       "      <th>status</th>\n",
       "      <th>size</th>\n",
       "      <th>size_mb</th>\n",
       "    </tr>\n",
       "  </thead>\n",
       "  <tbody>\n",
       "    <tr>\n",
       "      <th>count</th>\n",
       "      <td>13978.000000</td>\n",
       "      <td>1.397800e+04</td>\n",
       "      <td>13978.000000</td>\n",
       "    </tr>\n",
       "    <tr>\n",
       "      <th>mean</th>\n",
       "      <td>200.356703</td>\n",
       "      <td>4.500019e+05</td>\n",
       "      <td>0.429155</td>\n",
       "    </tr>\n",
       "    <tr>\n",
       "      <th>std</th>\n",
       "      <td>10.182001</td>\n",
       "      <td>1.614915e+05</td>\n",
       "      <td>0.154010</td>\n",
       "    </tr>\n",
       "    <tr>\n",
       "      <th>min</th>\n",
       "      <td>200.000000</td>\n",
       "      <td>0.000000e+00</td>\n",
       "      <td>0.000000</td>\n",
       "    </tr>\n",
       "    <tr>\n",
       "      <th>25%</th>\n",
       "      <td>200.000000</td>\n",
       "      <td>5.006370e+05</td>\n",
       "      <td>0.477445</td>\n",
       "    </tr>\n",
       "    <tr>\n",
       "      <th>50%</th>\n",
       "      <td>200.000000</td>\n",
       "      <td>5.101380e+05</td>\n",
       "      <td>0.486506</td>\n",
       "    </tr>\n",
       "    <tr>\n",
       "      <th>75%</th>\n",
       "      <td>200.000000</td>\n",
       "      <td>5.112910e+05</td>\n",
       "      <td>0.487605</td>\n",
       "    </tr>\n",
       "    <tr>\n",
       "      <th>max</th>\n",
       "      <td>499.000000</td>\n",
       "      <td>2.056327e+06</td>\n",
       "      <td>1.961066</td>\n",
       "    </tr>\n",
       "  </tbody>\n",
       "</table>\n",
       "</div>"
      ],
      "text/plain": [
       "             status          size       size_mb\n",
       "count  13978.000000  1.397800e+04  13978.000000\n",
       "mean     200.356703  4.500019e+05      0.429155\n",
       "std       10.182001  1.614915e+05      0.154010\n",
       "min      200.000000  0.000000e+00      0.000000\n",
       "25%      200.000000  5.006370e+05      0.477445\n",
       "50%      200.000000  5.101380e+05      0.486506\n",
       "75%      200.000000  5.112910e+05      0.487605\n",
       "max      499.000000  2.056327e+06      1.961066"
      ]
     },
     "execution_count": 45,
     "metadata": {},
     "output_type": "execute_result"
    }
   ],
   "source": [
    "df.describe()"
   ]
  },
  {
   "cell_type": "code",
   "execution_count": 46,
   "metadata": {},
   "outputs": [
    {
     "data": {
      "text/html": [
       "<div>\n",
       "<style scoped>\n",
       "    .dataframe tbody tr th:only-of-type {\n",
       "        vertical-align: middle;\n",
       "    }\n",
       "\n",
       "    .dataframe tbody tr th {\n",
       "        vertical-align: top;\n",
       "    }\n",
       "\n",
       "    .dataframe thead th {\n",
       "        text-align: right;\n",
       "    }\n",
       "</style>\n",
       "<table border=\"1\" class=\"dataframe\">\n",
       "  <thead>\n",
       "    <tr style=\"text-align: right;\">\n",
       "      <th></th>\n",
       "      <th>index</th>\n",
       "      <th>request_agent</th>\n",
       "    </tr>\n",
       "  </thead>\n",
       "  <tbody>\n",
       "    <tr>\n",
       "      <th>0</th>\n",
       "      <td>python-requests/2.21.0</td>\n",
       "      <td>12005</td>\n",
       "    </tr>\n",
       "    <tr>\n",
       "      <th>1</th>\n",
       "      <td>python-requests/2.20.1</td>\n",
       "      <td>1911</td>\n",
       "    </tr>\n",
       "    <tr>\n",
       "      <th>2</th>\n",
       "      <td>Mozilla/5.0</td>\n",
       "      <td>48</td>\n",
       "    </tr>\n",
       "    <tr>\n",
       "      <th>3</th>\n",
       "      <td>Slackbot-LinkExpanding</td>\n",
       "      <td>7</td>\n",
       "    </tr>\n",
       "    <tr>\n",
       "      <th>4</th>\n",
       "      <td>Slackbot</td>\n",
       "      <td>6</td>\n",
       "    </tr>\n",
       "    <tr>\n",
       "      <th>5</th>\n",
       "      <td>Python-urllib/3.7</td>\n",
       "      <td>1</td>\n",
       "    </tr>\n",
       "  </tbody>\n",
       "</table>\n",
       "</div>"
      ],
      "text/plain": [
       "                    index  request_agent\n",
       "0  python-requests/2.21.0          12005\n",
       "1  python-requests/2.20.1           1911\n",
       "2             Mozilla/5.0             48\n",
       "3  Slackbot-LinkExpanding              7\n",
       "4                Slackbot              6\n",
       "5       Python-urllib/3.7              1"
      ]
     },
     "execution_count": 46,
     "metadata": {},
     "output_type": "execute_result"
    }
   ],
   "source": [
    "df.request_agent.value_counts(dropna=False).reset_index()"
   ]
  },
  {
   "cell_type": "code",
   "execution_count": 47,
   "metadata": {},
   "outputs": [],
   "source": [
    "df_ra_count = pd.DataFrame(df.request_agent.value_counts(dropna=False))\\\n",
    "                 .reset_index()\\\n",
    "                 .rename(columns={\"index\": \"request_method\", \"request_agent\": \"request_agent_count\"})"
   ]
  },
  {
   "cell_type": "code",
   "execution_count": 48,
   "metadata": {},
   "outputs": [
    {
     "data": {
      "text/html": [
       "<div>\n",
       "<style scoped>\n",
       "    .dataframe tbody tr th:only-of-type {\n",
       "        vertical-align: middle;\n",
       "    }\n",
       "\n",
       "    .dataframe tbody tr th {\n",
       "        vertical-align: top;\n",
       "    }\n",
       "\n",
       "    .dataframe thead th {\n",
       "        text-align: right;\n",
       "    }\n",
       "</style>\n",
       "<table border=\"1\" class=\"dataframe\">\n",
       "  <thead>\n",
       "    <tr style=\"text-align: right;\">\n",
       "      <th></th>\n",
       "      <th>request_method</th>\n",
       "      <th>request_agent_count</th>\n",
       "    </tr>\n",
       "  </thead>\n",
       "  <tbody>\n",
       "    <tr>\n",
       "      <th>0</th>\n",
       "      <td>python-requests/2.21.0</td>\n",
       "      <td>12005</td>\n",
       "    </tr>\n",
       "    <tr>\n",
       "      <th>1</th>\n",
       "      <td>python-requests/2.20.1</td>\n",
       "      <td>1911</td>\n",
       "    </tr>\n",
       "    <tr>\n",
       "      <th>2</th>\n",
       "      <td>Mozilla/5.0</td>\n",
       "      <td>48</td>\n",
       "    </tr>\n",
       "    <tr>\n",
       "      <th>3</th>\n",
       "      <td>Slackbot-LinkExpanding</td>\n",
       "      <td>7</td>\n",
       "    </tr>\n",
       "    <tr>\n",
       "      <th>4</th>\n",
       "      <td>Slackbot</td>\n",
       "      <td>6</td>\n",
       "    </tr>\n",
       "  </tbody>\n",
       "</table>\n",
       "</div>"
      ],
      "text/plain": [
       "           request_method  request_agent_count\n",
       "0  python-requests/2.21.0                12005\n",
       "1  python-requests/2.20.1                 1911\n",
       "2             Mozilla/5.0                   48\n",
       "3  Slackbot-LinkExpanding                    7\n",
       "4                Slackbot                    6"
      ]
     },
     "execution_count": 48,
     "metadata": {},
     "output_type": "execute_result"
    }
   ],
   "source": [
    "df_ra_count.head()"
   ]
  },
  {
   "cell_type": "code",
   "execution_count": 49,
   "metadata": {},
   "outputs": [
    {
     "data": {
      "text/plain": [
       "python-requests/2.21.0    0.858850\n",
       "python-requests/2.20.1    0.136715\n",
       "Mozilla/5.0               0.003434\n",
       "Slackbot-LinkExpanding    0.000501\n",
       "Slackbot                  0.000429\n",
       "Python-urllib/3.7         0.000072\n",
       "Name: request_agent, dtype: float64"
      ]
     },
     "execution_count": 49,
     "metadata": {},
     "output_type": "execute_result"
    }
   ],
   "source": [
    "df.request_agent.value_counts(dropna=False) / df.request_agent.count()"
   ]
  },
  {
   "cell_type": "code",
   "execution_count": 50,
   "metadata": {},
   "outputs": [],
   "source": [
    "df_ra_proba = pd.DataFrame(df.request_agent.value_counts(dropna=False) / df.request_agent.count())\\\n",
    "                 .reset_index()\\\n",
    "                 .rename(columns={\"index\": \"request_method\", \"request_agent\": \"request_agent_proba\"})"
   ]
  },
  {
   "cell_type": "code",
   "execution_count": 51,
   "metadata": {},
   "outputs": [
    {
     "data": {
      "text/html": [
       "<div>\n",
       "<style scoped>\n",
       "    .dataframe tbody tr th:only-of-type {\n",
       "        vertical-align: middle;\n",
       "    }\n",
       "\n",
       "    .dataframe tbody tr th {\n",
       "        vertical-align: top;\n",
       "    }\n",
       "\n",
       "    .dataframe thead th {\n",
       "        text-align: right;\n",
       "    }\n",
       "</style>\n",
       "<table border=\"1\" class=\"dataframe\">\n",
       "  <thead>\n",
       "    <tr style=\"text-align: right;\">\n",
       "      <th></th>\n",
       "      <th>request_method</th>\n",
       "      <th>request_agent_proba</th>\n",
       "    </tr>\n",
       "  </thead>\n",
       "  <tbody>\n",
       "    <tr>\n",
       "      <th>0</th>\n",
       "      <td>python-requests/2.21.0</td>\n",
       "      <td>0.858850</td>\n",
       "    </tr>\n",
       "    <tr>\n",
       "      <th>1</th>\n",
       "      <td>python-requests/2.20.1</td>\n",
       "      <td>0.136715</td>\n",
       "    </tr>\n",
       "    <tr>\n",
       "      <th>2</th>\n",
       "      <td>Mozilla/5.0</td>\n",
       "      <td>0.003434</td>\n",
       "    </tr>\n",
       "    <tr>\n",
       "      <th>3</th>\n",
       "      <td>Slackbot-LinkExpanding</td>\n",
       "      <td>0.000501</td>\n",
       "    </tr>\n",
       "    <tr>\n",
       "      <th>4</th>\n",
       "      <td>Slackbot</td>\n",
       "      <td>0.000429</td>\n",
       "    </tr>\n",
       "  </tbody>\n",
       "</table>\n",
       "</div>"
      ],
      "text/plain": [
       "           request_method  request_agent_proba\n",
       "0  python-requests/2.21.0             0.858850\n",
       "1  python-requests/2.20.1             0.136715\n",
       "2             Mozilla/5.0             0.003434\n",
       "3  Slackbot-LinkExpanding             0.000501\n",
       "4                Slackbot             0.000429"
      ]
     },
     "execution_count": 51,
     "metadata": {},
     "output_type": "execute_result"
    }
   ],
   "source": [
    "df_ra_proba.head()"
   ]
  },
  {
   "cell_type": "code",
   "execution_count": 52,
   "metadata": {},
   "outputs": [],
   "source": [
    "df_ra = df_ra_count.merge(df_ra_proba)"
   ]
  },
  {
   "cell_type": "code",
   "execution_count": 53,
   "metadata": {},
   "outputs": [
    {
     "data": {
      "text/html": [
       "<div>\n",
       "<style scoped>\n",
       "    .dataframe tbody tr th:only-of-type {\n",
       "        vertical-align: middle;\n",
       "    }\n",
       "\n",
       "    .dataframe tbody tr th {\n",
       "        vertical-align: top;\n",
       "    }\n",
       "\n",
       "    .dataframe thead th {\n",
       "        text-align: right;\n",
       "    }\n",
       "</style>\n",
       "<table border=\"1\" class=\"dataframe\">\n",
       "  <thead>\n",
       "    <tr style=\"text-align: right;\">\n",
       "      <th></th>\n",
       "      <th>request_method</th>\n",
       "      <th>request_agent_count</th>\n",
       "      <th>request_agent_proba</th>\n",
       "    </tr>\n",
       "  </thead>\n",
       "  <tbody>\n",
       "    <tr>\n",
       "      <th>0</th>\n",
       "      <td>python-requests/2.21.0</td>\n",
       "      <td>12005</td>\n",
       "      <td>0.858850</td>\n",
       "    </tr>\n",
       "    <tr>\n",
       "      <th>1</th>\n",
       "      <td>python-requests/2.20.1</td>\n",
       "      <td>1911</td>\n",
       "      <td>0.136715</td>\n",
       "    </tr>\n",
       "    <tr>\n",
       "      <th>2</th>\n",
       "      <td>Mozilla/5.0</td>\n",
       "      <td>48</td>\n",
       "      <td>0.003434</td>\n",
       "    </tr>\n",
       "    <tr>\n",
       "      <th>3</th>\n",
       "      <td>Slackbot-LinkExpanding</td>\n",
       "      <td>7</td>\n",
       "      <td>0.000501</td>\n",
       "    </tr>\n",
       "    <tr>\n",
       "      <th>4</th>\n",
       "      <td>Slackbot</td>\n",
       "      <td>6</td>\n",
       "      <td>0.000429</td>\n",
       "    </tr>\n",
       "    <tr>\n",
       "      <th>5</th>\n",
       "      <td>Python-urllib/3.7</td>\n",
       "      <td>1</td>\n",
       "      <td>0.000072</td>\n",
       "    </tr>\n",
       "  </tbody>\n",
       "</table>\n",
       "</div>"
      ],
      "text/plain": [
       "           request_method  request_agent_count  request_agent_proba\n",
       "0  python-requests/2.21.0                12005             0.858850\n",
       "1  python-requests/2.20.1                 1911             0.136715\n",
       "2             Mozilla/5.0                   48             0.003434\n",
       "3  Slackbot-LinkExpanding                    7             0.000501\n",
       "4                Slackbot                    6             0.000429\n",
       "5       Python-urllib/3.7                    1             0.000072"
      ]
     },
     "execution_count": 53,
     "metadata": {},
     "output_type": "execute_result"
    }
   ],
   "source": [
    "df_ra"
   ]
  },
  {
   "cell_type": "markdown",
   "metadata": {},
   "source": [
    "### Low Probabilities"
   ]
  },
  {
   "cell_type": "code",
   "execution_count": 54,
   "metadata": {},
   "outputs": [
    {
     "data": {
      "text/html": [
       "<div>\n",
       "<style scoped>\n",
       "    .dataframe tbody tr th:only-of-type {\n",
       "        vertical-align: middle;\n",
       "    }\n",
       "\n",
       "    .dataframe tbody tr th {\n",
       "        vertical-align: top;\n",
       "    }\n",
       "\n",
       "    .dataframe thead th {\n",
       "        text-align: right;\n",
       "    }\n",
       "</style>\n",
       "<table border=\"1\" class=\"dataframe\">\n",
       "  <thead>\n",
       "    <tr style=\"text-align: right;\">\n",
       "      <th></th>\n",
       "      <th>request_method</th>\n",
       "      <th>request_agent_count</th>\n",
       "      <th>request_agent_proba</th>\n",
       "    </tr>\n",
       "  </thead>\n",
       "  <tbody>\n",
       "    <tr>\n",
       "      <th>2</th>\n",
       "      <td>Mozilla/5.0</td>\n",
       "      <td>48</td>\n",
       "      <td>0.003434</td>\n",
       "    </tr>\n",
       "    <tr>\n",
       "      <th>3</th>\n",
       "      <td>Slackbot-LinkExpanding</td>\n",
       "      <td>7</td>\n",
       "      <td>0.000501</td>\n",
       "    </tr>\n",
       "    <tr>\n",
       "      <th>4</th>\n",
       "      <td>Slackbot</td>\n",
       "      <td>6</td>\n",
       "      <td>0.000429</td>\n",
       "    </tr>\n",
       "    <tr>\n",
       "      <th>5</th>\n",
       "      <td>Python-urllib/3.7</td>\n",
       "      <td>1</td>\n",
       "      <td>0.000072</td>\n",
       "    </tr>\n",
       "  </tbody>\n",
       "</table>\n",
       "</div>"
      ],
      "text/plain": [
       "           request_method  request_agent_count  request_agent_proba\n",
       "2             Mozilla/5.0                   48             0.003434\n",
       "3  Slackbot-LinkExpanding                    7             0.000501\n",
       "4                Slackbot                    6             0.000429\n",
       "5       Python-urllib/3.7                    1             0.000072"
      ]
     },
     "execution_count": 54,
     "metadata": {},
     "output_type": "execute_result"
    }
   ],
   "source": [
    "df_ra[df_ra.request_agent_proba < 0.01]"
   ]
  },
  {
   "cell_type": "markdown",
   "metadata": {},
   "source": [
    "### Visualize"
   ]
  },
  {
   "cell_type": "code",
   "execution_count": 55,
   "metadata": {},
   "outputs": [
    {
     "data": {
      "image/png": "[encoded data removed]",
      "text/plain": [
       "<Figure size 864x432 with 1 Axes>"
      ]
     },
     "metadata": {
      "needs_background": "light"
     },
     "output_type": "display_data"
    }
   ],
   "source": [
    "plt.figure(figsize=(12, 6))\n",
    "splot = sns.barplot(data=df_ra, x=\"request_method\", y=\"request_agent_count\", ci=None)\n",
    "for p in splot.patches:\n",
    "    splot.annotate(format(p.get_height(), \".0f\"),\n",
    "                   (p.get_x() + p.get_width() / 2., p.get_height()),\n",
    "                   ha=\"center\", va=\"center\", xytext=(0, 10),\n",
    "                   textcoords=\"offset points\")\n",
    "    plt.xticks(rotation=20)"
   ]
  },
  {
   "cell_type": "code",
   "execution_count": 56,
   "metadata": {},
   "outputs": [
    {
     "data": {
      "text/plain": [
       "Index(['ip', 'request_method', 'status', 'size', 'destination',\n",
       "       'request_agent', 'size_mb'],\n",
       "      dtype='object')"
      ]
     },
     "execution_count": 56,
     "metadata": {},
     "output_type": "execute_result"
    }
   ],
   "source": [
    "df.columns"
   ]
  },
  {
   "cell_type": "code",
   "execution_count": 57,
   "metadata": {},
   "outputs": [
    {
     "data": {
      "text/plain": [
       "Timestamp('2019-04-16 19:34:42')"
      ]
     },
     "execution_count": 57,
     "metadata": {},
     "output_type": "execute_result"
    }
   ],
   "source": [
    "df.index.min()"
   ]
  },
  {
   "cell_type": "code",
   "execution_count": 58,
   "metadata": {},
   "outputs": [
    {
     "data": {
      "text/html": [
       "<div>\n",
       "<style scoped>\n",
       "    .dataframe tbody tr th:only-of-type {\n",
       "        vertical-align: middle;\n",
       "    }\n",
       "\n",
       "    .dataframe tbody tr th {\n",
       "        vertical-align: top;\n",
       "    }\n",
       "\n",
       "    .dataframe thead th {\n",
       "        text-align: right;\n",
       "    }\n",
       "</style>\n",
       "<table border=\"1\" class=\"dataframe\">\n",
       "  <thead>\n",
       "    <tr style=\"text-align: right;\">\n",
       "      <th></th>\n",
       "      <th>ip</th>\n",
       "      <th>request_method</th>\n",
       "      <th>status</th>\n",
       "      <th>size</th>\n",
       "      <th>destination</th>\n",
       "      <th>request_agent</th>\n",
       "      <th>size_mb</th>\n",
       "    </tr>\n",
       "    <tr>\n",
       "      <th>timestamp</th>\n",
       "      <th></th>\n",
       "      <th></th>\n",
       "      <th></th>\n",
       "      <th></th>\n",
       "      <th></th>\n",
       "      <th></th>\n",
       "      <th></th>\n",
       "    </tr>\n",
       "  </thead>\n",
       "  <tbody>\n",
       "    <tr>\n",
       "      <th>2019-04-17 12:55:12</th>\n",
       "      <td>97.105.19.58</td>\n",
       "      <td>GET /api/v1/sales HTTP/1.1</td>\n",
       "      <td>200</td>\n",
       "      <td>511201</td>\n",
       "      <td>NaN</td>\n",
       "      <td>python-requests/2.21.0</td>\n",
       "      <td>0.487519</td>\n",
       "    </tr>\n",
       "    <tr>\n",
       "      <th>2019-04-17 12:55:13</th>\n",
       "      <td>97.105.19.58</td>\n",
       "      <td>GET /api/v1/sales HTTP/1.1</td>\n",
       "      <td>200</td>\n",
       "      <td>511781</td>\n",
       "      <td>NaN</td>\n",
       "      <td>python-requests/2.21.0</td>\n",
       "      <td>0.488072</td>\n",
       "    </tr>\n",
       "    <tr>\n",
       "      <th>2019-04-17 12:55:13</th>\n",
       "      <td>97.105.19.58</td>\n",
       "      <td>GET /api/v1/sales HTTP/1.1</td>\n",
       "      <td>200</td>\n",
       "      <td>510136</td>\n",
       "      <td>NaN</td>\n",
       "      <td>python-requests/2.21.0</td>\n",
       "      <td>0.486504</td>\n",
       "    </tr>\n",
       "    <tr>\n",
       "      <th>2019-04-17 12:55:14</th>\n",
       "      <td>97.105.19.58</td>\n",
       "      <td>GET /api/v1/sales HTTP/1.1</td>\n",
       "      <td>200</td>\n",
       "      <td>510166</td>\n",
       "      <td>NaN</td>\n",
       "      <td>python-requests/2.21.0</td>\n",
       "      <td>0.486532</td>\n",
       "    </tr>\n",
       "    <tr>\n",
       "      <th>2019-04-17 19:36:41</th>\n",
       "      <td>95.31.16.121</td>\n",
       "      <td>GET /api/v1/sales/HTTP/1.1</td>\n",
       "      <td>301</td>\n",
       "      <td>1005</td>\n",
       "      <td>NaN</td>\n",
       "      <td>python-requests/2.21.0</td>\n",
       "      <td>0.000958</td>\n",
       "    </tr>\n",
       "  </tbody>\n",
       "</table>\n",
       "</div>"
      ],
      "text/plain": [
       "                               ip              request_method  status    size  \\\n",
       "timestamp                                                                       \n",
       "2019-04-17 12:55:12  97.105.19.58  GET /api/v1/sales HTTP/1.1     200  511201   \n",
       "2019-04-17 12:55:13  97.105.19.58  GET /api/v1/sales HTTP/1.1     200  511781   \n",
       "2019-04-17 12:55:13  97.105.19.58  GET /api/v1/sales HTTP/1.1     200  510136   \n",
       "2019-04-17 12:55:14  97.105.19.58  GET /api/v1/sales HTTP/1.1     200  510166   \n",
       "2019-04-17 19:36:41  95.31.16.121  GET /api/v1/sales/HTTP/1.1     301    1005   \n",
       "\n",
       "                    destination           request_agent   size_mb  \n",
       "timestamp                                                          \n",
       "2019-04-17 12:55:12         NaN  python-requests/2.21.0  0.487519  \n",
       "2019-04-17 12:55:13         NaN  python-requests/2.21.0  0.488072  \n",
       "2019-04-17 12:55:13         NaN  python-requests/2.21.0  0.486504  \n",
       "2019-04-17 12:55:14         NaN  python-requests/2.21.0  0.486532  \n",
       "2019-04-17 19:36:41         NaN  python-requests/2.21.0  0.000958  "
      ]
     },
     "execution_count": 58,
     "metadata": {},
     "output_type": "execute_result"
    }
   ],
   "source": [
    "df[df.index < \"2019-04-18\"].tail()"
   ]
  },
  {
   "cell_type": "code",
   "execution_count": 59,
   "metadata": {},
   "outputs": [],
   "source": [
    "train = df[\"2019-04-16 19:34:42\":\"2019-04-17 12:55:14\"]"
   ]
  },
  {
   "cell_type": "code",
   "execution_count": 62,
   "metadata": {},
   "outputs": [],
   "source": [
    "df_ra = pd.DataFrame(train.request_agent.value_counts(dropna=False) / train.request_agent.count())\\\n",
    "          .reset_index()\\\n",
    "          .rename(columns={\"index\": \"request_agent\", \"request_agent\": \"ra_prob\"})"
   ]
  },
  {
   "cell_type": "code",
   "execution_count": 65,
   "metadata": {},
   "outputs": [
    {
     "data": {
      "text/html": [
       "<div>\n",
       "<style scoped>\n",
       "    .dataframe tbody tr th:only-of-type {\n",
       "        vertical-align: middle;\n",
       "    }\n",
       "\n",
       "    .dataframe tbody tr th {\n",
       "        vertical-align: top;\n",
       "    }\n",
       "\n",
       "    .dataframe thead th {\n",
       "        text-align: right;\n",
       "    }\n",
       "</style>\n",
       "<table border=\"1\" class=\"dataframe\">\n",
       "  <thead>\n",
       "    <tr style=\"text-align: right;\">\n",
       "      <th></th>\n",
       "      <th>request_agent</th>\n",
       "      <th>ra_prob</th>\n",
       "    </tr>\n",
       "  </thead>\n",
       "  <tbody>\n",
       "    <tr>\n",
       "      <th>0</th>\n",
       "      <td>python-requests/2.21.0</td>\n",
       "      <td>0.858799</td>\n",
       "    </tr>\n",
       "    <tr>\n",
       "      <th>1</th>\n",
       "      <td>python-requests/2.20.1</td>\n",
       "      <td>0.136764</td>\n",
       "    </tr>\n",
       "    <tr>\n",
       "      <th>2</th>\n",
       "      <td>Mozilla/5.0</td>\n",
       "      <td>0.003435</td>\n",
       "    </tr>\n",
       "    <tr>\n",
       "      <th>3</th>\n",
       "      <td>Slackbot-LinkExpanding</td>\n",
       "      <td>0.000501</td>\n",
       "    </tr>\n",
       "    <tr>\n",
       "      <th>4</th>\n",
       "      <td>Slackbot</td>\n",
       "      <td>0.000429</td>\n",
       "    </tr>\n",
       "    <tr>\n",
       "      <th>5</th>\n",
       "      <td>Python-urllib/3.7</td>\n",
       "      <td>0.000072</td>\n",
       "    </tr>\n",
       "  </tbody>\n",
       "</table>\n",
       "</div>"
      ],
      "text/plain": [
       "            request_agent   ra_prob\n",
       "0  python-requests/2.21.0  0.858799\n",
       "1  python-requests/2.20.1  0.136764\n",
       "2             Mozilla/5.0  0.003435\n",
       "3  Slackbot-LinkExpanding  0.000501\n",
       "4                Slackbot  0.000429\n",
       "5       Python-urllib/3.7  0.000072"
      ]
     },
     "execution_count": 65,
     "metadata": {},
     "output_type": "execute_result"
    }
   ],
   "source": [
    "df_ra"
   ]
  },
  {
   "cell_type": "code",
   "execution_count": 71,
   "metadata": {},
   "outputs": [
    {
     "data": {
      "text/plain": [
       "python-requests/2.21.0    12000\n",
       "python-requests/2.20.1     1911\n",
       "Mozilla/5.0                  48\n",
       "Slackbot-LinkExpanding        7\n",
       "Slackbot                      6\n",
       "Python-urllib/3.7             1\n",
       "Name: request_agent, dtype: int64"
      ]
     },
     "execution_count": 71,
     "metadata": {},
     "output_type": "execute_result"
    }
   ],
   "source": [
    "train.request_agent.value_counts(dropna=False)"
   ]
  },
  {
   "cell_type": "code",
   "execution_count": 67,
   "metadata": {},
   "outputs": [],
   "source": [
    "df = df.reset_index().merge(df_ra, on=\"request_agent\", how=\"left\")\\\n",
    "                .fillna(value=0).set_index(\"timestamp\")"
   ]
  },
  {
   "cell_type": "code",
   "execution_count": 68,
   "metadata": {},
   "outputs": [
    {
     "data": {
      "text/plain": [
       "0.858799    12005\n",
       "0.136764     1911\n",
       "0.003435       48\n",
       "0.000501        7\n",
       "0.000429        6\n",
       "0.000072        1\n",
       "Name: ra_prob, dtype: int64"
      ]
     },
     "execution_count": 68,
     "metadata": {},
     "output_type": "execute_result"
    }
   ],
   "source": [
    "df.ra_prob.value_counts(dropna=False)"
   ]
  },
  {
   "cell_type": "code",
   "execution_count": 72,
   "metadata": {},
   "outputs": [
    {
     "data": {
      "text/html": [
       "<div>\n",
       "<style scoped>\n",
       "    .dataframe tbody tr th:only-of-type {\n",
       "        vertical-align: middle;\n",
       "    }\n",
       "\n",
       "    .dataframe tbody tr th {\n",
       "        vertical-align: top;\n",
       "    }\n",
       "\n",
       "    .dataframe thead th {\n",
       "        text-align: right;\n",
       "    }\n",
       "</style>\n",
       "<table border=\"1\" class=\"dataframe\">\n",
       "  <thead>\n",
       "    <tr style=\"text-align: right;\">\n",
       "      <th></th>\n",
       "      <th>ip</th>\n",
       "      <th>request_method</th>\n",
       "      <th>status</th>\n",
       "      <th>size</th>\n",
       "      <th>destination</th>\n",
       "      <th>request_agent</th>\n",
       "      <th>size_mb</th>\n",
       "      <th>ra_prob</th>\n",
       "    </tr>\n",
       "    <tr>\n",
       "      <th>timestamp</th>\n",
       "      <th></th>\n",
       "      <th></th>\n",
       "      <th></th>\n",
       "      <th></th>\n",
       "      <th></th>\n",
       "      <th></th>\n",
       "      <th></th>\n",
       "      <th></th>\n",
       "    </tr>\n",
       "  </thead>\n",
       "  <tbody>\n",
       "    <tr>\n",
       "      <th>2019-04-16 20:57:38</th>\n",
       "      <td>97.105.19.58</td>\n",
       "      <td>GET /api/v1/items&amp;page=0 HTTP/1.1</td>\n",
       "      <td>200</td>\n",
       "      <td>162</td>\n",
       "      <td>0</td>\n",
       "      <td>Python-urllib/3.7</td>\n",
       "      <td>0.000154</td>\n",
       "      <td>0.000072</td>\n",
       "    </tr>\n",
       "  </tbody>\n",
       "</table>\n",
       "</div>"
      ],
      "text/plain": [
       "                               ip                     request_method  status  \\\n",
       "timestamp                                                                      \n",
       "2019-04-16 20:57:38  97.105.19.58  GET /api/v1/items&page=0 HTTP/1.1     200   \n",
       "\n",
       "                     size destination      request_agent   size_mb   ra_prob  \n",
       "timestamp                                                                     \n",
       "2019-04-16 20:57:38   162           0  Python-urllib/3.7  0.000154  0.000072  "
      ]
     },
     "execution_count": 72,
     "metadata": {},
     "output_type": "execute_result"
    }
   ],
   "source": [
    "df[df.request_agent == \"Python-urllib/3.7\"]"
   ]
  },
  {
   "cell_type": "code",
   "execution_count": 73,
   "metadata": {},
   "outputs": [
    {
     "data": {
      "text/html": [
       "<div>\n",
       "<style scoped>\n",
       "    .dataframe tbody tr th:only-of-type {\n",
       "        vertical-align: middle;\n",
       "    }\n",
       "\n",
       "    .dataframe tbody tr th {\n",
       "        vertical-align: top;\n",
       "    }\n",
       "\n",
       "    .dataframe thead th {\n",
       "        text-align: right;\n",
       "    }\n",
       "</style>\n",
       "<table border=\"1\" class=\"dataframe\">\n",
       "  <thead>\n",
       "    <tr style=\"text-align: right;\">\n",
       "      <th></th>\n",
       "      <th>ip</th>\n",
       "      <th>request_method</th>\n",
       "      <th>status</th>\n",
       "      <th>size</th>\n",
       "      <th>destination</th>\n",
       "      <th>request_agent</th>\n",
       "      <th>size_mb</th>\n",
       "      <th>ra_prob</th>\n",
       "    </tr>\n",
       "    <tr>\n",
       "      <th>timestamp</th>\n",
       "      <th></th>\n",
       "      <th></th>\n",
       "      <th></th>\n",
       "      <th></th>\n",
       "      <th></th>\n",
       "      <th></th>\n",
       "      <th></th>\n",
       "      <th></th>\n",
       "    </tr>\n",
       "  </thead>\n",
       "  <tbody>\n",
       "    <tr>\n",
       "      <th>2019-04-16 19:39:15</th>\n",
       "      <td>52.90.165.200</td>\n",
       "      <td>GET /favicon.ico HTTP/1.1</td>\n",
       "      <td>200</td>\n",
       "      <td>162</td>\n",
       "      <td>0</td>\n",
       "      <td>Slackbot</td>\n",
       "      <td>0.000154</td>\n",
       "      <td>0.000429</td>\n",
       "    </tr>\n",
       "    <tr>\n",
       "      <th>2019-04-16 19:40:33</th>\n",
       "      <td>34.207.64.242</td>\n",
       "      <td>GET /favicon.ico HTTP/1.1</td>\n",
       "      <td>200</td>\n",
       "      <td>162</td>\n",
       "      <td>0</td>\n",
       "      <td>Slackbot</td>\n",
       "      <td>0.000154</td>\n",
       "      <td>0.000429</td>\n",
       "    </tr>\n",
       "    <tr>\n",
       "      <th>2019-04-16 19:40:37</th>\n",
       "      <td>34.229.70.250</td>\n",
       "      <td>GET /favicon.ico HTTP/1.1</td>\n",
       "      <td>200</td>\n",
       "      <td>162</td>\n",
       "      <td>0</td>\n",
       "      <td>Slackbot</td>\n",
       "      <td>0.000154</td>\n",
       "      <td>0.000429</td>\n",
       "    </tr>\n",
       "    <tr>\n",
       "      <th>2019-04-16 21:22:22</th>\n",
       "      <td>54.145.52.184</td>\n",
       "      <td>GET /favicon.ico HTTP/1.1</td>\n",
       "      <td>200</td>\n",
       "      <td>162</td>\n",
       "      <td>0</td>\n",
       "      <td>Slackbot</td>\n",
       "      <td>0.000154</td>\n",
       "      <td>0.000429</td>\n",
       "    </tr>\n",
       "    <tr>\n",
       "      <th>2019-04-16 21:38:57</th>\n",
       "      <td>35.174.209.2</td>\n",
       "      <td>GET /favicon.ico HTTP/1.1</td>\n",
       "      <td>200</td>\n",
       "      <td>162</td>\n",
       "      <td>0</td>\n",
       "      <td>Slackbot</td>\n",
       "      <td>0.000154</td>\n",
       "      <td>0.000429</td>\n",
       "    </tr>\n",
       "    <tr>\n",
       "      <th>2019-04-17 02:14:28</th>\n",
       "      <td>52.87.230.102</td>\n",
       "      <td>GET /favicon.ico HTTP/1.1</td>\n",
       "      <td>200</td>\n",
       "      <td>162</td>\n",
       "      <td>0</td>\n",
       "      <td>Slackbot</td>\n",
       "      <td>0.000154</td>\n",
       "      <td>0.000429</td>\n",
       "    </tr>\n",
       "  </tbody>\n",
       "</table>\n",
       "</div>"
      ],
      "text/plain": [
       "                                ip             request_method  status  size  \\\n",
       "timestamp                                                                     \n",
       "2019-04-16 19:39:15  52.90.165.200  GET /favicon.ico HTTP/1.1     200   162   \n",
       "2019-04-16 19:40:33  34.207.64.242  GET /favicon.ico HTTP/1.1     200   162   \n",
       "2019-04-16 19:40:37  34.229.70.250  GET /favicon.ico HTTP/1.1     200   162   \n",
       "2019-04-16 21:22:22  54.145.52.184  GET /favicon.ico HTTP/1.1     200   162   \n",
       "2019-04-16 21:38:57   35.174.209.2  GET /favicon.ico HTTP/1.1     200   162   \n",
       "2019-04-17 02:14:28  52.87.230.102  GET /favicon.ico HTTP/1.1     200   162   \n",
       "\n",
       "                    destination request_agent   size_mb   ra_prob  \n",
       "timestamp                                                          \n",
       "2019-04-16 19:39:15           0      Slackbot  0.000154  0.000429  \n",
       "2019-04-16 19:40:33           0      Slackbot  0.000154  0.000429  \n",
       "2019-04-16 19:40:37           0      Slackbot  0.000154  0.000429  \n",
       "2019-04-16 21:22:22           0      Slackbot  0.000154  0.000429  \n",
       "2019-04-16 21:38:57           0      Slackbot  0.000154  0.000429  \n",
       "2019-04-17 02:14:28           0      Slackbot  0.000154  0.000429  "
      ]
     },
     "execution_count": 73,
     "metadata": {},
     "output_type": "execute_result"
    }
   ],
   "source": [
    "df[df.request_agent == \"Slackbot\"]"
   ]
  },
  {
   "cell_type": "markdown",
   "metadata": {},
   "source": [
    "## Conditional Probability\n",
    "\n",
    "**Given a particular request_agent, what is the likelihood of the request_method?**"
   ]
  },
  {
   "cell_type": "code",
   "execution_count": 74,
   "metadata": {},
   "outputs": [],
   "source": [
    "ra_probs = train.groupby(\"request_agent\").size().div(len(df))"
   ]
  },
  {
   "cell_type": "code",
   "execution_count": 75,
   "metadata": {},
   "outputs": [
    {
     "data": {
      "text/plain": [
       "request_agent\n",
       "Mozilla/5.0               0.003434\n",
       "Python-urllib/3.7         0.000072\n",
       "Slackbot                  0.000429\n",
       "Slackbot-LinkExpanding    0.000501\n",
       "python-requests/2.20.1    0.136715\n",
       "python-requests/2.21.0    0.858492\n",
       "dtype: float64"
      ]
     },
     "execution_count": 75,
     "metadata": {},
     "output_type": "execute_result"
    }
   ],
   "source": [
    "ra_probs"
   ]
  },
  {
   "cell_type": "code",
   "execution_count": 76,
   "metadata": {},
   "outputs": [],
   "source": [
    "request_given_agent = pd.DataFrame(train.groupby([\"request_agent\", \"request_method\"])\\\n",
    "                                   .size().div(len(train))\\\n",
    "                                   .div(ra_probs, axis=0, level=\"request_agent\")\\\n",
    "                                   .reset_index()\\\n",
    "                                   .rename(columns={0: \"proba_request_given_agent\"}))"
   ]
  },
  {
   "cell_type": "code",
   "execution_count": 80,
   "metadata": {},
   "outputs": [
    {
     "data": {
      "text/html": [
       "<div>\n",
       "<style scoped>\n",
       "    .dataframe tbody tr th:only-of-type {\n",
       "        vertical-align: middle;\n",
       "    }\n",
       "\n",
       "    .dataframe tbody tr th {\n",
       "        vertical-align: top;\n",
       "    }\n",
       "\n",
       "    .dataframe thead th {\n",
       "        text-align: right;\n",
       "    }\n",
       "</style>\n",
       "<table border=\"1\" class=\"dataframe\">\n",
       "  <thead>\n",
       "    <tr style=\"text-align: right;\">\n",
       "      <th></th>\n",
       "      <th>request_agent</th>\n",
       "      <th>request_method</th>\n",
       "      <th>proba_request_given_agent</th>\n",
       "    </tr>\n",
       "  </thead>\n",
       "  <tbody>\n",
       "    <tr>\n",
       "      <th>0</th>\n",
       "      <td>Mozilla/5.0</td>\n",
       "      <td>GET / HTTP/1.1</td>\n",
       "      <td>0.104204</td>\n",
       "    </tr>\n",
       "    <tr>\n",
       "      <th>1</th>\n",
       "      <td>Mozilla/5.0</td>\n",
       "      <td>GET /api/V1/HiZach! HTTP/1.1</td>\n",
       "      <td>0.020841</td>\n",
       "    </tr>\n",
       "    <tr>\n",
       "      <th>2</th>\n",
       "      <td>Mozilla/5.0</td>\n",
       "      <td>GET /api/v1/ HTTP/1.1</td>\n",
       "      <td>0.041682</td>\n",
       "    </tr>\n",
       "    <tr>\n",
       "      <th>3</th>\n",
       "      <td>Mozilla/5.0</td>\n",
       "      <td>GET /api/v1//api/v1/items HTTP/1.1</td>\n",
       "      <td>0.041682</td>\n",
       "    </tr>\n",
       "    <tr>\n",
       "      <th>4</th>\n",
       "      <td>Mozilla/5.0</td>\n",
       "      <td>GET /api/v1//api/v1/items/next_page HTTP/1.1</td>\n",
       "      <td>0.020841</td>\n",
       "    </tr>\n",
       "  </tbody>\n",
       "</table>\n",
       "</div>"
      ],
      "text/plain": [
       "  request_agent                                request_method  \\\n",
       "0   Mozilla/5.0                                GET / HTTP/1.1   \n",
       "1   Mozilla/5.0                  GET /api/V1/HiZach! HTTP/1.1   \n",
       "2   Mozilla/5.0                         GET /api/v1/ HTTP/1.1   \n",
       "3   Mozilla/5.0            GET /api/v1//api/v1/items HTTP/1.1   \n",
       "4   Mozilla/5.0  GET /api/v1//api/v1/items/next_page HTTP/1.1   \n",
       "\n",
       "   proba_request_given_agent  \n",
       "0                   0.104204  \n",
       "1                   0.020841  \n",
       "2                   0.041682  \n",
       "3                   0.041682  \n",
       "4                   0.020841  "
      ]
     },
     "execution_count": 80,
     "metadata": {},
     "output_type": "execute_result"
    }
   ],
   "source": [
    "request_given_agent.head()"
   ]
  },
  {
   "cell_type": "code",
   "execution_count": 87,
   "metadata": {},
   "outputs": [
    {
     "data": {
      "text/html": [
       "<div>\n",
       "<style scoped>\n",
       "    .dataframe tbody tr th:only-of-type {\n",
       "        vertical-align: middle;\n",
       "    }\n",
       "\n",
       "    .dataframe tbody tr th {\n",
       "        vertical-align: top;\n",
       "    }\n",
       "\n",
       "    .dataframe thead th {\n",
       "        text-align: right;\n",
       "    }\n",
       "</style>\n",
       "<table border=\"1\" class=\"dataframe\">\n",
       "  <thead>\n",
       "    <tr style=\"text-align: right;\">\n",
       "      <th></th>\n",
       "      <th>request_agent</th>\n",
       "      <th>request_method</th>\n",
       "    </tr>\n",
       "    <tr>\n",
       "      <th>proba_request_given_agent</th>\n",
       "      <th></th>\n",
       "      <th></th>\n",
       "    </tr>\n",
       "  </thead>\n",
       "  <tbody>\n",
       "    <tr>\n",
       "      <th>0.000083</th>\n",
       "      <td>python-requests/2.21.0</td>\n",
       "      <td>GET /api/v1/ HTTP/1.1</td>\n",
       "    </tr>\n",
       "    <tr>\n",
       "      <th>0.000083</th>\n",
       "      <td>python-requests/2.21.0</td>\n",
       "      <td>GET /api/v1 HTTP/1.1</td>\n",
       "    </tr>\n",
       "    <tr>\n",
       "      <th>0.000167</th>\n",
       "      <td>python-requests/2.21.0</td>\n",
       "      <td>GET /api/v1items HTTP/1.1</td>\n",
       "    </tr>\n",
       "    <tr>\n",
       "      <th>0.000250</th>\n",
       "      <td>python-requests/2.21.0</td>\n",
       "      <td>GET /api/v1/store HTTP/1.1</td>\n",
       "    </tr>\n",
       "    <tr>\n",
       "      <th>0.000250</th>\n",
       "      <td>python-requests/2.21.0</td>\n",
       "      <td>GET /api/v1/sales/ HTTP/1.1</td>\n",
       "    </tr>\n",
       "    <tr>\n",
       "      <th>0.000250</th>\n",
       "      <td>python-requests/2.21.0</td>\n",
       "      <td>GET /api/v1/itemsitems HTTP/1.1</td>\n",
       "    </tr>\n",
       "    <tr>\n",
       "      <th>0.000417</th>\n",
       "      <td>python-requests/2.21.0</td>\n",
       "      <td>GET /api/v1/items/next_page HTTP/1.1</td>\n",
       "    </tr>\n",
       "    <tr>\n",
       "      <th>0.000584</th>\n",
       "      <td>python-requests/2.21.0</td>\n",
       "      <td>GET /api/v1/items/api/v1/items HTTP/1.1</td>\n",
       "    </tr>\n",
       "    <tr>\n",
       "      <th>0.000750</th>\n",
       "      <td>python-requests/2.21.0</td>\n",
       "      <td>GET /api/v1//api/v1/items HTTP/1.1</td>\n",
       "    </tr>\n",
       "    <tr>\n",
       "      <th>0.002617</th>\n",
       "      <td>python-requests/2.20.1</td>\n",
       "      <td>GET /api/v1/stores HTTP/1.1</td>\n",
       "    </tr>\n",
       "    <tr>\n",
       "      <th>0.004188</th>\n",
       "      <td>python-requests/2.20.1</td>\n",
       "      <td>GET / HTTP/1.1</td>\n",
       "    </tr>\n",
       "    <tr>\n",
       "      <th>0.006282</th>\n",
       "      <td>python-requests/2.20.1</td>\n",
       "      <td>GET /documentation HTTP/1.1</td>\n",
       "    </tr>\n",
       "    <tr>\n",
       "      <th>0.007253</th>\n",
       "      <td>python-requests/2.21.0</td>\n",
       "      <td>GET /documentation HTTP/1.1</td>\n",
       "    </tr>\n",
       "    <tr>\n",
       "      <th>0.007586</th>\n",
       "      <td>python-requests/2.21.0</td>\n",
       "      <td>GET / HTTP/1.1</td>\n",
       "    </tr>\n",
       "    <tr>\n",
       "      <th>0.007852</th>\n",
       "      <td>python-requests/2.20.1</td>\n",
       "      <td>GET /api/v1/items HTTP/1.1</td>\n",
       "    </tr>\n",
       "    <tr>\n",
       "      <th>0.018173</th>\n",
       "      <td>python-requests/2.21.0</td>\n",
       "      <td>GET /api/v1/stores HTTP/1.1</td>\n",
       "    </tr>\n",
       "    <tr>\n",
       "      <th>0.020841</th>\n",
       "      <td>Mozilla/5.0</td>\n",
       "      <td>GET /api/V1/HiZach! HTTP/1.1</td>\n",
       "    </tr>\n",
       "    <tr>\n",
       "      <th>0.020841</th>\n",
       "      <td>Mozilla/5.0</td>\n",
       "      <td>GET /api/v1//api/v1/items/next_page HTTP/1.1</td>\n",
       "    </tr>\n",
       "    <tr>\n",
       "      <th>0.020841</th>\n",
       "      <td>Mozilla/5.0</td>\n",
       "      <td>GET /api/v1/I_DIDNT_DO_IT!!!! HTTP/1.1</td>\n",
       "    </tr>\n",
       "    <tr>\n",
       "      <th>0.020841</th>\n",
       "      <td>Mozilla/5.0</td>\n",
       "      <td>GET /documentation HTTP/1.1</td>\n",
       "    </tr>\n",
       "    <tr>\n",
       "      <th>0.020841</th>\n",
       "      <td>Mozilla/5.0</td>\n",
       "      <td>GET /api/v1/helloclass! HTTP/1.1</td>\n",
       "    </tr>\n",
       "    <tr>\n",
       "      <th>0.041682</th>\n",
       "      <td>Mozilla/5.0</td>\n",
       "      <td>GET /api/v1/ HTTP/1.1</td>\n",
       "    </tr>\n",
       "    <tr>\n",
       "      <th>0.041682</th>\n",
       "      <td>Mozilla/5.0</td>\n",
       "      <td>GET /api/v1//api/v1/items HTTP/1.1</td>\n",
       "    </tr>\n",
       "    <tr>\n",
       "      <th>0.062522</th>\n",
       "      <td>Mozilla/5.0</td>\n",
       "      <td>GET /api/v1/sales HTTP/1.1</td>\n",
       "    </tr>\n",
       "    <tr>\n",
       "      <th>0.086948</th>\n",
       "      <td>python-requests/2.21.0</td>\n",
       "      <td>GET /api/v1/items HTTP/1.1</td>\n",
       "    </tr>\n",
       "    <tr>\n",
       "      <th>0.104204</th>\n",
       "      <td>Mozilla/5.0</td>\n",
       "      <td>GET / HTTP/1.1</td>\n",
       "    </tr>\n",
       "    <tr>\n",
       "      <th>0.104204</th>\n",
       "      <td>Mozilla/5.0</td>\n",
       "      <td>GET /api/v1/items HTTP/1.1</td>\n",
       "    </tr>\n",
       "    <tr>\n",
       "      <th>0.125045</th>\n",
       "      <td>Mozilla/5.0</td>\n",
       "      <td>GET /api/v1/stores HTTP/1.1</td>\n",
       "    </tr>\n",
       "    <tr>\n",
       "      <th>0.142908</th>\n",
       "      <td>Slackbot-LinkExpanding</td>\n",
       "      <td>GET /api/v1/sales HTTP/1.1</td>\n",
       "    </tr>\n",
       "    <tr>\n",
       "      <th>0.142908</th>\n",
       "      <td>Slackbot-LinkExpanding</td>\n",
       "      <td>GET /api/v1/ HTTP/1.1</td>\n",
       "    </tr>\n",
       "    <tr>\n",
       "      <th>0.285817</th>\n",
       "      <td>Slackbot-LinkExpanding</td>\n",
       "      <td>GET /api/v1/items HTTP/1.1</td>\n",
       "    </tr>\n",
       "    <tr>\n",
       "      <th>0.416816</th>\n",
       "      <td>Mozilla/5.0</td>\n",
       "      <td>GET /favicon.ico HTTP/1.1</td>\n",
       "    </tr>\n",
       "    <tr>\n",
       "      <th>0.428725</th>\n",
       "      <td>Slackbot-LinkExpanding</td>\n",
       "      <td>GET / HTTP/1.1</td>\n",
       "    </tr>\n",
       "    <tr>\n",
       "      <th>0.877564</th>\n",
       "      <td>python-requests/2.21.0</td>\n",
       "      <td>GET /api/v1/sales HTTP/1.1</td>\n",
       "    </tr>\n",
       "    <tr>\n",
       "      <th>0.979419</th>\n",
       "      <td>python-requests/2.20.1</td>\n",
       "      <td>GET /api/v1/sales HTTP/1.1</td>\n",
       "    </tr>\n",
       "    <tr>\n",
       "      <th>1.000358</th>\n",
       "      <td>Slackbot</td>\n",
       "      <td>GET /favicon.ico HTTP/1.1</td>\n",
       "    </tr>\n",
       "    <tr>\n",
       "      <th>1.000358</th>\n",
       "      <td>Python-urllib/3.7</td>\n",
       "      <td>GET /api/v1/items&amp;page=0 HTTP/1.1</td>\n",
       "    </tr>\n",
       "  </tbody>\n",
       "</table>\n",
       "</div>"
      ],
      "text/plain": [
       "                                    request_agent  \\\n",
       "proba_request_given_agent                           \n",
       "0.000083                   python-requests/2.21.0   \n",
       "0.000083                   python-requests/2.21.0   \n",
       "0.000167                   python-requests/2.21.0   \n",
       "0.000250                   python-requests/2.21.0   \n",
       "0.000250                   python-requests/2.21.0   \n",
       "0.000250                   python-requests/2.21.0   \n",
       "0.000417                   python-requests/2.21.0   \n",
       "0.000584                   python-requests/2.21.0   \n",
       "0.000750                   python-requests/2.21.0   \n",
       "0.002617                   python-requests/2.20.1   \n",
       "0.004188                   python-requests/2.20.1   \n",
       "0.006282                   python-requests/2.20.1   \n",
       "0.007253                   python-requests/2.21.0   \n",
       "0.007586                   python-requests/2.21.0   \n",
       "0.007852                   python-requests/2.20.1   \n",
       "0.018173                   python-requests/2.21.0   \n",
       "0.020841                              Mozilla/5.0   \n",
       "0.020841                              Mozilla/5.0   \n",
       "0.020841                              Mozilla/5.0   \n",
       "0.020841                              Mozilla/5.0   \n",
       "0.020841                              Mozilla/5.0   \n",
       "0.041682                              Mozilla/5.0   \n",
       "0.041682                              Mozilla/5.0   \n",
       "0.062522                              Mozilla/5.0   \n",
       "0.086948                   python-requests/2.21.0   \n",
       "0.104204                              Mozilla/5.0   \n",
       "0.104204                              Mozilla/5.0   \n",
       "0.125045                              Mozilla/5.0   \n",
       "0.142908                   Slackbot-LinkExpanding   \n",
       "0.142908                   Slackbot-LinkExpanding   \n",
       "0.285817                   Slackbot-LinkExpanding   \n",
       "0.416816                              Mozilla/5.0   \n",
       "0.428725                   Slackbot-LinkExpanding   \n",
       "0.877564                   python-requests/2.21.0   \n",
       "0.979419                   python-requests/2.20.1   \n",
       "1.000358                                 Slackbot   \n",
       "1.000358                        Python-urllib/3.7   \n",
       "\n",
       "                                                         request_method  \n",
       "proba_request_given_agent                                                \n",
       "0.000083                                          GET /api/v1/ HTTP/1.1  \n",
       "0.000083                                           GET /api/v1 HTTP/1.1  \n",
       "0.000167                                      GET /api/v1items HTTP/1.1  \n",
       "0.000250                                     GET /api/v1/store HTTP/1.1  \n",
       "0.000250                                    GET /api/v1/sales/ HTTP/1.1  \n",
       "0.000250                                GET /api/v1/itemsitems HTTP/1.1  \n",
       "0.000417                           GET /api/v1/items/next_page HTTP/1.1  \n",
       "0.000584                        GET /api/v1/items/api/v1/items HTTP/1.1  \n",
       "0.000750                             GET /api/v1//api/v1/items HTTP/1.1  \n",
       "0.002617                                    GET /api/v1/stores HTTP/1.1  \n",
       "0.004188                                                 GET / HTTP/1.1  \n",
       "0.006282                                    GET /documentation HTTP/1.1  \n",
       "0.007253                                    GET /documentation HTTP/1.1  \n",
       "0.007586                                                 GET / HTTP/1.1  \n",
       "0.007852                                     GET /api/v1/items HTTP/1.1  \n",
       "0.018173                                    GET /api/v1/stores HTTP/1.1  \n",
       "0.020841                                   GET /api/V1/HiZach! HTTP/1.1  \n",
       "0.020841                   GET /api/v1//api/v1/items/next_page HTTP/1.1  \n",
       "0.020841                         GET /api/v1/I_DIDNT_DO_IT!!!! HTTP/1.1  \n",
       "0.020841                                    GET /documentation HTTP/1.1  \n",
       "0.020841                               GET /api/v1/helloclass! HTTP/1.1  \n",
       "0.041682                                          GET /api/v1/ HTTP/1.1  \n",
       "0.041682                             GET /api/v1//api/v1/items HTTP/1.1  \n",
       "0.062522                                     GET /api/v1/sales HTTP/1.1  \n",
       "0.086948                                     GET /api/v1/items HTTP/1.1  \n",
       "0.104204                                                 GET / HTTP/1.1  \n",
       "0.104204                                     GET /api/v1/items HTTP/1.1  \n",
       "0.125045                                    GET /api/v1/stores HTTP/1.1  \n",
       "0.142908                                     GET /api/v1/sales HTTP/1.1  \n",
       "0.142908                                          GET /api/v1/ HTTP/1.1  \n",
       "0.285817                                     GET /api/v1/items HTTP/1.1  \n",
       "0.416816                                      GET /favicon.ico HTTP/1.1  \n",
       "0.428725                                                 GET / HTTP/1.1  \n",
       "0.877564                                     GET /api/v1/sales HTTP/1.1  \n",
       "0.979419                                     GET /api/v1/sales HTTP/1.1  \n",
       "1.000358                                      GET /favicon.ico HTTP/1.1  \n",
       "1.000358                              GET /api/v1/items&page=0 HTTP/1.1  "
      ]
     },
     "execution_count": 87,
     "metadata": {},
     "output_type": "execute_result"
    }
   ],
   "source": [
    "request_given_agent.set_index(\"proba_request_given_agent\").sort_values(by=\"proba_request_given_agent\")"
   ]
  },
  {
   "cell_type": "code",
   "execution_count": 89,
   "metadata": {},
   "outputs": [],
   "source": [
    "df = df.reset_index().merge(request_given_agent, on=[\"request_agent\", \"request_method\"], how=\"left\").fillna(value=0)\\\n",
    "                .set_index(\"timestamp\")"
   ]
  },
  {
   "cell_type": "code",
   "execution_count": 90,
   "metadata": {},
   "outputs": [
    {
     "data": {
      "text/plain": [
       "<matplotlib.collections.PathCollection at 0x7f7a3453e710>"
      ]
     },
     "execution_count": 90,
     "metadata": {},
     "output_type": "execute_result"
    },
    {
     "data": {
      "image/png": "[encoded data removed]",
      "text/plain": [
       "<Figure size 432x288 with 1 Axes>"
      ]
     },
     "metadata": {
      "needs_background": "light"
     },
     "output_type": "display_data"
    }
   ],
   "source": [
    "plt.scatter(df.proba_request_given_agent, df.ra_prob)"
   ]
  },
  {
   "cell_type": "code",
   "execution_count": null,
   "metadata": {},
   "outputs": [],
   "source": [
    "df."
   ]
  }
 ],
 "metadata": {
  "kernelspec": {
   "display_name": "Python 3",
   "language": "python",
   "name": "python3"
  },
  "language_info": {
   "codemirror_mode": {
    "name": "ipython",
    "version": 3
   },
   "file_extension": ".py",
   "mimetype": "text/x-python",
   "name": "python",
   "nbconvert_exporter": "python",
   "pygments_lexer": "ipython3",
   "version": "3.7.3"
  }
 },
 "nbformat": 4,
 "nbformat_minor": 2
}
