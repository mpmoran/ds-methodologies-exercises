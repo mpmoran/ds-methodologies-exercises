{
 "cells": [
  {
   "cell_type": "markdown",
   "metadata": {},
   "source": [
    "# Big Data - Model Exercise"
   ]
  },
  {
   "cell_type": "markdown",
   "metadata": {
    "toc": true
   },
   "source": [
    "<h1>Table of Contents<span class=\"tocSkip\"></span></h1>\n",
    "<div class=\"toc\"><ul class=\"toc-item\"><li><span><a href=\"#Thoughts\" data-toc-modified-id=\"Thoughts-1\">Thoughts</a></span></li><li><span><a href=\"#Initialize-Spark-Session\" data-toc-modified-id=\"Initialize-Spark-Session-2\">Initialize Spark Session</a></span></li><li><span><a href=\"#Acquire\" data-toc-modified-id=\"Acquire-3\">Acquire</a></span><ul class=\"toc-item\"><li><span><a href=\"#Join-the-two-dataframes-on-dept_division\" data-toc-modified-id=\"Join-the-two-dataframes-on-dept_division-3.1\">Join the two dataframes on dept_division</a></span></li></ul></li><li><span><a href=\"#Prepare\" data-toc-modified-id=\"Prepare-4\">Prepare</a></span><ul class=\"toc-item\"><li><span><a href=\"#Handle-nulls/NaNs\" data-toc-modified-id=\"Handle-nulls/NaNs-4.1\">Handle nulls/NaNs</a></span><ul class=\"toc-item\"><li><span><a href=\"#case_closed_date-and-case_closed\" data-toc-modified-id=\"case_closed_date-and-case_closed-4.1.1\">case_closed_date and case_closed</a></span></li><li><span><a href=\"#In-dept_name\" data-toc-modified-id=\"In-dept_name-4.1.2\">In dept_name</a></span></li><li><span><a href=\"#SLA_due_date,-num_days_late,-SLA_days\" data-toc-modified-id=\"SLA_due_date,-num_days_late,-SLA_days-4.1.3\">SLA_due_date, num_days_late, SLA_days</a></span></li><li><span><a href=\"#Check-again\" data-toc-modified-id=\"Check-again-4.1.4\">Check again</a></span></li></ul></li><li><span><a href=\"#Fix-data-types\" data-toc-modified-id=\"Fix-data-types-4.2\">Fix data types</a></span></li><li><span><a href=\"#Create-ZIP-Code-column\" data-toc-modified-id=\"Create-ZIP-Code-column-4.3\">Create ZIP Code column</a></span></li><li><span><a href=\"#Drop-useless-columns\" data-toc-modified-id=\"Drop-useless-columns-4.4\">Drop useless columns</a></span><ul class=\"toc-item\"><li><span><a href=\"#case_id\" data-toc-modified-id=\"case_id-4.4.1\">case_id</a></span></li><li><span><a href=\"#case_closed_date\" data-toc-modified-id=\"case_closed_date-4.4.2\">case_closed_date</a></span></li><li><span><a href=\"#case_closed\" data-toc-modified-id=\"case_closed-4.4.3\">case_closed</a></span></li><li><span><a href=\"#case_status\" data-toc-modified-id=\"case_status-4.4.4\">case_status</a></span></li><li><span><a href=\"#dept_subject_to_SLA\" data-toc-modified-id=\"dept_subject_to_SLA-4.4.5\">dept_subject_to_SLA</a></span></li><li><span><a href=\"#source_id\" data-toc-modified-id=\"source_id-4.4.6\">source_id</a></span></li><li><span><a href=\"#request_address\" data-toc-modified-id=\"request_address-4.4.7\">request_address</a></span></li><li><span><a href=\"#Remaining-columns\" data-toc-modified-id=\"Remaining-columns-4.4.8\">Remaining columns</a></span></li></ul></li><li><span><a href=\"#Normalize-text-data\" data-toc-modified-id=\"Normalize-text-data-4.5\">Normalize text data</a></span></li><li><span><a href=\"#Create-column-for-target-variable\" data-toc-modified-id=\"Create-column-for-target-variable-4.6\">Create column for target variable</a></span></li><li><span><a href=\"#Examine-string-columns\" data-toc-modified-id=\"Examine-string-columns-4.7\">Examine string columns</a></span><ul class=\"toc-item\"><li><span><a href=\"#dept_division\" data-toc-modified-id=\"dept_division-4.7.1\">dept_division</a></span><ul class=\"toc-item\"><li><span><a href=\"#Combine-the-clean-and-green-division-names\" data-toc-modified-id=\"Combine-the-clean-and-green-division-names-4.7.1.1\">Combine the clean and green division names</a></span></li></ul></li><li><span><a href=\"#request_type\" data-toc-modified-id=\"request_type-4.7.2\">request_type</a></span></li><li><span><a href=\"#dept_name\" data-toc-modified-id=\"dept_name-4.7.3\">dept_name</a></span></li><li><span><a href=\"#dept_name_std\" data-toc-modified-id=\"dept_name_std-4.7.4\">dept_name_std</a></span></li><li><span><a href=\"#request_address_zip\" data-toc-modified-id=\"request_address_zip-4.7.5\">request_address_zip</a></span></li></ul></li><li><span><a href=\"#Date-columns\" data-toc-modified-id=\"Date-columns-4.8\">Date columns</a></span></li><li><span><a href=\"#Check-for-nulls/NaNs-one-last-time\" data-toc-modified-id=\"Check-for-nulls/NaNs-one-last-time-4.9\">Check for nulls/NaNs one last time</a></span></li></ul></li><li><span><a href=\"#Explore\" data-toc-modified-id=\"Explore-5\">Explore</a></span><ul class=\"toc-item\"><li><span><a href=\"#Train-Test-Split\" data-toc-modified-id=\"Train-Test-Split-5.1\">Train Test Split</a></span></li><li><span><a href=\"#Columns-to-work-with\" data-toc-modified-id=\"Columns-to-work-with-5.2\">Columns to work with</a></span></li><li><span><a href=\"#Take-a-sample\" data-toc-modified-id=\"Take-a-sample-5.3\">Take a sample</a></span></li><li><span><a href=\"#What-percentage-of-cases-are-late?\" data-toc-modified-id=\"What-percentage-of-cases-are-late?-5.4\">What percentage of cases are late?</a></span></li><li><span><a href=\"#Department-v.-Department-Division\" data-toc-modified-id=\"Department-v.-Department-Division-5.5\">Department v. Department Division</a></span><ul class=\"toc-item\"><li><span><a href=\"#What-department-is-most-likely-to-have-a-late-case?\" data-toc-modified-id=\"What-department-is-most-likely-to-have-a-late-case?-5.5.1\">What department is most likely to have a late case?</a></span></li><li><span><a href=\"#What-division-is-most-likely-to-have-late-cases?\" data-toc-modified-id=\"What-division-is-most-likely-to-have-late-cases?-5.5.2\">What division is most likely to have late cases?</a></span></li><li><span><a href=\"#Department-v.-Department-Division\" data-toc-modified-id=\"Department-v.-Department-Division-5.5.3\">Department v. Department Division</a></span></li></ul></li><li><span><a href=\"#What-about-request-type?\" data-toc-modified-id=\"What-about-request-type?-5.6\">What about request type?</a></span></li></ul></li><li><span><a href=\"#Model\" data-toc-modified-id=\"Model-6\">Model</a></span><ul class=\"toc-item\"><li><span><a href=\"#Features\" data-toc-modified-id=\"Features-6.1\">Features</a></span></li><li><span><a href=\"#What-if-I-use-only-dept_division?\" data-toc-modified-id=\"What-if-I-use-only-dept_division?-6.2\">What if I use only dept_division?</a></span><ul class=\"toc-item\"><li><span><a href=\"#Transform-the-data\" data-toc-modified-id=\"Transform-the-data-6.2.1\">Transform the data</a></span></li><li><span><a href=\"#Train-the-model\" data-toc-modified-id=\"Train-the-model-6.2.2\">Train the model</a></span></li><li><span><a href=\"#Evaluate-the-model\" data-toc-modified-id=\"Evaluate-the-model-6.2.3\">Evaluate the model</a></span></li></ul></li></ul></li></ul></div>"
   ]
  },
  {
   "cell_type": "markdown",
   "metadata": {},
   "source": [
    "## Thoughts\n",
    "\n",
    "1. Not sure what to do with the instigator of the case (source_id). Are there certain people whose cases are more likely to be finished late?"
   ]
  },
  {
   "cell_type": "code",
   "execution_count": 144,
   "metadata": {
    "ExecuteTime": {
     "end_time": "2019-05-20T00:57:58.933099Z",
     "start_time": "2019-05-20T00:57:58.928663Z"
    }
   },
   "outputs": [],
   "source": [
    "import numpy as np\n",
    "import pandas as pd\n",
    "import matplotlib.pyplot as plt\n",
    "import seaborn as sns\n",
    "\n",
    "import pyspark\n",
    "import pyspark.sql.functions as F\n",
    "import pyspark.sql.types as T\n",
    "from pyspark.ml.feature import RFormula\n",
    "from pyspark.ml.classification import LogisticRegression\n",
    "\n",
    "import adalib"
   ]
  },
  {
   "cell_type": "markdown",
   "metadata": {},
   "source": [
    "## Initialize Spark Session"
   ]
  },
  {
   "cell_type": "code",
   "execution_count": 2,
   "metadata": {
    "ExecuteTime": {
     "end_time": "2019-05-19T23:04:42.758014Z",
     "start_time": "2019-05-19T23:04:24.547188Z"
    }
   },
   "outputs": [],
   "source": [
    "nprocs = 2\n",
    "\n",
    "spark = (pyspark.sql.SparkSession.builder\n",
    " .master('local')\n",
    " .config('spark.jars.packages', 'mysql:mysql-connector-java:8.0.16')\n",
    " .config('spark.driver.memory', '4G')\n",
    " .config('spark.driver.cores', nprocs)\n",
    " .config('spark.sql.shuffle.partitions', nprocs)\n",
    " .appName('model')\n",
    " .enableHiveSupport()\n",
    " .getOrCreate())"
   ]
  },
  {
   "cell_type": "markdown",
   "metadata": {},
   "source": [
    "## Acquire"
   ]
  },
  {
   "cell_type": "code",
   "execution_count": 3,
   "metadata": {
    "ExecuteTime": {
     "end_time": "2019-05-19T23:04:47.993961Z",
     "start_time": "2019-05-19T23:04:42.759544Z"
    }
   },
   "outputs": [
    {
     "name": "stdout",
     "output_type": "stream",
     "text": [
      "root\n",
      " |-- case_id: integer (nullable = true)\n",
      " |-- case_opened_date: string (nullable = true)\n",
      " |-- case_closed_date: string (nullable = true)\n",
      " |-- SLA_due_date: string (nullable = true)\n",
      " |-- case_late: string (nullable = true)\n",
      " |-- num_days_late: double (nullable = true)\n",
      " |-- case_closed: string (nullable = true)\n",
      " |-- dept_division: string (nullable = true)\n",
      " |-- service_request_type: string (nullable = true)\n",
      " |-- SLA_days: double (nullable = true)\n",
      " |-- case_status: string (nullable = true)\n",
      " |-- source_id: string (nullable = true)\n",
      " |-- request_address: string (nullable = true)\n",
      " |-- council_district: integer (nullable = true)\n",
      "\n"
     ]
    }
   ],
   "source": [
    "case_data = \"sa311/case.csv\"\n",
    "df_case = spark.read.csv(case_data, header=True, inferSchema=True)\n",
    "df_case.printSchema()"
   ]
  },
  {
   "cell_type": "code",
   "execution_count": 4,
   "metadata": {
    "ExecuteTime": {
     "end_time": "2019-05-19T23:04:48.185684Z",
     "start_time": "2019-05-19T23:04:47.996278Z"
    }
   },
   "outputs": [
    {
     "name": "stdout",
     "output_type": "stream",
     "text": [
      "root\n",
      " |-- dept_division: string (nullable = true)\n",
      " |-- dept_name: string (nullable = true)\n",
      " |-- standardized_dept_name: string (nullable = true)\n",
      " |-- dept_subject_to_SLA: string (nullable = true)\n",
      "\n"
     ]
    }
   ],
   "source": [
    "dept_data = \"sa311/dept.csv\"\n",
    "df_dept = spark.read.csv(dept_data, header=True, inferSchema=True)\n",
    "df_dept.printSchema()"
   ]
  },
  {
   "cell_type": "markdown",
   "metadata": {},
   "source": [
    "### Join the two dataframes on dept_division"
   ]
  },
  {
   "cell_type": "code",
   "execution_count": 5,
   "metadata": {
    "ExecuteTime": {
     "end_time": "2019-05-19T23:04:50.170328Z",
     "start_time": "2019-05-19T23:04:48.188604Z"
    }
   },
   "outputs": [
    {
     "name": "stdout",
     "output_type": "stream",
     "text": [
      "+-----------------------------+------+\n",
      "|dept_division                |count |\n",
      "+-----------------------------+------+\n",
      "|Field Operations             |116915|\n",
      "|Signs and Markings           |17871 |\n",
      "|Traffic Engineering Design   |4334  |\n",
      "|Tree Crew                    |838   |\n",
      "|Brush                        |18212 |\n",
      "|Dangerous Premise            |15479 |\n",
      "|311 Call Center              |2849  |\n",
      "|Engineering Division         |1375  |\n",
      "|Food Establishments          |3276  |\n",
      "|Facility License             |1349  |\n",
      "|Clean and Green              |1248  |\n",
      "|Vector                       |538   |\n",
      "|Code Enforcement (Internal)  |198   |\n",
      "|Dangerous Premise (IntExp)   |36    |\n",
      "|District 2                   |3     |\n",
      "|District 3                   |2     |\n",
      "|District 9                   |4     |\n",
      "|District 7                   |2     |\n",
      "|District 10                  |2     |\n",
      "|Storm Water                  |13769 |\n",
      "|Code Enforcement             |272305|\n",
      "|Signals                      |20700 |\n",
      "|Miscellaneous                |45123 |\n",
      "|Streets                      |38510 |\n",
      "|Graffiti                     |14638 |\n",
      "|Waste Collection             |215122|\n",
      "|Trades                       |3258  |\n",
      "|Shops (Internal)             |14367 |\n",
      "|Solid Waste                  |813   |\n",
      "|Graffiti (IntExp)            |15154 |\n",
      "|Code Enforcement (IntExp)    |2189  |\n",
      "|Director's Office Horizontal |515   |\n",
      "|Storm Water Engineering      |494   |\n",
      "|Clean and Green Natural Areas|82    |\n",
      "|Shops                        |112   |\n",
      "|District 1                   |11    |\n",
      "|District 6                   |3     |\n",
      "|District 8                   |6     |\n",
      "|Reservations                 |2     |\n",
      "+-----------------------------+------+\n",
      "\n"
     ]
    }
   ],
   "source": [
    "(df_case.groupBy(\"dept_division\")\n",
    "        .count()\n",
    "        .show(50, truncate=False))"
   ]
  },
  {
   "cell_type": "code",
   "execution_count": 6,
   "metadata": {
    "ExecuteTime": {
     "end_time": "2019-05-19T23:04:50.328150Z",
     "start_time": "2019-05-19T23:04:50.172251Z"
    }
   },
   "outputs": [
    {
     "name": "stdout",
     "output_type": "stream",
     "text": [
      "+-----------------------------+-----+\n",
      "|dept_division                |count|\n",
      "+-----------------------------+-----+\n",
      "|311 Call Center              |1    |\n",
      "|Brush                        |1    |\n",
      "|Clean and Green              |1    |\n",
      "|Code Enforcement (Internal)  |1    |\n",
      "|Dangerous Premise            |1    |\n",
      "|Dangerous Premise (IntExp)   |1    |\n",
      "|District 10                  |1    |\n",
      "|District 2                   |1    |\n",
      "|District 3                   |1    |\n",
      "|District 7                   |1    |\n",
      "|District 9                   |1    |\n",
      "|Engineering Division         |1    |\n",
      "|Facility License             |1    |\n",
      "|Field Operations             |1    |\n",
      "|Food Establishments          |1    |\n",
      "|Signs and Markings           |1    |\n",
      "|Traffic Engineering Design   |1    |\n",
      "|Tree Crew                    |1    |\n",
      "|Vector                       |1    |\n",
      "|Clean and Green Natural Areas|1    |\n",
      "|Code Enforcement             |1    |\n",
      "|Code Enforcement (IntExp)    |1    |\n",
      "|Director's Office Horizontal |1    |\n",
      "|District 1                   |1    |\n",
      "|District 6                   |1    |\n",
      "|District 8                   |1    |\n",
      "|Graffiti                     |1    |\n",
      "|Graffiti (IntExp)            |1    |\n",
      "|Miscellaneous                |1    |\n",
      "|Reservations                 |1    |\n",
      "|Shops                        |1    |\n",
      "|Shops (Internal)             |1    |\n",
      "|Signals                      |1    |\n",
      "|Solid Waste                  |1    |\n",
      "|Storm Water                  |1    |\n",
      "|Storm Water Engineering      |1    |\n",
      "|Streets                      |1    |\n",
      "|Trades                       |1    |\n",
      "|Waste Collection             |1    |\n",
      "+-----------------------------+-----+\n",
      "\n"
     ]
    }
   ],
   "source": [
    "(df_dept.groupBy(\"dept_division\")\n",
    "        .count()\n",
    "        .show(50, truncate=False))"
   ]
  },
  {
   "cell_type": "markdown",
   "metadata": {},
   "source": [
    "Use a left outer join to retain the cases whose division has no match"
   ]
  },
  {
   "cell_type": "code",
   "execution_count": 7,
   "metadata": {
    "ExecuteTime": {
     "end_time": "2019-05-19T23:04:50.361555Z",
     "start_time": "2019-05-19T23:04:50.332653Z"
    }
   },
   "outputs": [],
   "source": [
    "df = df_case.join(df_dept, \"dept_division\", \"left_outer\")"
   ]
  },
  {
   "cell_type": "code",
   "execution_count": 8,
   "metadata": {
    "ExecuteTime": {
     "end_time": "2019-05-19T23:04:50.367971Z",
     "start_time": "2019-05-19T23:04:50.363515Z"
    }
   },
   "outputs": [
    {
     "name": "stdout",
     "output_type": "stream",
     "text": [
      "root\n",
      " |-- dept_division: string (nullable = true)\n",
      " |-- case_id: integer (nullable = true)\n",
      " |-- case_opened_date: string (nullable = true)\n",
      " |-- case_closed_date: string (nullable = true)\n",
      " |-- SLA_due_date: string (nullable = true)\n",
      " |-- case_late: string (nullable = true)\n",
      " |-- num_days_late: double (nullable = true)\n",
      " |-- case_closed: string (nullable = true)\n",
      " |-- service_request_type: string (nullable = true)\n",
      " |-- SLA_days: double (nullable = true)\n",
      " |-- case_status: string (nullable = true)\n",
      " |-- source_id: string (nullable = true)\n",
      " |-- request_address: string (nullable = true)\n",
      " |-- council_district: integer (nullable = true)\n",
      " |-- dept_name: string (nullable = true)\n",
      " |-- standardized_dept_name: string (nullable = true)\n",
      " |-- dept_subject_to_SLA: string (nullable = true)\n",
      "\n"
     ]
    }
   ],
   "source": [
    "df.printSchema()"
   ]
  },
  {
   "cell_type": "code",
   "execution_count": 9,
   "metadata": {
    "ExecuteTime": {
     "end_time": "2019-05-19T23:04:51.954541Z",
     "start_time": "2019-05-19T23:04:50.369976Z"
    }
   },
   "outputs": [
    {
     "name": "stdout",
     "output_type": "stream",
     "text": [
      "841704 x 17\n"
     ]
    }
   ],
   "source": [
    "print(f\"{df.count()} x {len(df.columns)}\")"
   ]
  },
  {
   "cell_type": "markdown",
   "metadata": {},
   "source": [
    "## Prepare"
   ]
  },
  {
   "cell_type": "markdown",
   "metadata": {},
   "source": [
    " ### Handle nulls/NaNs"
   ]
  },
  {
   "cell_type": "code",
   "execution_count": 10,
   "metadata": {
    "ExecuteTime": {
     "end_time": "2019-05-19T23:05:14.837085Z",
     "start_time": "2019-05-19T23:04:51.956615Z"
    }
   },
   "outputs": [
    {
     "name": "stdout",
     "output_type": "stream",
     "text": [
      "-RECORD 0-----------------------\n",
      " dept_division          | 0     \n",
      " case_id                | 0     \n",
      " case_opened_date       | 0     \n",
      " case_closed_date       | 18110 \n",
      " SLA_due_date           | 33    \n",
      " case_late              | 0     \n",
      " num_days_late          | 33    \n",
      " case_closed            | 0     \n",
      " service_request_type   | 0     \n",
      " SLA_days               | 33    \n",
      " case_status            | 0     \n",
      " source_id              | 0     \n",
      " request_address        | 0     \n",
      " council_district       | 0     \n",
      " dept_name              | 198   \n",
      " standardized_dept_name | 0     \n",
      " dept_subject_to_SLA    | 0     \n",
      "\n"
     ]
    }
   ],
   "source": [
    "def spark_df_nan_count(df):\n",
    "    return df.select([F.count(F.when(F.isnan(c) | F.col(c).isNull(), c)).alias(c) for c in df.columns])\n",
    "\n",
    "spark_df_nan_count(df).show(vertical=True, truncate=False)"
   ]
  },
  {
   "cell_type": "markdown",
   "metadata": {},
   "source": [
    "#### case_closed_date and case_closed"
   ]
  },
  {
   "cell_type": "markdown",
   "metadata": {},
   "source": [
    "Why are there 18,110 nulls in case_closed_date?"
   ]
  },
  {
   "cell_type": "code",
   "execution_count": 11,
   "metadata": {
    "ExecuteTime": {
     "end_time": "2019-05-19T23:05:15.077121Z",
     "start_time": "2019-05-19T23:05:14.839042Z"
    }
   },
   "outputs": [
    {
     "name": "stdout",
     "output_type": "stream",
     "text": [
      "-RECORD 0--------------------------------------------------------\n",
      " dept_division          | 311 Call Center                        \n",
      " case_id                | 1014128388                             \n",
      " case_opened_date       | 1/2/18 9:39                            \n",
      " case_closed_date       | null                                   \n",
      " SLA_due_date           | 1/9/18 9:39                            \n",
      " case_late              | YES                                    \n",
      " num_days_late          | 211.5974884                            \n",
      " case_closed            | NO                                     \n",
      " service_request_type   | Complaint                              \n",
      " SLA_days               | 7.0                                    \n",
      " case_status            | Open                                   \n",
      " source_id              | mt13131                                \n",
      " request_address        | 7326  WESTGLADE PL, San Antonio, 78227 \n",
      " council_district       | 6                                      \n",
      " dept_name              | Customer Service                       \n",
      " standardized_dept_name | Customer Service                       \n",
      " dept_subject_to_SLA    | YES                                    \n",
      "-RECORD 1--------------------------------------------------------\n",
      " dept_division          | Dangerous Premise                      \n",
      " case_id                | 1014128790                             \n",
      " case_opened_date       | 1/2/18 10:49                           \n",
      " case_closed_date       | null                                   \n",
      " SLA_due_date           | 5/10/18 10:49                          \n",
      " case_late              | YES                                    \n",
      " num_days_late          | 90.54925926                            \n",
      " case_closed            | NO                                     \n",
      " service_request_type   | DSDB Ordered/Hold Harmless/Regular-ALL \n",
      " SLA_days               | 128.0                                  \n",
      " case_status            | Open                                   \n",
      " source_id              | CRM_Listener                           \n",
      " request_address        | 2202  POTOSI ST, San Antonio, 78207    \n",
      " council_district       | 5                                      \n",
      " dept_name              | Code Enforcement Services              \n",
      " standardized_dept_name | DSD/Code Enforcement                   \n",
      " dept_subject_to_SLA    | YES                                    \n",
      "-RECORD 2--------------------------------------------------------\n",
      " dept_division          | Code Enforcement                       \n",
      " case_id                | 1014129873                             \n",
      " case_opened_date       | 1/2/18 13:45                           \n",
      " case_closed_date       | null                                   \n",
      " SLA_due_date           | 3/7/18 13:45                           \n",
      " case_late              | YES                                    \n",
      " num_days_late          | 154.4266551                            \n",
      " case_closed            | NO                                     \n",
      " service_request_type   | Permits Building                       \n",
      " SLA_days               | 64.0                                   \n",
      " case_status            | Open                                   \n",
      " source_id              | CRM_Listener                           \n",
      " request_address        | 3304  FREDSBG RD, San Antonio, 78201   \n",
      " council_district       | 1                                      \n",
      " dept_name              | Code Enforcement Services              \n",
      " standardized_dept_name | DSD/Code Enforcement                   \n",
      " dept_subject_to_SLA    | YES                                    \n",
      "only showing top 3 rows\n",
      "\n"
     ]
    }
   ],
   "source": [
    "(df.where(df.case_closed_date.isNull() | F.isnan(\"case_closed_date\"))\n",
    "  .show(3, truncate=False, vertical=True))"
   ]
  },
  {
   "cell_type": "markdown",
   "metadata": {},
   "source": [
    "It looks like these are cases that are not closed yet, so no date is available. Are any of these cases closed or not late?"
   ]
  },
  {
   "cell_type": "code",
   "execution_count": 12,
   "metadata": {
    "ExecuteTime": {
     "end_time": "2019-05-19T23:05:18.373121Z",
     "start_time": "2019-05-19T23:05:15.079006Z"
    }
   },
   "outputs": [
    {
     "name": "stdout",
     "output_type": "stream",
     "text": [
      "+-----------+---------+-----+\n",
      "|case_closed|case_late|count|\n",
      "+-----------+---------+-----+\n",
      "|         NO|      YES| 6525|\n",
      "|         NO|       NO|11585|\n",
      "+-----------+---------+-----+\n",
      "\n"
     ]
    }
   ],
   "source": [
    "(df.where(df.case_closed_date.isNull() | F.isnan(\"case_closed_date\"))\n",
    "   .groupBy(\"case_closed\", \"case_late\")\n",
    "   .count()\n",
    "   .show())"
   ]
  },
  {
   "cell_type": "markdown",
   "metadata": {},
   "source": [
    "All cases with a null case_closed_date are open, and some are late and some are not. I may want to drop the open cases. How many are there?"
   ]
  },
  {
   "cell_type": "code",
   "execution_count": 13,
   "metadata": {
    "ExecuteTime": {
     "end_time": "2019-05-19T23:05:19.770613Z",
     "start_time": "2019-05-19T23:05:18.375608Z"
    }
   },
   "outputs": [
    {
     "data": {
      "text/plain": [
       "18110"
      ]
     },
     "execution_count": 13,
     "metadata": {},
     "output_type": "execute_result"
    }
   ],
   "source": [
    "df.where(df.case_closed == \"NO\").count()"
   ]
  },
  {
   "cell_type": "markdown",
   "metadata": {},
   "source": [
    "This matches up perfectly with the number that have no case_closed_date. Those that are open and late will be useful, but the rest will not be. They are the cases my model will predict on in the wild."
   ]
  },
  {
   "cell_type": "code",
   "execution_count": 14,
   "metadata": {
    "ExecuteTime": {
     "end_time": "2019-05-19T23:05:22.834450Z",
     "start_time": "2019-05-19T23:05:19.772479Z"
    }
   },
   "outputs": [
    {
     "name": "stdout",
     "output_type": "stream",
     "text": [
      "Dropped 11585 rows.\n"
     ]
    }
   ],
   "source": [
    "rows_before = df.count()\n",
    "# grab those cases that are not both open and not late\n",
    "df = df.where(~((df.case_closed == \"NO\") & (df.case_late == \"NO\")))\n",
    "# df = df.dropna(subset=[\"case_closed_date\", \"case_closed\"])\n",
    "rows_after = df.count()\n",
    "print(f\"Dropped {rows_before - rows_after} rows.\")"
   ]
  },
  {
   "cell_type": "markdown",
   "metadata": {},
   "source": [
    "#### In dept_name"
   ]
  },
  {
   "cell_type": "code",
   "execution_count": 15,
   "metadata": {
    "ExecuteTime": {
     "end_time": "2019-05-19T23:05:24.768503Z",
     "start_time": "2019-05-19T23:05:22.836328Z"
    }
   },
   "outputs": [
    {
     "name": "stdout",
     "output_type": "stream",
     "text": [
      "+-------------------------+------+\n",
      "|dept_name                |count |\n",
      "+-------------------------+------+\n",
      "|Animal Care Services     |116771|\n",
      "|Trans & Cap Improvements |94261 |\n",
      "|Solid Waste Management   |278260|\n",
      "|Parks and Recreation     |19660 |\n",
      "|Metro Health             |5101  |\n",
      "|null                     |198   |\n",
      "|Code Enforcement Services|312047|\n",
      "|Customer Service         |2763  |\n",
      "|Development Services     |1054  |\n",
      "|City Council             |4     |\n",
      "+-------------------------+------+\n",
      "\n"
     ]
    }
   ],
   "source": [
    "(df.groupBy(\"dept_name\")\n",
    "   .count()\n",
    "   .show(50, truncate=False))"
   ]
  },
  {
   "cell_type": "code",
   "execution_count": 16,
   "metadata": {
    "ExecuteTime": {
     "end_time": "2019-05-19T23:05:24.832181Z",
     "start_time": "2019-05-19T23:05:24.771294Z"
    }
   },
   "outputs": [],
   "source": [
    "df = df.na.fill(\"other\", [\"dept_name\"])"
   ]
  },
  {
   "cell_type": "code",
   "execution_count": 17,
   "metadata": {
    "ExecuteTime": {
     "end_time": "2019-05-19T23:05:26.476555Z",
     "start_time": "2019-05-19T23:05:24.833760Z"
    }
   },
   "outputs": [
    {
     "name": "stdout",
     "output_type": "stream",
     "text": [
      "+-------------------------+------+\n",
      "|dept_name                |count |\n",
      "+-------------------------+------+\n",
      "|Animal Care Services     |116771|\n",
      "|Trans & Cap Improvements |94261 |\n",
      "|Solid Waste Management   |278260|\n",
      "|Parks and Recreation     |19660 |\n",
      "|Metro Health             |5101  |\n",
      "|other                    |198   |\n",
      "|Code Enforcement Services|312047|\n",
      "|Customer Service         |2763  |\n",
      "|Development Services     |1054  |\n",
      "|City Council             |4     |\n",
      "+-------------------------+------+\n",
      "\n"
     ]
    }
   ],
   "source": [
    "(df.groupBy(\"dept_name\")\n",
    "   .count()\n",
    "   .show(50, truncate=False))"
   ]
  },
  {
   "cell_type": "markdown",
   "metadata": {},
   "source": [
    "#### SLA_due_date, num_days_late, SLA_days"
   ]
  },
  {
   "cell_type": "markdown",
   "metadata": {},
   "source": [
    "There aren't that many of these. In light of the number of cases, I'm going to drop these without any further inquiry."
   ]
  },
  {
   "cell_type": "code",
   "execution_count": 18,
   "metadata": {
    "ExecuteTime": {
     "end_time": "2019-05-19T23:05:29.968402Z",
     "start_time": "2019-05-19T23:05:26.482399Z"
    }
   },
   "outputs": [
    {
     "name": "stdout",
     "output_type": "stream",
     "text": [
      "Dropped 4 rows.\n"
     ]
    }
   ],
   "source": [
    "rows_before = df.count()\n",
    "df = df.dropna(subset=[\"SLA_due_date\", \"num_days_late\", \"SLA_days\"])\n",
    "rows_after = df.count()\n",
    "print(f\"Dropped {rows_before - rows_after} rows.\")"
   ]
  },
  {
   "cell_type": "markdown",
   "metadata": {},
   "source": [
    "#### Check again"
   ]
  },
  {
   "cell_type": "code",
   "execution_count": 19,
   "metadata": {
    "ExecuteTime": {
     "end_time": "2019-05-19T23:05:51.751034Z",
     "start_time": "2019-05-19T23:05:29.973088Z"
    }
   },
   "outputs": [
    {
     "name": "stdout",
     "output_type": "stream",
     "text": [
      "-RECORD 0----------------------\n",
      " dept_division          | 0    \n",
      " case_id                | 0    \n",
      " case_opened_date       | 0    \n",
      " case_closed_date       | 6525 \n",
      " SLA_due_date           | 0    \n",
      " case_late              | 0    \n",
      " num_days_late          | 0    \n",
      " case_closed            | 0    \n",
      " service_request_type   | 0    \n",
      " SLA_days               | 0    \n",
      " case_status            | 0    \n",
      " source_id              | 0    \n",
      " request_address        | 0    \n",
      " council_district       | 0    \n",
      " dept_name              | 0    \n",
      " standardized_dept_name | 0    \n",
      " dept_subject_to_SLA    | 0    \n",
      "\n"
     ]
    }
   ],
   "source": [
    "spark_df_nan_count(df).show(vertical=True, truncate=False)"
   ]
  },
  {
   "cell_type": "markdown",
   "metadata": {},
   "source": [
    "I'm going to drop the case_closed_date, so the nulls there are OK."
   ]
  },
  {
   "cell_type": "markdown",
   "metadata": {},
   "source": [
    "### Fix data types"
   ]
  },
  {
   "cell_type": "code",
   "execution_count": 20,
   "metadata": {
    "ExecuteTime": {
     "end_time": "2019-05-19T23:05:51.823006Z",
     "start_time": "2019-05-19T23:05:51.752600Z"
    }
   },
   "outputs": [],
   "source": [
    "def df_fix_types(df):\n",
    "    return (df.withColumn(\"case_opened_date\", F.to_timestamp(df.case_opened_date, \"M/d/y H:mm\"))\n",
    "              .withColumn(\"case_closed_date\", F.to_timestamp(df.case_closed_date, \"M/d/y H:mm\"))\n",
    "              .withColumn(\"SLA_due_date\", F.to_timestamp(df.SLA_due_date, \"M/d/y H:mm\"))\n",
    "              .withColumn(\"case_late\", df.case_late == \"YES\")\n",
    "              .withColumn(\"case_closed\", df.case_closed == \"YES\")\n",
    "              .withColumn(\"dept_subject_to_SLA\", df.dept_subject_to_SLA == \"YES\"))\n",
    "\n",
    "df = df_fix_types(df)"
   ]
  },
  {
   "cell_type": "code",
   "execution_count": 21,
   "metadata": {
    "ExecuteTime": {
     "end_time": "2019-05-19T23:05:51.835874Z",
     "start_time": "2019-05-19T23:05:51.825028Z"
    }
   },
   "outputs": [
    {
     "name": "stdout",
     "output_type": "stream",
     "text": [
      "root\n",
      " |-- dept_division: string (nullable = true)\n",
      " |-- case_id: integer (nullable = true)\n",
      " |-- case_opened_date: timestamp (nullable = true)\n",
      " |-- case_closed_date: timestamp (nullable = true)\n",
      " |-- SLA_due_date: timestamp (nullable = true)\n",
      " |-- case_late: boolean (nullable = true)\n",
      " |-- num_days_late: double (nullable = true)\n",
      " |-- case_closed: boolean (nullable = true)\n",
      " |-- service_request_type: string (nullable = true)\n",
      " |-- SLA_days: double (nullable = true)\n",
      " |-- case_status: string (nullable = true)\n",
      " |-- source_id: string (nullable = true)\n",
      " |-- request_address: string (nullable = true)\n",
      " |-- council_district: integer (nullable = true)\n",
      " |-- dept_name: string (nullable = false)\n",
      " |-- standardized_dept_name: string (nullable = true)\n",
      " |-- dept_subject_to_SLA: boolean (nullable = true)\n",
      "\n"
     ]
    }
   ],
   "source": [
    "df.printSchema()"
   ]
  },
  {
   "cell_type": "markdown",
   "metadata": {},
   "source": [
    "### Create ZIP Code column"
   ]
  },
  {
   "cell_type": "code",
   "execution_count": 22,
   "metadata": {
    "ExecuteTime": {
     "end_time": "2019-05-19T23:05:51.853549Z",
     "start_time": "2019-05-19T23:05:51.837656Z"
    }
   },
   "outputs": [],
   "source": [
    "df = df.withColumn(\"request_address_zip\", F.regexp_extract(df.request_address, r\"(\\d{5})$\", 1).alias(\"request_address_zip\"))"
   ]
  },
  {
   "cell_type": "markdown",
   "metadata": {},
   "source": [
    "Why are some of the columns empty strings?"
   ]
  },
  {
   "cell_type": "code",
   "execution_count": 23,
   "metadata": {
    "ExecuteTime": {
     "end_time": "2019-05-19T23:05:52.085181Z",
     "start_time": "2019-05-19T23:05:51.855149Z"
    }
   },
   "outputs": [
    {
     "name": "stdout",
     "output_type": "stream",
     "text": [
      "-RECORD 0----------------------------------------------------\n",
      " dept_division          | Signals                            \n",
      " case_id                | 1014127337                         \n",
      " case_opened_date       | 2018-01-01 06:28:00                \n",
      " case_closed_date       | 2018-01-01 14:38:00                \n",
      " SLA_due_date           | 2018-01-31 08:30:00                \n",
      " case_late              | false                              \n",
      " num_days_late          | -29.74398148                       \n",
      " case_closed            | true                               \n",
      " service_request_type   | Traffic Signal Ops and Maintenance \n",
      " SLA_days               | 30.08446759                        \n",
      " case_status            | Closed                             \n",
      " source_id              | svcCRMSS                           \n",
      " request_address        | BANDERA RD and BRESNAHAN           \n",
      " council_district       | 7                                  \n",
      " dept_name              | Trans & Cap Improvements           \n",
      " standardized_dept_name | Trans & Cap Improvements           \n",
      " dept_subject_to_SLA    | true                               \n",
      " request_address_zip    |                                    \n",
      "-RECORD 1----------------------------------------------------\n",
      " dept_division          | Field Operations                   \n",
      " case_id                | 1014127380                         \n",
      " case_opened_date       | 2018-01-01 08:39:00                \n",
      " case_closed_date       | 2018-01-01 12:30:00                \n",
      " SLA_due_date           | 2020-09-26 08:39:00                \n",
      " case_late              | false                              \n",
      " num_days_late          | -998.8396875                       \n",
      " case_closed            | true                               \n",
      " service_request_type   | Stray Animal                       \n",
      " SLA_days               | 999.0                              \n",
      " case_status            | Closed                             \n",
      " source_id              | 139344                             \n",
      " request_address        | FREDSBG RD and NB LOOP 410 NW      \n",
      " council_district       | 7                                  \n",
      " dept_name              | Animal Care Services               \n",
      " standardized_dept_name | Animal Care Services               \n",
      " dept_subject_to_SLA    | true                               \n",
      " request_address_zip    |                                    \n",
      "-RECORD 2----------------------------------------------------\n",
      " dept_division          | Field Operations                   \n",
      " case_id                | 1014127385                         \n",
      " case_opened_date       | 2018-01-01 08:56:00                \n",
      " case_closed_date       | 2018-01-01 10:15:00                \n",
      " SLA_due_date           | 2018-01-01 11:56:00                \n",
      " case_late              | false                              \n",
      " num_days_late          | -0.070092593                       \n",
      " case_closed            | true                               \n",
      " service_request_type   | Animal Cruelty(Critical)           \n",
      " SLA_days               | 0.125                              \n",
      " case_status            | Closed                             \n",
      " source_id              | ns16326                            \n",
      " request_address        | TRAVIS ST W and 26TH ST NW         \n",
      " council_district       | 5                                  \n",
      " dept_name              | Animal Care Services               \n",
      " standardized_dept_name | Animal Care Services               \n",
      " dept_subject_to_SLA    | true                               \n",
      " request_address_zip    |                                    \n",
      "only showing top 3 rows\n",
      "\n"
     ]
    }
   ],
   "source": [
    "df.filter(df.request_address_zip == \"\").show(3, truncate=False, vertical=True)"
   ]
  },
  {
   "cell_type": "markdown",
   "metadata": {},
   "source": [
    "Because the request address has no zip code (here, these three are intersections). Fill the empty strings with 0 "
   ]
  },
  {
   "cell_type": "code",
   "execution_count": 24,
   "metadata": {
    "ExecuteTime": {
     "end_time": "2019-05-19T23:05:52.103183Z",
     "start_time": "2019-05-19T23:05:52.087005Z"
    }
   },
   "outputs": [],
   "source": [
    "df = df.replace(\"\", \"0\", \"request_address_zip\")"
   ]
  },
  {
   "cell_type": "code",
   "execution_count": 25,
   "metadata": {
    "ExecuteTime": {
     "end_time": "2019-05-19T23:05:56.002184Z",
     "start_time": "2019-05-19T23:05:52.105765Z"
    }
   },
   "outputs": [
    {
     "name": "stdout",
     "output_type": "stream",
     "text": [
      "(0 rows)\n",
      "\n"
     ]
    }
   ],
   "source": [
    "df.filter(df.request_address_zip == \"\").show(3, truncate=False, vertical=True)"
   ]
  },
  {
   "cell_type": "markdown",
   "metadata": {},
   "source": [
    "### Drop useless columns"
   ]
  },
  {
   "cell_type": "markdown",
   "metadata": {},
   "source": [
    "#### case_id\n",
    "I don't need the case id"
   ]
  },
  {
   "cell_type": "code",
   "execution_count": 26,
   "metadata": {
    "ExecuteTime": {
     "end_time": "2019-05-19T23:05:56.009550Z",
     "start_time": "2019-05-19T23:05:56.003913Z"
    }
   },
   "outputs": [],
   "source": [
    "df = df.drop(\"case_id\")"
   ]
  },
  {
   "cell_type": "markdown",
   "metadata": {},
   "source": [
    "#### case_closed_date\n",
    "I won't have this for anything I will be predicting on and num_days_late gives me what I need for exploration"
   ]
  },
  {
   "cell_type": "code",
   "execution_count": 27,
   "metadata": {
    "ExecuteTime": {
     "end_time": "2019-05-19T23:05:56.014760Z",
     "start_time": "2019-05-19T23:05:56.010883Z"
    }
   },
   "outputs": [],
   "source": [
    "df = df.drop(\"case_closed_date\")"
   ]
  },
  {
   "cell_type": "markdown",
   "metadata": {},
   "source": [
    "#### case_closed\n",
    "I don't see much use in this"
   ]
  },
  {
   "cell_type": "code",
   "execution_count": 28,
   "metadata": {
    "ExecuteTime": {
     "end_time": "2019-05-19T23:05:56.020533Z",
     "start_time": "2019-05-19T23:05:56.016391Z"
    }
   },
   "outputs": [],
   "source": [
    "df = df.drop(\"case_closed\")"
   ]
  },
  {
   "cell_type": "markdown",
   "metadata": {},
   "source": [
    "#### case_status\n",
    "This duplicates information in other columns"
   ]
  },
  {
   "cell_type": "code",
   "execution_count": 29,
   "metadata": {
    "ExecuteTime": {
     "end_time": "2019-05-19T23:05:56.026006Z",
     "start_time": "2019-05-19T23:05:56.021983Z"
    }
   },
   "outputs": [],
   "source": [
    "df = df.drop(\"case_status\")"
   ]
  },
  {
   "cell_type": "markdown",
   "metadata": {},
   "source": [
    "#### dept_subject_to_SLA\n",
    "What does this look like?"
   ]
  },
  {
   "cell_type": "code",
   "execution_count": 30,
   "metadata": {
    "ExecuteTime": {
     "end_time": "2019-05-19T23:05:58.214578Z",
     "start_time": "2019-05-19T23:05:56.027789Z"
    }
   },
   "outputs": [
    {
     "name": "stdout",
     "output_type": "stream",
     "text": [
      "+-------------------+------+\n",
      "|dept_subject_to_SLA| count|\n",
      "+-------------------+------+\n",
      "|               true|830115|\n",
      "+-------------------+------+\n",
      "\n"
     ]
    }
   ],
   "source": [
    "df.groupBy(\"dept_subject_to_SLA\").count().show()"
   ]
  },
  {
   "cell_type": "markdown",
   "metadata": {},
   "source": [
    "They are all true, so this is useless at this time. Are any departments not subject to SLA?"
   ]
  },
  {
   "cell_type": "code",
   "execution_count": 31,
   "metadata": {
    "ExecuteTime": {
     "end_time": "2019-05-19T23:05:58.222822Z",
     "start_time": "2019-05-19T23:05:58.216785Z"
    }
   },
   "outputs": [],
   "source": [
    "df = df.drop(\"dept_subject_to_SLA\")"
   ]
  },
  {
   "cell_type": "markdown",
   "metadata": {},
   "source": [
    "#### source_id\n",
    "I'm won't be using this at this time, but may revisit it."
   ]
  },
  {
   "cell_type": "code",
   "execution_count": 32,
   "metadata": {
    "ExecuteTime": {
     "end_time": "2019-05-19T23:05:58.229962Z",
     "start_time": "2019-05-19T23:05:58.224995Z"
    }
   },
   "outputs": [],
   "source": [
    "df = df.drop(\"source_id\")"
   ]
  },
  {
   "cell_type": "markdown",
   "metadata": {},
   "source": [
    "#### request_address\n",
    "I'm going to use the ZIP code only and I created a column for that"
   ]
  },
  {
   "cell_type": "code",
   "execution_count": 33,
   "metadata": {
    "ExecuteTime": {
     "end_time": "2019-05-19T23:05:58.235842Z",
     "start_time": "2019-05-19T23:05:58.231521Z"
    }
   },
   "outputs": [],
   "source": [
    "df = df.drop(\"request_address\")"
   ]
  },
  {
   "cell_type": "markdown",
   "metadata": {},
   "source": [
    "#### Remaining columns"
   ]
  },
  {
   "cell_type": "code",
   "execution_count": 34,
   "metadata": {
    "ExecuteTime": {
     "end_time": "2019-05-19T23:05:58.240817Z",
     "start_time": "2019-05-19T23:05:58.237418Z"
    }
   },
   "outputs": [
    {
     "name": "stdout",
     "output_type": "stream",
     "text": [
      "root\n",
      " |-- dept_division: string (nullable = true)\n",
      " |-- case_opened_date: timestamp (nullable = true)\n",
      " |-- SLA_due_date: timestamp (nullable = true)\n",
      " |-- case_late: boolean (nullable = true)\n",
      " |-- num_days_late: double (nullable = true)\n",
      " |-- service_request_type: string (nullable = true)\n",
      " |-- SLA_days: double (nullable = true)\n",
      " |-- council_district: integer (nullable = true)\n",
      " |-- dept_name: string (nullable = false)\n",
      " |-- standardized_dept_name: string (nullable = true)\n",
      " |-- request_address_zip: string (nullable = true)\n",
      "\n"
     ]
    }
   ],
   "source": [
    "df.printSchema()"
   ]
  },
  {
   "cell_type": "markdown",
   "metadata": {},
   "source": [
    "### Normalize text data"
   ]
  },
  {
   "cell_type": "code",
   "execution_count": 35,
   "metadata": {
    "ExecuteTime": {
     "end_time": "2019-05-19T23:05:58.284109Z",
     "start_time": "2019-05-19T23:05:58.243111Z"
    }
   },
   "outputs": [],
   "source": [
    "df = (df.withColumn(\"dept_division\", F.lower(df.dept_division))\n",
    "   .withColumn(\"service_request_type\", F.lower(df.service_request_type))\n",
    "   .withColumn(\"dept_name\", F.lower(df.dept_name))\n",
    "   .withColumn(\"standardized_dept_name\", F.lower(df.standardized_dept_name)))"
   ]
  },
  {
   "cell_type": "code",
   "execution_count": 36,
   "metadata": {
    "ExecuteTime": {
     "end_time": "2019-05-19T23:05:58.300779Z",
     "start_time": "2019-05-19T23:05:58.286309Z"
    }
   },
   "outputs": [],
   "source": [
    "df = (df.withColumnRenamed(\"case_opened_date\", \"opened_date\")\n",
    "   .withColumnRenamed(\"SLA_due_date\", \"due_date\")\n",
    "   .withColumnRenamed(\"num_days_late\", \"days_late\")\n",
    "   .withColumnRenamed(\"service_request_type\", \"request_type\")\n",
    "   .withColumnRenamed(\"SLA_days\", \"days_before_due\")\n",
    "   .withColumnRenamed(\"standardized_dept_name\", \"dept_name_std\"))"
   ]
  },
  {
   "cell_type": "code",
   "execution_count": 37,
   "metadata": {
    "ExecuteTime": {
     "end_time": "2019-05-19T23:05:58.308724Z",
     "start_time": "2019-05-19T23:05:58.302492Z"
    }
   },
   "outputs": [
    {
     "name": "stdout",
     "output_type": "stream",
     "text": [
      "root\n",
      " |-- dept_division: string (nullable = true)\n",
      " |-- opened_date: timestamp (nullable = true)\n",
      " |-- due_date: timestamp (nullable = true)\n",
      " |-- case_late: boolean (nullable = true)\n",
      " |-- days_late: double (nullable = true)\n",
      " |-- request_type: string (nullable = true)\n",
      " |-- days_before_due: double (nullable = true)\n",
      " |-- council_district: integer (nullable = true)\n",
      " |-- dept_name: string (nullable = false)\n",
      " |-- dept_name_std: string (nullable = true)\n",
      " |-- request_address_zip: string (nullable = true)\n",
      "\n"
     ]
    }
   ],
   "source": [
    "df.printSchema()"
   ]
  },
  {
   "cell_type": "markdown",
   "metadata": {},
   "source": [
    "### Create column for target variable\n",
    "\n",
    "Not doing this now. I think the RFormulas will do it"
   ]
  },
  {
   "cell_type": "code",
   "execution_count": 38,
   "metadata": {
    "ExecuteTime": {
     "end_time": "2019-05-19T23:05:58.313158Z",
     "start_time": "2019-05-19T23:05:58.310621Z"
    }
   },
   "outputs": [],
   "source": [
    "# df.withColumn(\"target\", F.when(df.case_late, 1).otherwise(0))"
   ]
  },
  {
   "cell_type": "markdown",
   "metadata": {},
   "source": [
    "### Examine string columns\n",
    "\n",
    "Are there any discrepancies (like spacing issues)?"
   ]
  },
  {
   "cell_type": "markdown",
   "metadata": {},
   "source": [
    "#### dept_division"
   ]
  },
  {
   "cell_type": "code",
   "execution_count": 61,
   "metadata": {
    "ExecuteTime": {
     "end_time": "2019-05-19T23:34:44.461262Z",
     "start_time": "2019-05-19T23:34:40.462107Z"
    }
   },
   "outputs": [
    {
     "name": "stdout",
     "output_type": "stream",
     "text": [
      "+----------------------------+------+\n",
      "|dept_division               |count |\n",
      "+----------------------------+------+\n",
      "|311 call center             |2763  |\n",
      "|brush                       |18136 |\n",
      "|clean and green             |1320  |\n",
      "|code enforcement            |265264|\n",
      "|code enforcement (internal) |198   |\n",
      "|code enforcement (intexp)   |2173  |\n",
      "|dangerous premise           |14808 |\n",
      "|dangerous premise (intexp)  |36    |\n",
      "|director's office horizontal|501   |\n",
      "|engineering division        |1054  |\n",
      "|facility license            |1335  |\n",
      "|field operations            |116761|\n",
      "|food establishments         |3233  |\n",
      "|graffiti                    |14608 |\n",
      "|graffiti (intexp)           |15152 |\n",
      "|miscellaneous               |45102 |\n",
      "|reservations                |2     |\n",
      "|shops                       |103   |\n",
      "|shops (internal)            |14185 |\n",
      "|signals                     |20579 |\n",
      "|signs and markings          |17667 |\n",
      "|solid waste                 |804   |\n",
      "|storm water                 |14121 |\n",
      "|streets                     |37675 |\n",
      "|trades                      |3234  |\n",
      "|traffic engineering design  |3714  |\n",
      "|tree crew                   |816   |\n",
      "|vector                      |533   |\n",
      "|waste collection            |214210|\n",
      "+----------------------------+------+\n",
      "\n"
     ]
    }
   ],
   "source": [
    "df.groupBy(\"dept_division\").count().sort(\"dept_division\").show(100, truncate=False)"
   ]
  },
  {
   "cell_type": "markdown",
   "metadata": {},
   "source": [
    "what should I do with the similar department names? What does (internal) and (intexp) mean?\n",
    "\n",
    "Based on exploration, I'm going to keep them separate. Divisions marked with (internal) or (intexp) have differing probabilities of their cases being late."
   ]
  },
  {
   "cell_type": "markdown",
   "metadata": {},
   "source": [
    "##### Combine the clean and green division names"
   ]
  },
  {
   "cell_type": "code",
   "execution_count": 40,
   "metadata": {
    "ExecuteTime": {
     "end_time": "2019-05-19T23:06:00.500014Z",
     "start_time": "2019-05-19T23:06:00.490040Z"
    }
   },
   "outputs": [],
   "source": [
    "df = df.replace(\"clean and green natural areas\", \"clean and green\", \"dept_division\")"
   ]
  },
  {
   "cell_type": "markdown",
   "metadata": {},
   "source": [
    "##### combine storm water and storm water engineering`"
   ]
  },
  {
   "cell_type": "code",
   "execution_count": 60,
   "metadata": {
    "ExecuteTime": {
     "end_time": "2019-05-19T23:34:36.329038Z",
     "start_time": "2019-05-19T23:34:36.315892Z"
    }
   },
   "outputs": [],
   "source": [
    "df = df.replace(\"storm water engineering\", \"storm water\", \"dept_division\")"
   ]
  },
  {
   "cell_type": "markdown",
   "metadata": {},
   "source": [
    "#### request_type"
   ]
  },
  {
   "cell_type": "code",
   "execution_count": 41,
   "metadata": {
    "ExecuteTime": {
     "end_time": "2019-05-19T23:06:03.036381Z",
     "start_time": "2019-05-19T23:06:00.501766Z"
    }
   },
   "outputs": [
    {
     "name": "stdout",
     "output_type": "stream",
     "text": [
      "+----------------------------------------------+-----+\n",
      "|request_type                                  |count|\n",
      "+----------------------------------------------+-----+\n",
      "|\"vacant lot-city (12\"\")\"                      |550  |\n",
      "|\"vacant lot-city (48\"\")\"                      |250  |\n",
      "|\"vacant lot-county (12\"\")\"                    |58   |\n",
      "|\"vacant lot-county (48\"\")\"                    |25   |\n",
      "|\"vacant lot-private (12\"\")\"                   |7542 |\n",
      "|\"vacant lot-private (48\"\")\"                   |741  |\n",
      "|\"vacant lot-state (12\"\")\"                     |89   |\n",
      "|\"vacant lot-state (48\"\")\"                     |15   |\n",
      "|1st call bagged leaves                        |6532 |\n",
      "|2nd call bagged leaves                        |412  |\n",
      "|3rd call bagged leaves with fee               |24   |\n",
      "|absentee property assessment-posting          |435  |\n",
      "|accident problem investigation                |158  |\n",
      "|ada infrastructure complaint/grievance        |33   |\n",
      "|ada obstructions                              |1    |\n",
      "|additional cart request                       |3013 |\n",
      "|additional garbage container - with fee       |2889 |\n",
      "|additional organics cart request              |22   |\n",
      "|aggressive animal(critical)                   |5266 |\n",
      "|aggressive animal(non-critical)               |24835|\n",
      "|all-way stop study                            |239  |\n",
      "|alley address required                        |5    |\n",
      "|alley problems                                |56   |\n",
      "|alley-way maintenance                         |19709|\n",
      "|amenity park improvement                      |103  |\n",
      "|amenity park improvement int                  |3    |\n",
      "|animal bite(critical)                         |708  |\n",
      "|animal bite(non-critical)                     |4750 |\n",
      "|animal cruelty(critical)                      |3001 |\n",
      "|animal investigation referral                 |15   |\n",
      "|animal neglect                                |13403|\n",
      "|animal permits request                        |3003 |\n",
      "|automation property damage                    |256  |\n",
      "|ballfields                                    |1228 |\n",
      "|bandit signs                                  |32822|\n",
      "|barricade                                     |737  |\n",
      "|barricade pick up                             |431  |\n",
      "|base/pavement repair                          |5109 |\n",
      "|basketball goals on r.o.w.                    |1581 |\n",
      "|bicycle lane/route new request                |45   |\n",
      "|boarding home inspection                      |174  |\n",
      "|brush - out of cycle collection - fee required|4795 |\n",
      "|brush / bulky miscellaneous                   |2313 |\n",
      "|brush missed pick up                          |2248 |\n",
      "|brush no notice                               |281  |\n",
      "|brush partial pick up                         |61   |\n",
      "|brush property damage                         |183  |\n",
      "|brush violations                              |7367 |\n",
      "|brush-non compliance notice                   |92   |\n",
      "|brush/debris collection                       |258  |\n",
      "|brush_received invoice                        |5    |\n",
      "|bulk missed pick up                           |1916 |\n",
      "|bulk no notice                                |311  |\n",
      "|bulk partial pick up                          |49   |\n",
      "|bulk-non compliance notice                    |56   |\n",
      "|bulk_received invoice                         |2    |\n",
      "|carpentry                                     |1931 |\n",
      "|cart delivery                                 |15377|\n",
      "|cart exchange request                         |21856|\n",
      "|cart pickup                                   |10783|\n",
      "|cart placement                                |1181 |\n",
      "|cart removed from service                     |18   |\n",
      "|certificates of occupancy                     |1437 |\n",
      "|city council animal request                   |365  |\n",
      "|complaint                                     |2303 |\n",
      "|compliment                                    |460  |\n",
      "|concrete infrastructure repair                |281  |\n",
      "|contracted service issues                     |12   |\n",
      "|cps energy metal poles                        |893  |\n",
      "|cps energy towers                             |511  |\n",
      "|cps energy wood poles                         |3501 |\n",
      "|curb or sidewalk investigation                |2610 |\n",
      "|curbstoning                                   |222  |\n",
      "|damaged cart                                  |30234|\n",
      "|damaged organics cart                         |3    |\n",
      "|dang premises/cut/clean only                  |198  |\n",
      "|dang premises/secure only                     |205  |\n",
      "|dang. premises/cl/sec                         |7726 |\n",
      "|darner maintenance                            |68   |\n",
      "|dart preliminary inspection                   |42   |\n",
      "|dead animal - cat                             |14980|\n",
      "|dead animal - dog                             |16710|\n",
      "|dead animal - misc                            |13228|\n",
      "|dead animal - private property                |190  |\n",
      "|dead end/no outlet sign request               |144  |\n",
      "|dead trees: private property                  |1329 |\n",
      "|dial-a-trailer                                |17   |\n",
      "|disability assistance missed pickup           |4013 |\n",
      "|disability service requested                  |817  |\n",
      "|discharge into pub. waters/st                 |46   |\n",
      "|donation container enforcement                |154  |\n",
      "|drainage channel - emergency                  |28   |\n",
      "|drainage channel - surface investigation      |193  |\n",
      "|drainage channel restoration                  |182  |\n",
      "|drainage channel/debris removal               |3050 |\n",
      "|drainage inlet - cleaning/foul odor           |520  |\n",
      "|drainage inlet repair                         |93   |\n",
      "|drainage investigation                        |621  |\n",
      "|driveways -adjust                             |455  |\n",
      "|dsdb ordered/hold harmless/regular-all        |185  |\n",
      "+----------------------------------------------+-----+\n",
      "only showing top 100 rows\n",
      "\n"
     ]
    }
   ],
   "source": [
    "df.groupBy(\"request_type\").count().sort(\"request_type\").show(100, truncate=False)"
   ]
  },
  {
   "cell_type": "markdown",
   "metadata": {},
   "source": [
    "Wow. There's so many of these I'm not sure how to handle these or if I should even use this column. It could be useful in a decision tree or random forest."
   ]
  },
  {
   "cell_type": "markdown",
   "metadata": {},
   "source": [
    "#### dept_name"
   ]
  },
  {
   "cell_type": "code",
   "execution_count": 42,
   "metadata": {
    "ExecuteTime": {
     "end_time": "2019-05-19T23:06:05.231467Z",
     "start_time": "2019-05-19T23:06:03.038032Z"
    }
   },
   "outputs": [
    {
     "name": "stdout",
     "output_type": "stream",
     "text": [
      "+-------------------------+------+\n",
      "|dept_name                |count |\n",
      "+-------------------------+------+\n",
      "|animal care services     |116771|\n",
      "|code enforcement services|312047|\n",
      "|customer service         |2763  |\n",
      "|development services     |1054  |\n",
      "|metro health             |5101  |\n",
      "|other                    |198   |\n",
      "|parks and recreation     |19660 |\n",
      "|solid waste management   |278260|\n",
      "|trans & cap improvements |94261 |\n",
      "+-------------------------+------+\n",
      "\n"
     ]
    }
   ],
   "source": [
    "df.groupBy(\"dept_name\").count().sort(\"dept_name\").show(100, truncate=False)"
   ]
  },
  {
   "cell_type": "markdown",
   "metadata": {},
   "source": [
    "This looks fine"
   ]
  },
  {
   "cell_type": "markdown",
   "metadata": {},
   "source": [
    "#### dept_name_std"
   ]
  },
  {
   "cell_type": "code",
   "execution_count": 43,
   "metadata": {
    "ExecuteTime": {
     "end_time": "2019-05-19T23:06:07.452912Z",
     "start_time": "2019-05-19T23:06:05.232997Z"
    }
   },
   "outputs": [
    {
     "name": "stdout",
     "output_type": "stream",
     "text": [
      "+------------------------+------+\n",
      "|dept_name_std           |count |\n",
      "+------------------------+------+\n",
      "|animal care services    |116771|\n",
      "|customer service        |2763  |\n",
      "|dsd/code enforcement    |313299|\n",
      "|metro health            |5101  |\n",
      "|parks & recreation      |19660 |\n",
      "|solid waste             |278260|\n",
      "|trans & cap improvements|94261 |\n",
      "+------------------------+------+\n",
      "\n"
     ]
    }
   ],
   "source": [
    "df.groupBy(\"dept_name_std\").count().sort(\"dept_name_std\").show(100, truncate=False)"
   ]
  },
  {
   "cell_type": "markdown",
   "metadata": {},
   "source": [
    "I'm going to drop this column because dept_name provides more information and has the \"other\" column. I'm not sure how the \"other\"s got rolled into dsd/code enforcement"
   ]
  },
  {
   "cell_type": "code",
   "execution_count": 44,
   "metadata": {
    "ExecuteTime": {
     "end_time": "2019-05-19T23:06:07.459387Z",
     "start_time": "2019-05-19T23:06:07.454499Z"
    }
   },
   "outputs": [],
   "source": [
    "df = df.drop(\"dept_name_std\")"
   ]
  },
  {
   "cell_type": "markdown",
   "metadata": {},
   "source": [
    "#### request_address_zip"
   ]
  },
  {
   "cell_type": "code",
   "execution_count": 45,
   "metadata": {
    "ExecuteTime": {
     "end_time": "2019-05-19T23:06:10.772389Z",
     "start_time": "2019-05-19T23:06:07.461264Z"
    }
   },
   "outputs": [
    {
     "name": "stdout",
     "output_type": "stream",
     "text": [
      "+-------------------+------+\n",
      "|request_address_zip|count |\n",
      "+-------------------+------+\n",
      "|0                  |124498|\n",
      "|78002              |8     |\n",
      "|78015              |6     |\n",
      "|78023              |1646  |\n",
      "|78069              |5     |\n",
      "|78070              |1     |\n",
      "|78073              |285   |\n",
      "|78101              |11    |\n",
      "|78109              |1392  |\n",
      "|78112              |131   |\n",
      "|78148              |23    |\n",
      "|78154              |15    |\n",
      "|78163              |3     |\n",
      "|78201              |36212 |\n",
      "|78202              |14115 |\n",
      "|78203              |7989  |\n",
      "|78204              |9726  |\n",
      "|78205              |2689  |\n",
      "|78207              |42564 |\n",
      "|78208              |4379  |\n",
      "|78209              |14767 |\n",
      "|78210              |34553 |\n",
      "|78211              |20158 |\n",
      "|78212              |22793 |\n",
      "|78213              |20184 |\n",
      "|78214              |16234 |\n",
      "|78215              |2415  |\n",
      "|78216              |15297 |\n",
      "|78217              |12930 |\n",
      "|78218              |17112 |\n",
      "|78219              |4153  |\n",
      "|78220              |16443 |\n",
      "|78221              |22765 |\n",
      "|78222              |11308 |\n",
      "|78223              |25722 |\n",
      "|78224              |8180  |\n",
      "|78225              |10152 |\n",
      "|78226              |4415  |\n",
      "|78227              |29393 |\n",
      "|78228              |37306 |\n",
      "|78229              |6011  |\n",
      "|78230              |12253 |\n",
      "|78231              |2172  |\n",
      "|78232              |9031  |\n",
      "|78233              |12723 |\n",
      "|78234              |94    |\n",
      "|78235              |177   |\n",
      "|78236              |10    |\n",
      "|78237              |28908 |\n",
      "|78238              |7875  |\n",
      "|78239              |2068  |\n",
      "|78240              |11290 |\n",
      "|78242              |15250 |\n",
      "|78243              |4     |\n",
      "|78244              |5273  |\n",
      "|78245              |11740 |\n",
      "|78247              |16261 |\n",
      "|78248              |2818  |\n",
      "|78249              |13576 |\n",
      "|78250              |21547 |\n",
      "|78251              |35769 |\n",
      "|78252              |1652  |\n",
      "|78253              |522   |\n",
      "|78254              |6516  |\n",
      "|78255              |1243  |\n",
      "|78256              |1079  |\n",
      "|78257              |893   |\n",
      "|78258              |5631  |\n",
      "|78259              |4664  |\n",
      "|78260              |349   |\n",
      "|78261              |33    |\n",
      "|78263              |30    |\n",
      "|78264              |273   |\n",
      "|78266              |365   |\n",
      "|78284              |16    |\n",
      "|78288              |21    |\n",
      "+-------------------+------+\n",
      "\n"
     ]
    }
   ],
   "source": [
    "df.groupBy(\"request_address_zip\").count().sort(\"request_address_zip\").show(100, truncate=False)"
   ]
  },
  {
   "cell_type": "markdown",
   "metadata": {},
   "source": [
    "### Date columns"
   ]
  },
  {
   "cell_type": "code",
   "execution_count": 46,
   "metadata": {
    "ExecuteTime": {
     "end_time": "2019-05-19T23:06:13.896004Z",
     "start_time": "2019-05-19T23:06:10.774197Z"
    }
   },
   "outputs": [
    {
     "name": "stdout",
     "output_type": "stream",
     "text": [
      "+-----------+------+\n",
      "|opened_date| count|\n",
      "+-----------+------+\n",
      "|       2017|517708|\n",
      "|       null|    16|\n",
      "|       2018|312391|\n",
      "+-----------+------+\n",
      "\n"
     ]
    }
   ],
   "source": [
    "(df.select(F.year(df.opened_date).alias(\"opened_date\"))\n",
    "   .groupBy(\"opened_date\")\n",
    "   .count()\n",
    "   .show())"
   ]
  },
  {
   "cell_type": "markdown",
   "metadata": {},
   "source": [
    "What are these null columns"
   ]
  },
  {
   "cell_type": "code",
   "execution_count": 47,
   "metadata": {
    "ExecuteTime": {
     "end_time": "2019-05-19T23:06:15.637231Z",
     "start_time": "2019-05-19T23:06:13.897725Z"
    }
   },
   "outputs": [
    {
     "name": "stdout",
     "output_type": "stream",
     "text": [
      "-RECORD 0-----------------------------------------------\n",
      " dept_division       | field operations                 \n",
      " opened_date         | null                             \n",
      " due_date            | 2018-03-11 05:30:00              \n",
      " case_late           | false                            \n",
      " days_late           | -0.058148148                     \n",
      " request_type        | officer standby                  \n",
      " days_before_due     | 0.125                            \n",
      " council_district    | 10                               \n",
      " dept_name           | animal care services             \n",
      " request_address_zip | 78209                            \n",
      "-RECORD 1-----------------------------------------------\n",
      " dept_division       | miscellaneous                    \n",
      " opened_date         | null                             \n",
      " due_date            | 2017-03-14 02:22:00              \n",
      " case_late           | false                            \n",
      " days_late           | -1.522638889                     \n",
      " request_type        | dead animal - misc               \n",
      " days_before_due     | 2.0                              \n",
      " council_district    | 6                                \n",
      " dept_name           | solid waste management           \n",
      " request_address_zip | 78250                            \n",
      "-RECORD 2-----------------------------------------------\n",
      " dept_division       | code enforcement                 \n",
      " opened_date         | null                             \n",
      " due_date            | 2017-05-16 08:30:00              \n",
      " case_late           | false                            \n",
      " days_late           | -56.75211806                     \n",
      " request_type        | junk vehicle on private property \n",
      " days_before_due     | 65.25502315                      \n",
      " council_district    | 6                                \n",
      " dept_name           | code enforcement services        \n",
      " request_address_zip | 78237                            \n",
      "only showing top 3 rows\n",
      "\n"
     ]
    }
   ],
   "source": [
    "df.filter(df.opened_date.isNull()).show(3, truncate=False, vertical=True)"
   ]
  },
  {
   "cell_type": "markdown",
   "metadata": {},
   "source": [
    "Drop rows with null opened_date"
   ]
  },
  {
   "cell_type": "code",
   "execution_count": 48,
   "metadata": {
    "ExecuteTime": {
     "end_time": "2019-05-19T23:06:20.253124Z",
     "start_time": "2019-05-19T23:06:15.638689Z"
    }
   },
   "outputs": [
    {
     "name": "stdout",
     "output_type": "stream",
     "text": [
      "Dropped 16 rows.\n"
     ]
    }
   ],
   "source": [
    "before_rows = df.count()\n",
    "df = df.dropna(subset=\"opened_date\")\n",
    "after_rows = df.count()\n",
    "print(f\"Dropped {before_rows - after_rows} rows.\")"
   ]
  },
  {
   "cell_type": "markdown",
   "metadata": {},
   "source": [
    "### Check for nulls/NaNs one last time"
   ]
  },
  {
   "cell_type": "code",
   "execution_count": 52,
   "metadata": {
    "ExecuteTime": {
     "end_time": "2019-05-19T23:15:19.840630Z",
     "start_time": "2019-05-19T23:14:53.245821Z"
    }
   },
   "outputs": [
    {
     "name": "stdout",
     "output_type": "stream",
     "text": [
      "dept_division: 0\n",
      "opened_date: 0\n",
      "due_date: 12\n",
      "case_late: 0\n",
      "days_late: 0\n",
      "request_type: 0\n",
      "days_before_due: 0\n",
      "council_district: 0\n",
      "dept_name: 0\n",
      "request_address_zip: 0\n"
     ]
    }
   ],
   "source": [
    "for col in df.columns:\n",
    "    print(f\"{col}: {df.filter(df[col].isNull()).count()}\")"
   ]
  },
  {
   "cell_type": "code",
   "execution_count": 53,
   "metadata": {
    "ExecuteTime": {
     "end_time": "2019-05-19T23:18:12.560904Z",
     "start_time": "2019-05-19T23:18:12.553658Z"
    }
   },
   "outputs": [],
   "source": [
    "df = df.dropna(subset=\"due_date\")"
   ]
  },
  {
   "cell_type": "code",
   "execution_count": 54,
   "metadata": {
    "ExecuteTime": {
     "end_time": "2019-05-19T23:18:45.983758Z",
     "start_time": "2019-05-19T23:18:12.780511Z"
    }
   },
   "outputs": [
    {
     "name": "stdout",
     "output_type": "stream",
     "text": [
      "dept_division: 0\n",
      "opened_date: 0\n",
      "due_date: 0\n",
      "case_late: 0\n",
      "days_late: 0\n",
      "request_type: 0\n",
      "days_before_due: 0\n",
      "council_district: 0\n",
      "dept_name: 0\n",
      "request_address_zip: 0\n"
     ]
    }
   ],
   "source": [
    "for col in df.columns:\n",
    "    print(f\"{col}: {df.filter(df[col].isNull()).count()}\")"
   ]
  },
  {
   "cell_type": "markdown",
   "metadata": {},
   "source": [
    "## Explore"
   ]
  },
  {
   "cell_type": "markdown",
   "metadata": {},
   "source": [
    "### Train Test Split"
   ]
  },
  {
   "cell_type": "code",
   "execution_count": 119,
   "metadata": {
    "ExecuteTime": {
     "end_time": "2019-05-20T00:42:29.945315Z",
     "start_time": "2019-05-20T00:42:29.921080Z"
    }
   },
   "outputs": [],
   "source": [
    "train, test = df.randomSplit([0.7, 0.3], seed=123)"
   ]
  },
  {
   "cell_type": "markdown",
   "metadata": {},
   "source": [
    "### Columns to work with"
   ]
  },
  {
   "cell_type": "code",
   "execution_count": 120,
   "metadata": {
    "ExecuteTime": {
     "end_time": "2019-05-20T00:42:34.747925Z",
     "start_time": "2019-05-20T00:42:34.743004Z"
    }
   },
   "outputs": [
    {
     "name": "stdout",
     "output_type": "stream",
     "text": [
      "root\n",
      " |-- dept_division: string (nullable = true)\n",
      " |-- opened_date: timestamp (nullable = true)\n",
      " |-- due_date: timestamp (nullable = true)\n",
      " |-- case_late: boolean (nullable = true)\n",
      " |-- days_late: double (nullable = true)\n",
      " |-- request_type: string (nullable = true)\n",
      " |-- days_before_due: double (nullable = true)\n",
      " |-- council_district: integer (nullable = true)\n",
      " |-- dept_name: string (nullable = false)\n",
      " |-- request_address_zip: string (nullable = true)\n",
      "\n"
     ]
    }
   ],
   "source": [
    "train.printSchema()"
   ]
  },
  {
   "cell_type": "code",
   "execution_count": 121,
   "metadata": {
    "ExecuteTime": {
     "end_time": "2019-05-20T00:42:54.091440Z",
     "start_time": "2019-05-20T00:42:46.610645Z"
    }
   },
   "outputs": [
    {
     "data": {
      "text/plain": [
       "581195"
      ]
     },
     "execution_count": 121,
     "metadata": {},
     "output_type": "execute_result"
    }
   ],
   "source": [
    "train.count()"
   ]
  },
  {
   "cell_type": "markdown",
   "metadata": {},
   "source": [
    "### Take a sample"
   ]
  },
  {
   "cell_type": "code",
   "execution_count": 122,
   "metadata": {
    "ExecuteTime": {
     "end_time": "2019-05-20T00:43:21.009092Z",
     "start_time": "2019-05-20T00:43:11.764832Z"
    }
   },
   "outputs": [],
   "source": [
    "explore = train.sample(False, 0.02, 123).toPandas()"
   ]
  },
  {
   "cell_type": "code",
   "execution_count": 123,
   "metadata": {
    "ExecuteTime": {
     "end_time": "2019-05-20T00:43:21.841097Z",
     "start_time": "2019-05-20T00:43:21.836219Z"
    }
   },
   "outputs": [
    {
     "data": {
      "text/plain": [
       "11468"
      ]
     },
     "execution_count": 123,
     "metadata": {},
     "output_type": "execute_result"
    }
   ],
   "source": [
    "len(explore)"
   ]
  },
  {
   "cell_type": "markdown",
   "metadata": {},
   "source": [
    "### What percentage of cases are late?"
   ]
  },
  {
   "cell_type": "code",
   "execution_count": 124,
   "metadata": {
    "ExecuteTime": {
     "end_time": "2019-05-20T00:43:35.016955Z",
     "start_time": "2019-05-20T00:43:28.793019Z"
    }
   },
   "outputs": [
    {
     "data": {
      "text/plain": [
       "0.11"
      ]
     },
     "execution_count": 124,
     "metadata": {},
     "output_type": "execute_result"
    }
   ],
   "source": [
    "round(df.where(df.case_late).count() / df.count(), 2)"
   ]
  },
  {
   "cell_type": "code",
   "execution_count": 126,
   "metadata": {
    "ExecuteTime": {
     "end_time": "2019-05-20T00:44:10.420397Z",
     "start_time": "2019-05-20T00:44:10.412487Z"
    }
   },
   "outputs": [
    {
     "data": {
      "text/plain": [
       "0.11"
      ]
     },
     "execution_count": 126,
     "metadata": {},
     "output_type": "execute_result"
    }
   ],
   "source": [
    "round(len(explore[explore.case_late]) / len(explore), 2)"
   ]
  },
  {
   "cell_type": "code",
   "execution_count": 127,
   "metadata": {
    "ExecuteTime": {
     "end_time": "2019-05-20T00:44:14.200279Z",
     "start_time": "2019-05-20T00:44:14.084766Z"
    }
   },
   "outputs": [
    {
     "data": {
      "image/png": "[encoded data removed]",
      "text/plain": [
       "<Figure size 432x288 with 1 Axes>"
      ]
     },
     "metadata": {
      "needs_background": "light"
     },
     "output_type": "display_data"
    }
   ],
   "source": [
    "explore.groupby(\"case_late\")[\"case_late\"].count().plot.barh(title=\"Number of Late v. Timely Cases\")\n",
    "plt.show()"
   ]
  },
  {
   "cell_type": "markdown",
   "metadata": {},
   "source": [
    "### Department v. Department Division"
   ]
  },
  {
   "cell_type": "markdown",
   "metadata": {},
   "source": [
    "#### What department is most likely to have a late case?\n",
    "\n",
    "group the cases by department. then divide the number of late cases by total cases in the department"
   ]
  },
  {
   "cell_type": "code",
   "execution_count": 128,
   "metadata": {
    "ExecuteTime": {
     "end_time": "2019-05-20T00:44:21.607141Z",
     "start_time": "2019-05-20T00:44:21.596665Z"
    }
   },
   "outputs": [
    {
     "name": "stdout",
     "output_type": "stream",
     "text": [
      "dept_name\n",
      "animal care services         323\n",
      "code enforcement services    361\n",
      "customer service              31\n",
      "development services          12\n",
      "metro health                  15\n",
      "Name: dept_name, dtype: int64\n",
      "\n",
      "dept_name\n",
      "animal care services         1593\n",
      "code enforcement services    4284\n",
      "customer service               43\n",
      "development services           17\n",
      "metro health                   74\n",
      "Name: dept_name, dtype: int64\n"
     ]
    }
   ],
   "source": [
    "late_by_dept = explore[explore.case_late].groupby(\"dept_name\")[\"dept_name\"].count()\n",
    "all_by_dept = explore.groupby(\"dept_name\")[\"dept_name\"].count()\n",
    "\n",
    "print(late_by_dept.head())\n",
    "print()\n",
    "print(all_by_dept.head())"
   ]
  },
  {
   "cell_type": "code",
   "execution_count": 130,
   "metadata": {
    "ExecuteTime": {
     "end_time": "2019-05-20T00:44:52.733973Z",
     "start_time": "2019-05-20T00:44:52.571649Z"
    }
   },
   "outputs": [
    {
     "data": {
      "image/png": "[encoded data removed]",
      "text/plain": [
       "<Figure size 576x432 with 1 Axes>"
      ]
     },
     "metadata": {
      "needs_background": "light"
     },
     "output_type": "display_data"
    }
   ],
   "source": [
    "prob_late_by_dept = round((late_by_dept / all_by_dept).sort_values(), 2)\n",
    "prob_late_by_dept.plot.barh(title=\"Probability of lateness by department\", figsize=(8, 6))\n",
    "plt.show()"
   ]
  },
  {
   "cell_type": "code",
   "execution_count": 131,
   "metadata": {
    "ExecuteTime": {
     "end_time": "2019-05-20T00:44:57.996484Z",
     "start_time": "2019-05-20T00:44:57.979539Z"
    }
   },
   "outputs": [
    {
     "name": "stdout",
     "output_type": "stream",
     "text": [
      "Chi2: 477.00100505404754\n",
      "p-val: 6.030296060303477e-98\n"
     ]
    }
   ],
   "source": [
    "adalib.series_chi2_test(explore.dept_name, explore.case_late)"
   ]
  },
  {
   "cell_type": "markdown",
   "metadata": {},
   "source": [
    "There appears to be a relationship between department and lateness of the case. What about division?"
   ]
  },
  {
   "cell_type": "markdown",
   "metadata": {},
   "source": [
    "#### What division is most likely to have late cases?"
   ]
  },
  {
   "cell_type": "code",
   "execution_count": 132,
   "metadata": {
    "ExecuteTime": {
     "end_time": "2019-05-20T00:45:04.193908Z",
     "start_time": "2019-05-20T00:45:04.184899Z"
    }
   },
   "outputs": [
    {
     "name": "stdout",
     "output_type": "stream",
     "text": [
      "dept_division\n",
      "311 call center                 31\n",
      "brush                           38\n",
      "clean and green                  4\n",
      "code enforcement               326\n",
      "code enforcement (internal)      1\n",
      "Name: dept_division, dtype: int64\n",
      "\n",
      "dept_division\n",
      "311 call center                  43\n",
      "brush                           266\n",
      "clean and green                  14\n",
      "code enforcement               3616\n",
      "code enforcement (internal)       1\n",
      "Name: dept_division, dtype: int64\n"
     ]
    }
   ],
   "source": [
    "late_by_div = explore[explore.case_late].groupby(\"dept_division\")[\"dept_division\"].count()\n",
    "all_by_div = explore.groupby(\"dept_division\")[\"dept_division\"].count()\n",
    "\n",
    "print(late_by_div.head())\n",
    "print()\n",
    "print(all_by_div.head())"
   ]
  },
  {
   "cell_type": "code",
   "execution_count": 133,
   "metadata": {
    "ExecuteTime": {
     "end_time": "2019-05-20T00:45:05.653546Z",
     "start_time": "2019-05-20T00:45:05.395358Z"
    }
   },
   "outputs": [
    {
     "data": {
      "image/png": "[encoded data removed]",
      "text/plain": [
       "<Figure size 864x720 with 1 Axes>"
      ]
     },
     "metadata": {
      "needs_background": "light"
     },
     "output_type": "display_data"
    }
   ],
   "source": [
    "prob_late_by_div = round((late_by_div / all_by_div).sort_values(), 2)\n",
    "prob_late_by_div.plot.barh(title=\"Probability of lateness by department division\", figsize=(12, 10))\n",
    "plt.show()"
   ]
  },
  {
   "cell_type": "code",
   "execution_count": 134,
   "metadata": {
    "ExecuteTime": {
     "end_time": "2019-05-20T00:45:13.516562Z",
     "start_time": "2019-05-20T00:45:13.500209Z"
    }
   },
   "outputs": [
    {
     "name": "stdout",
     "output_type": "stream",
     "text": [
      "Chi2: 670.0662655357766\n",
      "p-val: 1.3597729149233703e-124\n"
     ]
    }
   ],
   "source": [
    "adalib.series_chi2_test(explore.dept_division, explore.case_late)"
   ]
  },
  {
   "cell_type": "markdown",
   "metadata": {},
   "source": [
    "#### Department v. Department Division"
   ]
  },
  {
   "cell_type": "code",
   "execution_count": 135,
   "metadata": {
    "ExecuteTime": {
     "end_time": "2019-05-20T00:45:14.975930Z",
     "start_time": "2019-05-20T00:45:14.955124Z"
    }
   },
   "outputs": [
    {
     "name": "stdout",
     "output_type": "stream",
     "text": [
      "Chi2: 91744.0\n",
      "p-val: 0.0\n"
     ]
    }
   ],
   "source": [
    "adalib.series_chi2_test(explore.dept_division, explore.dept_name)"
   ]
  },
  {
   "cell_type": "markdown",
   "metadata": {},
   "source": [
    "They are highly related, so I will use one."
   ]
  },
  {
   "cell_type": "markdown",
   "metadata": {},
   "source": [
    "### What about request type?"
   ]
  },
  {
   "cell_type": "code",
   "execution_count": 136,
   "metadata": {
    "ExecuteTime": {
     "end_time": "2019-05-20T00:48:24.301167Z",
     "start_time": "2019-05-20T00:48:24.286330Z"
    }
   },
   "outputs": [
    {
     "name": "stdout",
     "output_type": "stream",
     "text": [
      "request_type\n",
      "\"vacant lot-private (12\"\")\"                 6\n",
      "1st call bagged leaves                      6\n",
      "additional cart request                     9\n",
      "additional garbage container - with fee    15\n",
      "aggressive animal(critical)                58\n",
      "Name: request_type, dtype: int64\n",
      "\n",
      "request_type\n",
      "\"vacant lot-city (12\"\")\"       13\n",
      "\"vacant lot-city (48\"\")\"        4\n",
      "\"vacant lot-county (12\"\")\"      1\n",
      "\"vacant lot-county (48\"\")\"      1\n",
      "\"vacant lot-private (12\"\")\"    95\n",
      "Name: request_type, dtype: int64\n"
     ]
    }
   ],
   "source": [
    "late_by_req = explore[explore.case_late].groupby(\"request_type\")[\"request_type\"].count()\n",
    "all_by_req = explore.groupby(\"request_type\")[\"request_type\"].count()\n",
    "\n",
    "print(late_by_req.head())\n",
    "print()\n",
    "print(all_by_req.head())"
   ]
  },
  {
   "cell_type": "code",
   "execution_count": 139,
   "metadata": {
    "ExecuteTime": {
     "end_time": "2019-05-20T00:50:07.407680Z",
     "start_time": "2019-05-20T00:50:07.176797Z"
    }
   },
   "outputs": [
    {
     "data": {
      "image/png": "[encoded data removed]",
      "text/plain": [
       "<Figure size 864x720 with 1 Axes>"
      ]
     },
     "metadata": {
      "needs_background": "light"
     },
     "output_type": "display_data"
    }
   ],
   "source": [
    "prob_late_by_req = round((late_by_req / all_by_req).sort_values(), 2)\n",
    "prob_late_by_req[:15].plot.barh(title=\"Probability of lateness by department reqision\", figsize=(12, 10))\n",
    "plt.show()"
   ]
  },
  {
   "cell_type": "markdown",
   "metadata": {},
   "source": [
    "## Model"
   ]
  },
  {
   "cell_type": "markdown",
   "metadata": {},
   "source": [
    "### Features\n",
    "\n",
    "- dept_division (good chi2 results; even better than dept_name)"
   ]
  },
  {
   "cell_type": "markdown",
   "metadata": {},
   "source": [
    "### What if I use only dept_division?"
   ]
  },
  {
   "cell_type": "markdown",
   "metadata": {},
   "source": [
    "#### Transform the data"
   ]
  },
  {
   "cell_type": "code",
   "execution_count": 173,
   "metadata": {
    "ExecuteTime": {
     "end_time": "2019-05-20T01:14:16.607883Z",
     "start_time": "2019-05-20T01:14:08.491782Z"
    }
   },
   "outputs": [],
   "source": [
    "rf = RFormula(formula='case_late ~ dept_division')\n",
    "\n",
    "fitted_rf = rf.fit(train)\n",
    "train = fitted_rf.transform(train).select('features', 'label')"
   ]
  },
  {
   "cell_type": "code",
   "execution_count": 174,
   "metadata": {
    "ExecuteTime": {
     "end_time": "2019-05-20T01:14:26.076323Z",
     "start_time": "2019-05-20T01:14:17.702489Z"
    }
   },
   "outputs": [
    {
     "name": "stdout",
     "output_type": "stream",
     "text": [
      "+---------------+------+\n",
      "|       features| count|\n",
      "+---------------+------+\n",
      "|(28,[19],[1.0])|   905|\n",
      "| (28,[0],[1.0])|185603|\n",
      "|(28,[25],[1.0])|   134|\n",
      "| (28,[9],[1.0])| 10414|\n",
      "|(28,[27],[1.0])|    29|\n",
      "|(28,[14],[1.0])|  2291|\n",
      "|(28,[10],[1.0])| 10187|\n",
      "| (28,[8],[1.0])| 10493|\n",
      "|     (28,[],[])|     2|\n",
      "| (28,[5],[1.0])| 14373|\n",
      "|(28,[21],[1.0])|   580|\n",
      "|(28,[15],[1.0])|  2240|\n",
      "|(28,[13],[1.0])|  2608|\n",
      "| (28,[1],[1.0])|149915|\n",
      "|(28,[16],[1.0])|  1927|\n",
      "| (28,[6],[1.0])| 12695|\n",
      "|(28,[17],[1.0])|  1524|\n",
      "|(28,[24],[1.0])|   355|\n",
      "|(28,[20],[1.0])|   728|\n",
      "|(28,[18],[1.0])|   954|\n",
      "+---------------+------+\n",
      "only showing top 20 rows\n",
      "\n"
     ]
    }
   ],
   "source": [
    "train.groupBy(\"features\").count().show()"
   ]
  },
  {
   "cell_type": "markdown",
   "metadata": {},
   "source": [
    "#### Train the model"
   ]
  },
  {
   "cell_type": "code",
   "execution_count": 175,
   "metadata": {
    "ExecuteTime": {
     "end_time": "2019-05-20T01:14:46.862828Z",
     "start_time": "2019-05-20T01:14:30.397574Z"
    }
   },
   "outputs": [],
   "source": [
    "lr = LogisticRegression()\n",
    "lr_fit = lr.fit(train)"
   ]
  },
  {
   "cell_type": "code",
   "execution_count": 176,
   "metadata": {
    "ExecuteTime": {
     "end_time": "2019-05-20T01:14:59.533490Z",
     "start_time": "2019-05-20T01:14:52.695313Z"
    }
   },
   "outputs": [
    {
     "name": "stdout",
     "output_type": "stream",
     "text": [
      "+---------------+-----+--------------------+--------------------+----------+---------------+\n",
      "|       features|label|       rawPrediction|         probability|prediction|we_got_it_right|\n",
      "+---------------+-----+--------------------+--------------------+----------+---------------+\n",
      "|(28,[16],[1.0])|  0.0|[-0.9869632858356...|[0.27151230265707...|       1.0|          false|\n",
      "|(28,[16],[1.0])|  1.0|[-0.9869632858356...|[0.27151230265707...|       1.0|           true|\n",
      "|(28,[16],[1.0])|  1.0|[-0.9869632858356...|[0.27151230265707...|       1.0|           true|\n",
      "|(28,[16],[1.0])|  1.0|[-0.9869632858356...|[0.27151230265707...|       1.0|           true|\n",
      "|(28,[16],[1.0])|  1.0|[-0.9869632858356...|[0.27151230265707...|       1.0|           true|\n",
      "|(28,[16],[1.0])|  1.0|[-0.9869632858356...|[0.27151230265707...|       1.0|           true|\n",
      "|(28,[16],[1.0])|  0.0|[-0.9869632858356...|[0.27151230265707...|       1.0|          false|\n",
      "|(28,[16],[1.0])|  0.0|[-0.9869632858356...|[0.27151230265707...|       1.0|          false|\n",
      "|(28,[16],[1.0])|  1.0|[-0.9869632858356...|[0.27151230265707...|       1.0|           true|\n",
      "|(28,[16],[1.0])|  1.0|[-0.9869632858356...|[0.27151230265707...|       1.0|           true|\n",
      "|(28,[16],[1.0])|  1.0|[-0.9869632858356...|[0.27151230265707...|       1.0|           true|\n",
      "|(28,[16],[1.0])|  0.0|[-0.9869632858356...|[0.27151230265707...|       1.0|          false|\n",
      "|(28,[16],[1.0])|  1.0|[-0.9869632858356...|[0.27151230265707...|       1.0|           true|\n",
      "|(28,[16],[1.0])|  1.0|[-0.9869632858356...|[0.27151230265707...|       1.0|           true|\n",
      "|(28,[16],[1.0])|  1.0|[-0.9869632858356...|[0.27151230265707...|       1.0|           true|\n",
      "|(28,[16],[1.0])|  0.0|[-0.9869632858356...|[0.27151230265707...|       1.0|          false|\n",
      "|(28,[16],[1.0])|  0.0|[-0.9869632858356...|[0.27151230265707...|       1.0|          false|\n",
      "|(28,[16],[1.0])|  1.0|[-0.9869632858356...|[0.27151230265707...|       1.0|           true|\n",
      "|(28,[16],[1.0])|  1.0|[-0.9869632858356...|[0.27151230265707...|       1.0|           true|\n",
      "|(28,[16],[1.0])|  0.0|[-0.9869632858356...|[0.27151230265707...|       1.0|          false|\n",
      "+---------------+-----+--------------------+--------------------+----------+---------------+\n",
      "only showing top 20 rows\n",
      "\n"
     ]
    }
   ],
   "source": [
    "(lr_fit.transform(train)\n",
    " .withColumn('we_got_it_right', F.col('label') == F.col('prediction'))).show()"
   ]
  },
  {
   "cell_type": "code",
   "execution_count": 177,
   "metadata": {
    "ExecuteTime": {
     "end_time": "2019-05-20T01:15:06.747774Z",
     "start_time": "2019-05-20T01:15:06.743217Z"
    }
   },
   "outputs": [],
   "source": [
    "training_summary = lr_fit.summary"
   ]
  },
  {
   "cell_type": "code",
   "execution_count": 189,
   "metadata": {
    "ExecuteTime": {
     "end_time": "2019-05-20T01:53:12.794483Z",
     "start_time": "2019-05-20T01:53:12.789639Z"
    }
   },
   "outputs": [
    {
     "data": {
      "text/plain": [
       "0.67"
      ]
     },
     "execution_count": 189,
     "metadata": {},
     "output_type": "execute_result"
    }
   ],
   "source": [
    "round(training_summary.areaUnderROC, 2)"
   ]
  },
  {
   "cell_type": "code",
   "execution_count": 190,
   "metadata": {
    "ExecuteTime": {
     "end_time": "2019-05-20T01:53:13.186449Z",
     "start_time": "2019-05-20T01:53:13.180496Z"
    }
   },
   "outputs": [
    {
     "data": {
      "text/plain": [
       "0.89"
      ]
     },
     "execution_count": 190,
     "metadata": {},
     "output_type": "execute_result"
    }
   ],
   "source": [
    "round(training_summary.accuracy, 2)"
   ]
  },
  {
   "cell_type": "code",
   "execution_count": 181,
   "metadata": {
    "ExecuteTime": {
     "end_time": "2019-05-20T01:16:45.025846Z",
     "start_time": "2019-05-20T01:16:44.964966Z"
    }
   },
   "outputs": [],
   "source": [
    "test = fitted_rf.transform(test).select('features', 'label')"
   ]
  },
  {
   "cell_type": "markdown",
   "metadata": {},
   "source": [
    "#### Evaluate the model"
   ]
  },
  {
   "cell_type": "code",
   "execution_count": 182,
   "metadata": {
    "ExecuteTime": {
     "end_time": "2019-05-20T01:16:53.671841Z",
     "start_time": "2019-05-20T01:16:46.575185Z"
    }
   },
   "outputs": [
    {
     "name": "stdout",
     "output_type": "stream",
     "text": [
      "+---------------+-----+--------------------+--------------------+----------+---------------+\n",
      "|       features|label|       rawPrediction|         probability|prediction|we_got_it_right|\n",
      "+---------------+-----+--------------------+--------------------+----------+---------------+\n",
      "|(28,[16],[1.0])|  1.0|[-0.9869632858356...|[0.27151230265707...|       1.0|           true|\n",
      "|(28,[16],[1.0])|  1.0|[-0.9869632858356...|[0.27151230265707...|       1.0|           true|\n",
      "|(28,[16],[1.0])|  1.0|[-0.9869632858356...|[0.27151230265707...|       1.0|           true|\n",
      "|(28,[16],[1.0])|  1.0|[-0.9869632858356...|[0.27151230265707...|       1.0|           true|\n",
      "|(28,[16],[1.0])|  0.0|[-0.9869632858356...|[0.27151230265707...|       1.0|          false|\n",
      "|(28,[16],[1.0])|  1.0|[-0.9869632858356...|[0.27151230265707...|       1.0|           true|\n",
      "|(28,[16],[1.0])|  1.0|[-0.9869632858356...|[0.27151230265707...|       1.0|           true|\n",
      "|(28,[16],[1.0])|  1.0|[-0.9869632858356...|[0.27151230265707...|       1.0|           true|\n",
      "|(28,[16],[1.0])|  1.0|[-0.9869632858356...|[0.27151230265707...|       1.0|           true|\n",
      "|(28,[16],[1.0])|  1.0|[-0.9869632858356...|[0.27151230265707...|       1.0|           true|\n",
      "|(28,[16],[1.0])|  0.0|[-0.9869632858356...|[0.27151230265707...|       1.0|          false|\n",
      "|(28,[16],[1.0])|  1.0|[-0.9869632858356...|[0.27151230265707...|       1.0|           true|\n",
      "|(28,[16],[1.0])|  0.0|[-0.9869632858356...|[0.27151230265707...|       1.0|          false|\n",
      "|(28,[16],[1.0])|  1.0|[-0.9869632858356...|[0.27151230265707...|       1.0|           true|\n",
      "|(28,[16],[1.0])|  0.0|[-0.9869632858356...|[0.27151230265707...|       1.0|          false|\n",
      "|(28,[16],[1.0])|  1.0|[-0.9869632858356...|[0.27151230265707...|       1.0|           true|\n",
      "|(28,[16],[1.0])|  0.0|[-0.9869632858356...|[0.27151230265707...|       1.0|          false|\n",
      "|(28,[16],[1.0])|  1.0|[-0.9869632858356...|[0.27151230265707...|       1.0|           true|\n",
      "|(28,[16],[1.0])|  0.0|[-0.9869632858356...|[0.27151230265707...|       1.0|          false|\n",
      "|(28,[16],[1.0])|  1.0|[-0.9869632858356...|[0.27151230265707...|       1.0|           true|\n",
      "+---------------+-----+--------------------+--------------------+----------+---------------+\n",
      "only showing top 20 rows\n",
      "\n"
     ]
    }
   ],
   "source": [
    "(lr_fit.transform(test)\n",
    " .withColumn('we_got_it_right', F.col('label') == F.col('prediction'))).show()"
   ]
  },
  {
   "cell_type": "code",
   "execution_count": 186,
   "metadata": {
    "ExecuteTime": {
     "end_time": "2019-05-20T01:51:54.957926Z",
     "start_time": "2019-05-20T01:51:54.557681Z"
    }
   },
   "outputs": [],
   "source": [
    "test_summary = lr_fit.evaluate(test)"
   ]
  },
  {
   "cell_type": "code",
   "execution_count": 191,
   "metadata": {
    "ExecuteTime": {
     "end_time": "2019-05-20T01:53:27.201125Z",
     "start_time": "2019-05-20T01:53:27.196444Z"
    }
   },
   "outputs": [
    {
     "data": {
      "text/plain": [
       "0.67"
      ]
     },
     "execution_count": 191,
     "metadata": {},
     "output_type": "execute_result"
    }
   ],
   "source": [
    "round(test_summary.areaUnderROC, 2)"
   ]
  },
  {
   "cell_type": "code",
   "execution_count": 192,
   "metadata": {
    "ExecuteTime": {
     "end_time": "2019-05-20T01:53:46.328970Z",
     "start_time": "2019-05-20T01:53:46.324890Z"
    }
   },
   "outputs": [
    {
     "data": {
      "text/plain": [
       "0.89"
      ]
     },
     "execution_count": 192,
     "metadata": {},
     "output_type": "execute_result"
    }
   ],
   "source": [
    "round(test_summary.accuracy, 2)"
   ]
  },
  {
   "cell_type": "code",
   "execution_count": null,
   "metadata": {},
   "outputs": [],
   "source": []
  }
 ],
 "metadata": {
  "kernelspec": {
   "display_name": "Python 3",
   "language": "python",
   "name": "python3"
  },
  "language_info": {
   "codemirror_mode": {
    "name": "ipython",
    "version": 3
   },
   "file_extension": ".py",
   "mimetype": "text/x-python",
   "name": "python",
   "nbconvert_exporter": "python",
   "pygments_lexer": "ipython3",
   "version": "3.7.1"
  },
  "toc": {
   "base_numbering": 1,
   "nav_menu": {},
   "number_sections": false,
   "sideBar": true,
   "skip_h1_title": true,
   "title_cell": "Table of Contents",
   "title_sidebar": "Contents",
   "toc_cell": true,
   "toc_position": {
    "height": "calc(100% - 180px)",
    "left": "10px",
    "top": "150px",
    "width": "322.4px"
   },
   "toc_section_display": true,
   "toc_window_display": true
  },
  "varInspector": {
   "cols": {
    "lenName": 16,
    "lenType": 16,
    "lenVar": 40
   },
   "kernels_config": {
    "python": {
     "delete_cmd_postfix": "",
     "delete_cmd_prefix": "del ",
     "library": "var_list.py",
     "varRefreshCmd": "print(var_dic_list())"
    },
    "r": {
     "delete_cmd_postfix": ") ",
     "delete_cmd_prefix": "rm(",
     "library": "var_list.r",
     "varRefreshCmd": "cat(var_dic_list()) "
    }
   },
   "types_to_exclude": [
    "module",
    "function",
    "builtin_function_or_method",
    "instance",
    "_Feature"
   ],
   "window_display": false
  }
 },
 "nbformat": 4,
 "nbformat_minor": 2
}
