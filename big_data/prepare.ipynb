{
 "cells": [
  {
   "cell_type": "markdown",
   "metadata": {},
   "source": [
    "# Big Data - Preparation Exercise"
   ]
  },
  {
   "cell_type": "markdown",
   "metadata": {
    "toc": true
   },
   "source": [
    "<h1>Table of Contents<span class=\"tocSkip\"></span></h1>\n",
    "<div class=\"toc\"><ul class=\"toc-item\"><li><span><a href=\"#Part-1\" data-toc-modified-id=\"Part-1-1\">Part 1</a></span><ul class=\"toc-item\"><li><span><a href=\"#1.-Read-the-case.csv-file-from-the-311-call-data-into-a-Spark-DataFrame.\" data-toc-modified-id=\"1.-Read-the-case.csv-file-from-the-311-call-data-into-a-Spark-DataFrame.-1.1\">1. Read the case.csv file from the 311 call data into a Spark DataFrame.</a></span></li><li><span><a href=\"#2.-How-old-is-the-latest-(in-terms-of-days-past-SLA)-currently-open-issue?-How-long-has-the-oldest-(in-terms-of-days-since-opened)-currently-opened-issue-been-open?\" data-toc-modified-id=\"2.-How-old-is-the-latest-(in-terms-of-days-past-SLA)-currently-open-issue?-How-long-has-the-oldest-(in-terms-of-days-since-opened)-currently-opened-issue-been-open?-1.2\">2. How old is the latest (in terms of days past SLA) currently open issue? How long has the oldest (in terms of days since opened) currently opened issue been open?</a></span></li><li><span><a href=\"#3.-How-many-Stray-Animal-cases-are-there?\" data-toc-modified-id=\"3.-How-many-Stray-Animal-cases-are-there?-1.3\">3. How many Stray Animal cases are there?</a></span></li><li><span><a href=\"#4.-How-many-service-requests-that-are-assigned-to-the-Field-Operations-department-(dept_division)-are-not-classified-as-&quot;Officer-Standby&quot;-request-type-(service_request_type)?\" data-toc-modified-id=\"4.-How-many-service-requests-that-are-assigned-to-the-Field-Operations-department-(dept_division)-are-not-classified-as-&quot;Officer-Standby&quot;-request-type-(service_request_type)?-1.4\">4. How many service requests that are assigned to the Field Operations department (dept_division) are not classified as \"Officer Standby\" request type (service_request_type)?</a></span></li><li><span><a href=\"#5.-Create-a-new-DataFrame-without-any-information-related-to-dates-or-location.\" data-toc-modified-id=\"5.-Create-a-new-DataFrame-without-any-information-related-to-dates-or-location.-1.5\">5. Create a new DataFrame without any information related to dates or location.</a></span></li><li><span><a href=\"#6.-Read-dept.csv-into-a-Spark-DataFrame.-Inspect-the-dept_name-column.-Replace-the-missing-values-with-&quot;other&quot;.\" data-toc-modified-id=\"6.-Read-dept.csv-into-a-Spark-DataFrame.-Inspect-the-dept_name-column.-Replace-the-missing-values-with-&quot;other&quot;.-1.6\">6. Read dept.csv into a Spark DataFrame. Inspect the dept_name column. Replace the missing values with \"other\".</a></span></li></ul></li><li><span><a href=\"#Part-2\" data-toc-modified-id=\"Part-2-2\">Part 2</a></span><ul class=\"toc-item\"><li><span><a href=\"#1.-Convert-the-council_district-column-to-a-string-column.\" data-toc-modified-id=\"1.-Convert-the-council_district-column-to-a-string-column.-2.1\">1. Convert the council_district column to a string column.</a></span></li><li><span><a href=\"#2.-Extract-the-year-from-the-case_closed_date-column.\" data-toc-modified-id=\"2.-Extract-the-year-from-the-case_closed_date-column.-2.2\">2. Extract the year from the case_closed_date column.</a></span></li><li><span><a href=\"#3.-Convert-num_days_late-from-days-to-hours-in-new-columns-num_hours_late.\" data-toc-modified-id=\"3.-Convert-num_days_late-from-days-to-hours-in-new-columns-num_hours_late.-2.3\">3. Convert num_days_late from days to hours in new columns num_hours_late.</a></span></li><li><span><a href=\"#4.-Convert-the-case_late-column-to-a-boolean-column.\" data-toc-modified-id=\"4.-Convert-the-case_late-column-to-a-boolean-column.-2.4\">4. Convert the case_late column to a boolean column.</a></span></li><li><span><a href=\"#5.-Convert-the-SLA_days-columns-to-a-double-column.\" data-toc-modified-id=\"5.-Convert-the-SLA_days-columns-to-a-double-column.-2.5\">5. Convert the SLA_days columns to a double column.</a></span></li><li><span><a href=\"#6.-Pull-it-all-together\" data-toc-modified-id=\"6.-Pull-it-all-together-2.6\">6. Pull it all together</a></span></li></ul></li><li><span><a href=\"#Part-3\" data-toc-modified-id=\"Part-3-3\">Part 3</a></span><ul class=\"toc-item\"><li><span><a href=\"#1.-Create-a-DataFrame-with-all-combinations-of-council_district-and-service_request_type-(regardless-of-whether-the-combination-is-observed-in-the-data).\" data-toc-modified-id=\"1.-Create-a-DataFrame-with-all-combinations-of-council_district-and-service_request_type-(regardless-of-whether-the-combination-is-observed-in-the-data).-3.1\">1. Create a DataFrame with all combinations of council_district and service_request_type (regardless of whether the combination is observed in the data).</a></span></li><li><span><a href=\"#2.-Join-the-case-data-with-the-source-and-department-data.\" data-toc-modified-id=\"2.-Join-the-case-data-with-the-source-and-department-data.-3.2\">2. Join the case data with the source and department data.</a></span></li><li><span><a href=\"#3.-Are-there-any-cases-that-do-not-have-a-request-source?\" data-toc-modified-id=\"3.-Are-there-any-cases-that-do-not-have-a-request-source?-3.3\">3. Are there any cases that do not have a request source?</a></span></li></ul></li><li><span><a href=\"#Part-4\" data-toc-modified-id=\"Part-4-4\">Part 4</a></span><ul class=\"toc-item\"><li><span><a href=\"#1.-What-are-the-top-10-service-request-types-in-terms-of-number-of-requests?\" data-toc-modified-id=\"1.-What-are-the-top-10-service-request-types-in-terms-of-number-of-requests?-4.1\">1. What are the top 10 service request types in terms of number of requests?</a></span></li><li><span><a href=\"#2.-What-are-the-top-10-service-request-types-in-terms-of-average-days-late?\" data-toc-modified-id=\"2.-What-are-the-top-10-service-request-types-in-terms-of-average-days-late?-4.2\">2. What are the top 10 service request types in terms of average days late?</a></span></li><li><span><a href=\"#3.-Does-number-of-days-late-depend-on-department?\" data-toc-modified-id=\"3.-Does-number-of-days-late-depend-on-department?-4.3\">3. Does number of days late depend on department?</a></span></li><li><span><a href=\"#4.-How-do-number-of-days-late-depend-on-department-division-and-request-type?\" data-toc-modified-id=\"4.-How-do-number-of-days-late-depend-on-department-division-and-request-type?-4.4\">4. How do number of days late depend on department division and request type?</a></span></li></ul></li></ul></div>"
   ]
  },
  {
   "cell_type": "code",
   "execution_count": 1,
   "metadata": {
    "ExecuteTime": {
     "end_time": "2019-05-16T19:57:55.684412Z",
     "start_time": "2019-05-16T19:57:55.487627Z"
    }
   },
   "outputs": [],
   "source": [
    "import pyspark\n",
    "import pyspark.sql.functions as F"
   ]
  },
  {
   "cell_type": "code",
   "execution_count": 2,
   "metadata": {
    "ExecuteTime": {
     "end_time": "2019-05-16T19:58:14.559488Z",
     "start_time": "2019-05-16T19:57:55.686484Z"
    }
   },
   "outputs": [],
   "source": [
    "nprocs = 2\n",
    "\n",
    "spark = (pyspark.sql.SparkSession.builder\n",
    " .master('local')\n",
    " .config('spark.jars.packages', 'mysql:mysql-connector-java:8.0.16')\n",
    " .config('spark.driver.memory', '4G')\n",
    " .config('spark.driver.cores', nprocs)\n",
    " .config('spark.sql.shuffle.partitions', nprocs)\n",
    " .appName('acquire')\n",
    " .enableHiveSupport()\n",
    " .getOrCreate())"
   ]
  },
  {
   "cell_type": "markdown",
   "metadata": {
    "heading_collapsed": true
   },
   "source": [
    "## Part 1"
   ]
  },
  {
   "cell_type": "markdown",
   "metadata": {
    "heading_collapsed": true,
    "hidden": true
   },
   "source": [
    "### 1. Read the case.csv file from the 311 call data into a Spark DataFrame."
   ]
  },
  {
   "cell_type": "code",
   "execution_count": 3,
   "metadata": {
    "ExecuteTime": {
     "end_time": "2019-05-16T19:58:20.182075Z",
     "start_time": "2019-05-16T19:58:14.562751Z"
    },
    "hidden": true
   },
   "outputs": [],
   "source": [
    "def read_cases_csv():\n",
    "    return spark.read.csv(\"sa311/case.csv\", header=True, inferSchema=True)\n",
    "\n",
    "df = read_cases_csv()"
   ]
  },
  {
   "cell_type": "code",
   "execution_count": 4,
   "metadata": {
    "ExecuteTime": {
     "end_time": "2019-05-16T19:58:20.408978Z",
     "start_time": "2019-05-16T19:58:20.183872Z"
    },
    "hidden": true
   },
   "outputs": [
    {
     "name": "stdout",
     "output_type": "stream",
     "text": [
      "-RECORD 0-----------------------------------------------------\n",
      " case_id              | 1014127332                            \n",
      " case_opened_date     | 1/1/18 0:42                           \n",
      " case_closed_date     | 1/1/18 12:29                          \n",
      " SLA_due_date         | 9/26/20 0:42                          \n",
      " case_late            | NO                                    \n",
      " num_days_late        | -998.5087616000001                    \n",
      " case_closed          | YES                                   \n",
      " dept_division        | Field Operations                      \n",
      " service_request_type | Stray Animal                          \n",
      " SLA_days             | 999.0                                 \n",
      " case_status          | Closed                                \n",
      " source_id            | svcCRMLS                              \n",
      " request_address      | 2315  EL PASO ST, San Antonio, 78207  \n",
      " council_district     | 5                                     \n",
      "-RECORD 1-----------------------------------------------------\n",
      " case_id              | 1014127333                            \n",
      " case_opened_date     | 1/1/18 0:46                           \n",
      " case_closed_date     | 1/3/18 8:11                           \n",
      " SLA_due_date         | 1/5/18 8:30                           \n",
      " case_late            | NO                                    \n",
      " num_days_late        | -2.0126041669999997                   \n",
      " case_closed          | YES                                   \n",
      " dept_division        | Storm Water                           \n",
      " service_request_type | Removal Of Obstruction                \n",
      " SLA_days             | 4.322222222                           \n",
      " case_status          | Closed                                \n",
      " source_id            | svcCRMSS                              \n",
      " request_address      | 2215  GOLIAD RD, San Antonio, 78223   \n",
      " council_district     | 3                                     \n",
      "-RECORD 2-----------------------------------------------------\n",
      " case_id              | 1014127334                            \n",
      " case_opened_date     | 1/1/18 0:48                           \n",
      " case_closed_date     | 1/2/18 7:57                           \n",
      " SLA_due_date         | 1/5/18 8:30                           \n",
      " case_late            | NO                                    \n",
      " num_days_late        | -3.022337963                          \n",
      " case_closed          | YES                                   \n",
      " dept_division        | Storm Water                           \n",
      " service_request_type | Removal Of Obstruction                \n",
      " SLA_days             | 4.320729167                           \n",
      " case_status          | Closed                                \n",
      " source_id            | svcCRMSS                              \n",
      " request_address      | 102  PALFREY ST W, San Antonio, 78223 \n",
      " council_district     | 3                                     \n",
      "only showing top 3 rows\n",
      "\n"
     ]
    }
   ],
   "source": [
    "df.show(3, vertical=True, truncate=False)"
   ]
  },
  {
   "cell_type": "markdown",
   "metadata": {
    "heading_collapsed": true,
    "hidden": true
   },
   "source": [
    "### 2. How old is the latest (in terms of days past SLA) currently open issue? How long has the oldest (in terms of days since opened) currently opened issue been open?"
   ]
  },
  {
   "cell_type": "markdown",
   "metadata": {
    "hidden": true
   },
   "source": [
    "convert columns with timestamps to timestamp type"
   ]
  },
  {
   "cell_type": "code",
   "execution_count": 5,
   "metadata": {
    "ExecuteTime": {
     "end_time": "2019-05-16T19:58:20.420717Z",
     "start_time": "2019-05-16T19:58:20.410968Z"
    },
    "hidden": true
   },
   "outputs": [
    {
     "name": "stdout",
     "output_type": "stream",
     "text": [
      "root\n",
      " |-- case_id: integer (nullable = true)\n",
      " |-- case_opened_date: string (nullable = true)\n",
      " |-- case_closed_date: string (nullable = true)\n",
      " |-- SLA_due_date: string (nullable = true)\n",
      " |-- case_late: string (nullable = true)\n",
      " |-- num_days_late: double (nullable = true)\n",
      " |-- case_closed: string (nullable = true)\n",
      " |-- dept_division: string (nullable = true)\n",
      " |-- service_request_type: string (nullable = true)\n",
      " |-- SLA_days: double (nullable = true)\n",
      " |-- case_status: string (nullable = true)\n",
      " |-- source_id: string (nullable = true)\n",
      " |-- request_address: string (nullable = true)\n",
      " |-- council_district: integer (nullable = true)\n",
      "\n"
     ]
    }
   ],
   "source": [
    "df.printSchema()"
   ]
  },
  {
   "cell_type": "code",
   "execution_count": 6,
   "metadata": {
    "ExecuteTime": {
     "end_time": "2019-05-16T19:58:20.516502Z",
     "start_time": "2019-05-16T19:58:20.422403Z"
    },
    "hidden": true
   },
   "outputs": [],
   "source": [
    "def df_fix_types(df):\n",
    "    return (df.withColumn(\"case_opened_date\", F.to_timestamp(df.case_opened_date, \"M/d/y H:mm\"))\n",
    "              .withColumn(\"case_closed_date\", F.to_timestamp(df.case_closed_date, \"M/d/y H:mm\"))\n",
    "              .withColumn(\"SLA_due_date\", F.to_timestamp(df.SLA_due_date, \"M/d/y H:mm\"))\n",
    "              .withColumn(\"case_late\", F.when(df.case_late == \"YES\", True).otherwise(False))\n",
    "              .withColumn(\"case_closed\", F.when(df.case_closed == \"YES\", True).otherwise(False)))\n",
    "\n",
    "df = df_fix_types(df)"
   ]
  },
  {
   "cell_type": "markdown",
   "metadata": {
    "hidden": true
   },
   "source": [
    "How old is the latest open issue?"
   ]
  },
  {
   "cell_type": "code",
   "execution_count": 7,
   "metadata": {
    "ExecuteTime": {
     "end_time": "2019-05-16T19:58:20.531688Z",
     "start_time": "2019-05-16T19:58:20.518221Z"
    },
    "hidden": true
   },
   "outputs": [],
   "source": [
    "latest_open_issue = F.max(df.where(~df.case_closed).case_opened_date).alias(\"latest_open_issue\")"
   ]
  },
  {
   "cell_type": "code",
   "execution_count": 8,
   "metadata": {
    "ExecuteTime": {
     "end_time": "2019-05-16T19:58:28.849442Z",
     "start_time": "2019-05-16T19:58:20.533287Z"
    },
    "hidden": true
   },
   "outputs": [
    {
     "name": "stdout",
     "output_type": "stream",
     "text": [
      "2018-08-08 10:38:00\n",
      "-RECORD 0--------------------------------------------------------------\n",
      " case_id              | 1014759619                                     \n",
      " case_opened_date     | 2018-08-08 10:38:00                            \n",
      " case_closed_date     | null                                           \n",
      " SLA_due_date         | 2018-08-22 10:38:00                            \n",
      " case_late            | false                                          \n",
      " num_days_late        | -13.44305556                                   \n",
      " case_closed          | false                                          \n",
      " dept_division        | Code Enforcement                               \n",
      " service_request_type | Bandit Signs                                   \n",
      " SLA_days             | 14.0                                           \n",
      " case_status          | Open                                           \n",
      " source_id            | CRM_Listener                                   \n",
      " request_address      | 1935  MILITARY DR SW, San Antonio, 78221       \n",
      " council_district     | 3                                              \n",
      "-RECORD 1--------------------------------------------------------------\n",
      " case_id              | 1014759618                                     \n",
      " case_opened_date     | 2018-08-08 10:38:00                            \n",
      " case_closed_date     | null                                           \n",
      " SLA_due_date         | 2018-08-22 10:38:00                            \n",
      " case_late            | false                                          \n",
      " num_days_late        | -13.44309028                                   \n",
      " case_closed          | false                                          \n",
      " dept_division        | Code Enforcement                               \n",
      " service_request_type | Dumpsters: City R.O.W.                         \n",
      " SLA_days             | 14.0                                           \n",
      " case_status          | Open                                           \n",
      " source_id            | gp20685                                        \n",
      " request_address      | 7311  SCOTLAND, San Antonio, 78213             \n",
      " council_district     | 1                                              \n",
      "-RECORD 2--------------------------------------------------------------\n",
      " case_id              | 1014759620                                     \n",
      " case_opened_date     | 2018-08-08 10:38:00                            \n",
      " case_closed_date     | null                                           \n",
      " SLA_due_date         | 2018-08-17 10:38:00                            \n",
      " case_late            | false                                          \n",
      " num_days_late        | -8.443217593                                   \n",
      " case_closed          | false                                          \n",
      " dept_division        | Brush                                          \n",
      " service_request_type | Brush - Out of Cycle Collection - Fee Required \n",
      " SLA_days             | 9.0                                            \n",
      " case_status          | Open                                           \n",
      " source_id            | 142989                                         \n",
      " request_address      | 125  LINCOLNSHIRE D, San Antonio, 78220        \n",
      " council_district     | 2                                              \n",
      "\n"
     ]
    }
   ],
   "source": [
    "latest_date = df.select(F.max(\"case_opened_date\")).first()[0]\n",
    "print(latest_date)\n",
    "\n",
    "df.where(df.case_opened_date == latest_date).show(truncate=False, vertical=True)"
   ]
  },
  {
   "cell_type": "markdown",
   "metadata": {
    "hidden": true
   },
   "source": [
    "There are three latest open issues."
   ]
  },
  {
   "cell_type": "code",
   "execution_count": 9,
   "metadata": {
    "ExecuteTime": {
     "end_time": "2019-05-16T19:58:31.273400Z",
     "start_time": "2019-05-16T19:58:28.852148Z"
    },
    "hidden": true
   },
   "outputs": [
    {
     "name": "stdout",
     "output_type": "stream",
     "text": [
      "+-------------------+-------------------+\n",
      "|                now|  latest_open_issue|\n",
      "+-------------------+-------------------+\n",
      "|2019-05-16 14:58:28|2018-08-08 10:38:00|\n",
      "+-------------------+-------------------+\n",
      "\n"
     ]
    }
   ],
   "source": [
    "times = df.select(F.to_timestamp(F.current_timestamp(), \"M/d/y H:mm\").alias(\"now\"), latest_open_issue)\n",
    "times.show()"
   ]
  },
  {
   "cell_type": "code",
   "execution_count": 10,
   "metadata": {
    "ExecuteTime": {
     "end_time": "2019-05-16T19:58:33.978541Z",
     "start_time": "2019-05-16T19:58:31.279204Z"
    },
    "hidden": true
   },
   "outputs": [
    {
     "name": "stdout",
     "output_type": "stream",
     "text": [
      "+-------------------+-------------------+--------+\n",
      "|                now|  latest_open_issue|datediff|\n",
      "+-------------------+-------------------+--------+\n",
      "|2019-05-16 14:58:31|2018-08-08 10:38:00|     281|\n",
      "+-------------------+-------------------+--------+\n",
      "\n"
     ]
    }
   ],
   "source": [
    "times.withColumn(\"datediff\", F.datediff(times.now, times.latest_open_issue)).show()"
   ]
  },
  {
   "cell_type": "markdown",
   "metadata": {
    "hidden": true
   },
   "source": [
    "Grab rows with SLA_due_date before or on today"
   ]
  },
  {
   "cell_type": "code",
   "execution_count": 11,
   "metadata": {
    "ExecuteTime": {
     "end_time": "2019-05-16T19:58:34.005648Z",
     "start_time": "2019-05-16T19:58:33.981325Z"
    },
    "hidden": true
   },
   "outputs": [],
   "source": [
    "earlier_sla = df.where(df.SLA_due_date <= F.to_timestamp(F.current_timestamp(), \"M/d/y H:mm\"))"
   ]
  },
  {
   "cell_type": "markdown",
   "metadata": {
    "hidden": true
   },
   "source": [
    "Find the row with latest SLA_due_date"
   ]
  },
  {
   "cell_type": "code",
   "execution_count": 12,
   "metadata": {
    "ExecuteTime": {
     "end_time": "2019-05-16T19:58:37.776311Z",
     "start_time": "2019-05-16T19:58:34.008406Z"
    },
    "hidden": true
   },
   "outputs": [
    {
     "name": "stdout",
     "output_type": "stream",
     "text": [
      "2019-05-16 14:08:00\n"
     ]
    }
   ],
   "source": [
    "latest_sla_date = earlier_sla.select(F.max(\"SLA_due_date\")).first()[0]\n",
    "print(latest_sla_date)"
   ]
  },
  {
   "cell_type": "markdown",
   "metadata": {
    "hidden": true
   },
   "source": [
    "Perform the calculation"
   ]
  },
  {
   "cell_type": "code",
   "execution_count": 13,
   "metadata": {
    "ExecuteTime": {
     "end_time": "2019-05-16T19:58:40.661123Z",
     "start_time": "2019-05-16T19:58:37.777941Z"
    },
    "hidden": true
   },
   "outputs": [
    {
     "name": "stdout",
     "output_type": "stream",
     "text": [
      "+-------------------+-------------------+---------------+\n",
      "|                now|latest_SLA_due_date|date_difference|\n",
      "+-------------------+-------------------+---------------+\n",
      "|2019-05-16 14:58:37|2019-05-16 14:08:00|              0|\n",
      "+-------------------+-------------------+---------------+\n",
      "\n"
     ]
    }
   ],
   "source": [
    "(earlier_sla.select(F.to_timestamp(F.current_timestamp(), \"M/d/y H:mm\").alias(\"now\"), F.max(\"SLA_due_date\").alias(\"latest_SLA_due_date\"))\n",
    "            .withColumn(\"date_difference\", F.datediff(F.col(\"now\"), F.col(\"latest_SLA_due_date\")))\n",
    "            .show())"
   ]
  },
  {
   "cell_type": "markdown",
   "metadata": {
    "hidden": true
   },
   "source": [
    "**Length of oldest open issue?**"
   ]
  },
  {
   "cell_type": "code",
   "execution_count": 14,
   "metadata": {
    "ExecuteTime": {
     "end_time": "2019-05-16T19:58:43.279925Z",
     "start_time": "2019-05-16T19:58:40.664111Z"
    },
    "hidden": true
   },
   "outputs": [
    {
     "name": "stdout",
     "output_type": "stream",
     "text": [
      "+-------------------+-------------------+---------------+\n",
      "| earliest_open_case|                now|date_difference|\n",
      "+-------------------+-------------------+---------------+\n",
      "|2017-01-01 03:22:00|2019-05-16 14:58:40|            865|\n",
      "+-------------------+-------------------+---------------+\n",
      "\n"
     ]
    }
   ],
   "source": [
    "(df.select(F.min(df.where(~df.case_closed).case_opened_date).alias(\"earliest_open_case\"))\n",
    "   .withColumn(\"now\", F.to_timestamp(F.current_timestamp(), \"M/d/y H:mm\"))\n",
    "   .withColumn(\"date_difference\", F.datediff(F.col(\"now\"), F.col(\"earliest_open_case\")))\n",
    "   .show())"
   ]
  },
  {
   "cell_type": "markdown",
   "metadata": {
    "heading_collapsed": true,
    "hidden": true
   },
   "source": [
    "### 3. How many Stray Animal cases are there?"
   ]
  },
  {
   "cell_type": "code",
   "execution_count": 15,
   "metadata": {
    "ExecuteTime": {
     "end_time": "2019-05-16T19:58:44.990815Z",
     "start_time": "2019-05-16T19:58:43.281394Z"
    },
    "hidden": true
   },
   "outputs": [
    {
     "data": {
      "text/plain": [
       "26760"
      ]
     },
     "execution_count": 15,
     "metadata": {},
     "output_type": "execute_result"
    }
   ],
   "source": [
    "df.where(F.lower(df.service_request_type) == \"stray animal\").count()"
   ]
  },
  {
   "cell_type": "markdown",
   "metadata": {
    "heading_collapsed": true,
    "hidden": true
   },
   "source": [
    "### 4. How many service requests that are assigned to the Field Operations department (dept_division) are not classified as \"Officer Standby\" request type (service_request_type)?"
   ]
  },
  {
   "cell_type": "code",
   "execution_count": 16,
   "metadata": {
    "ExecuteTime": {
     "end_time": "2019-05-16T19:58:47.334467Z",
     "start_time": "2019-05-16T19:58:44.992681Z"
    },
    "hidden": true
   },
   "outputs": [
    {
     "data": {
      "text/plain": [
       "113902"
      ]
     },
     "execution_count": 16,
     "metadata": {},
     "output_type": "execute_result"
    }
   ],
   "source": [
    "(df.where(F.lower(df.dept_division) == \"field operations\")\n",
    "   .where(F.lower(F.col(\"service_request_type\")) != \"officer standby\")\n",
    "   .count())"
   ]
  },
  {
   "cell_type": "markdown",
   "metadata": {
    "heading_collapsed": true,
    "hidden": true
   },
   "source": [
    "### 5. Create a new DataFrame without any information related to dates or location."
   ]
  },
  {
   "cell_type": "code",
   "execution_count": 17,
   "metadata": {
    "ExecuteTime": {
     "end_time": "2019-05-16T19:58:47.342338Z",
     "start_time": "2019-05-16T19:58:47.336962Z"
    },
    "hidden": true
   },
   "outputs": [
    {
     "data": {
      "text/plain": [
       "['case_id',\n",
       " 'case_opened_date',\n",
       " 'case_closed_date',\n",
       " 'SLA_due_date',\n",
       " 'case_late',\n",
       " 'num_days_late',\n",
       " 'case_closed',\n",
       " 'dept_division',\n",
       " 'service_request_type',\n",
       " 'SLA_days',\n",
       " 'case_status',\n",
       " 'source_id',\n",
       " 'request_address',\n",
       " 'council_district']"
      ]
     },
     "execution_count": 17,
     "metadata": {},
     "output_type": "execute_result"
    }
   ],
   "source": [
    "df.columns"
   ]
  },
  {
   "cell_type": "code",
   "execution_count": 18,
   "metadata": {
    "ExecuteTime": {
     "end_time": "2019-05-16T19:58:47.355226Z",
     "start_time": "2019-05-16T19:58:47.344125Z"
    },
    "hidden": true
   },
   "outputs": [
    {
     "data": {
      "text/plain": [
       "['case_id',\n",
       " 'case_late',\n",
       " 'num_days_late',\n",
       " 'case_closed',\n",
       " 'dept_division',\n",
       " 'service_request_type',\n",
       " 'SLA_days',\n",
       " 'case_status',\n",
       " 'source_id']"
      ]
     },
     "execution_count": 18,
     "metadata": {},
     "output_type": "execute_result"
    }
   ],
   "source": [
    "df_wo_dates_locations = df.drop(\"case_opened_date\", \"case_closed_date\", \"SLA_due_date\", \"request_address\", \"council_district\")\n",
    "\n",
    "df_wo_dates_locations.columns"
   ]
  },
  {
   "cell_type": "markdown",
   "metadata": {
    "heading_collapsed": true,
    "hidden": true
   },
   "source": [
    "### 6. Read dept.csv into a Spark DataFrame. Inspect the dept_name column. Replace the missing values with \"other\"."
   ]
  },
  {
   "cell_type": "code",
   "execution_count": 19,
   "metadata": {
    "ExecuteTime": {
     "end_time": "2019-05-16T19:58:47.494087Z",
     "start_time": "2019-05-16T19:58:47.356904Z"
    },
    "hidden": true
   },
   "outputs": [],
   "source": [
    "df_dept = spark.read.csv(\"sa311/dept.csv\", header=True, inferSchema=True)"
   ]
  },
  {
   "cell_type": "code",
   "execution_count": 20,
   "metadata": {
    "ExecuteTime": {
     "end_time": "2019-05-16T19:58:47.501429Z",
     "start_time": "2019-05-16T19:58:47.496956Z"
    },
    "hidden": true
   },
   "outputs": [
    {
     "name": "stdout",
     "output_type": "stream",
     "text": [
      "root\n",
      " |-- dept_division: string (nullable = true)\n",
      " |-- dept_name: string (nullable = true)\n",
      " |-- standardized_dept_name: string (nullable = true)\n",
      " |-- dept_subject_to_SLA: string (nullable = true)\n",
      "\n"
     ]
    }
   ],
   "source": [
    "df_dept.printSchema()"
   ]
  },
  {
   "cell_type": "code",
   "execution_count": 21,
   "metadata": {
    "ExecuteTime": {
     "end_time": "2019-05-16T19:58:47.681539Z",
     "start_time": "2019-05-16T19:58:47.504389Z"
    },
    "hidden": true
   },
   "outputs": [
    {
     "name": "stdout",
     "output_type": "stream",
     "text": [
      "+-------------+---------+----------------------+-------------------+\n",
      "|dept_division|dept_name|standardized_dept_name|dept_subject_to_SLA|\n",
      "+-------------+---------+----------------------+-------------------+\n",
      "|            0|        0|                     0|                  0|\n",
      "+-------------+---------+----------------------+-------------------+\n",
      "\n"
     ]
    }
   ],
   "source": [
    "df_dept.select([F.count(F.when(F.isnan(c), c)).alias(c) for c in df_dept.columns]).show()"
   ]
  },
  {
   "cell_type": "code",
   "execution_count": 22,
   "metadata": {
    "ExecuteTime": {
     "end_time": "2019-05-16T19:58:47.873374Z",
     "start_time": "2019-05-16T19:58:47.683099Z"
    },
    "hidden": true
   },
   "outputs": [
    {
     "name": "stdout",
     "output_type": "stream",
     "text": [
      "+--------------------+\n",
      "|           dept_name|\n",
      "+--------------------+\n",
      "|Solid Waste Manag...|\n",
      "|Parks and Recreation|\n",
      "|                null|\n",
      "|Trans & Cap Impro...|\n",
      "|        Metro Health|\n",
      "|Animal Care Services|\n",
      "|    Customer Service|\n",
      "|Code Enforcement ...|\n",
      "|        City Council|\n",
      "|Development Services|\n",
      "+--------------------+\n",
      "\n"
     ]
    }
   ],
   "source": [
    "df_dept.groupBy(\"dept_name\").sum().show()"
   ]
  },
  {
   "cell_type": "code",
   "execution_count": 23,
   "metadata": {
    "ExecuteTime": {
     "end_time": "2019-05-16T19:58:47.890516Z",
     "start_time": "2019-05-16T19:58:47.875338Z"
    },
    "hidden": true
   },
   "outputs": [],
   "source": [
    "df_dept = df_dept.na.fill(\"other\", [\"dept_name\"])"
   ]
  },
  {
   "cell_type": "markdown",
   "metadata": {
    "heading_collapsed": true
   },
   "source": [
    "## Part 2"
   ]
  },
  {
   "cell_type": "markdown",
   "metadata": {
    "heading_collapsed": true,
    "hidden": true
   },
   "source": [
    "### 1. Convert the council_district column to a string column."
   ]
  },
  {
   "cell_type": "code",
   "execution_count": 24,
   "metadata": {
    "ExecuteTime": {
     "end_time": "2019-05-16T19:58:47.895544Z",
     "start_time": "2019-05-16T19:58:47.892004Z"
    },
    "hidden": true
   },
   "outputs": [
    {
     "name": "stdout",
     "output_type": "stream",
     "text": [
      "root\n",
      " |-- case_id: integer (nullable = true)\n",
      " |-- case_opened_date: timestamp (nullable = true)\n",
      " |-- case_closed_date: timestamp (nullable = true)\n",
      " |-- SLA_due_date: timestamp (nullable = true)\n",
      " |-- case_late: boolean (nullable = false)\n",
      " |-- num_days_late: double (nullable = true)\n",
      " |-- case_closed: boolean (nullable = false)\n",
      " |-- dept_division: string (nullable = true)\n",
      " |-- service_request_type: string (nullable = true)\n",
      " |-- SLA_days: double (nullable = true)\n",
      " |-- case_status: string (nullable = true)\n",
      " |-- source_id: string (nullable = true)\n",
      " |-- request_address: string (nullable = true)\n",
      " |-- council_district: integer (nullable = true)\n",
      "\n"
     ]
    }
   ],
   "source": [
    "df.printSchema()"
   ]
  },
  {
   "cell_type": "code",
   "execution_count": 25,
   "metadata": {
    "ExecuteTime": {
     "end_time": "2019-05-16T19:58:48.048978Z",
     "start_time": "2019-05-16T19:58:47.897292Z"
    },
    "hidden": true
   },
   "outputs": [],
   "source": [
    "df = df.withColumn(\"council_district\", df.council_district.cast(\"string\"))"
   ]
  },
  {
   "cell_type": "code",
   "execution_count": 26,
   "metadata": {
    "ExecuteTime": {
     "end_time": "2019-05-16T19:58:48.054431Z",
     "start_time": "2019-05-16T19:58:48.050669Z"
    },
    "hidden": true
   },
   "outputs": [
    {
     "name": "stdout",
     "output_type": "stream",
     "text": [
      "root\n",
      " |-- case_id: integer (nullable = true)\n",
      " |-- case_opened_date: timestamp (nullable = true)\n",
      " |-- case_closed_date: timestamp (nullable = true)\n",
      " |-- SLA_due_date: timestamp (nullable = true)\n",
      " |-- case_late: boolean (nullable = false)\n",
      " |-- num_days_late: double (nullable = true)\n",
      " |-- case_closed: boolean (nullable = false)\n",
      " |-- dept_division: string (nullable = true)\n",
      " |-- service_request_type: string (nullable = true)\n",
      " |-- SLA_days: double (nullable = true)\n",
      " |-- case_status: string (nullable = true)\n",
      " |-- source_id: string (nullable = true)\n",
      " |-- request_address: string (nullable = true)\n",
      " |-- council_district: string (nullable = true)\n",
      "\n"
     ]
    }
   ],
   "source": [
    "df.printSchema()"
   ]
  },
  {
   "cell_type": "markdown",
   "metadata": {
    "heading_collapsed": true,
    "hidden": true
   },
   "source": [
    "### 2. Extract the year from the case_closed_date column."
   ]
  },
  {
   "cell_type": "code",
   "execution_count": 27,
   "metadata": {
    "ExecuteTime": {
     "end_time": "2019-05-16T19:58:48.142355Z",
     "start_time": "2019-05-16T19:58:48.056056Z"
    },
    "hidden": true
   },
   "outputs": [
    {
     "name": "stdout",
     "output_type": "stream",
     "text": [
      "+----------------+\n",
      "|case_closed_year|\n",
      "+----------------+\n",
      "|            2018|\n",
      "|            2018|\n",
      "|            2018|\n",
      "|            2018|\n",
      "|            2018|\n",
      "|            2018|\n",
      "|            2018|\n",
      "|            2018|\n",
      "|            2018|\n",
      "|            2018|\n",
      "|            2018|\n",
      "|            2018|\n",
      "|            2018|\n",
      "|            2018|\n",
      "|            2018|\n",
      "|            2018|\n",
      "|            2018|\n",
      "|            2018|\n",
      "|            2018|\n",
      "|            2018|\n",
      "+----------------+\n",
      "only showing top 20 rows\n",
      "\n"
     ]
    }
   ],
   "source": [
    "df.select(F.year(\"case_closed_date\").alias(\"case_closed_year\")).show()"
   ]
  },
  {
   "cell_type": "markdown",
   "metadata": {
    "heading_collapsed": true,
    "hidden": true
   },
   "source": [
    "### 3. Convert num_days_late from days to hours in new columns num_hours_late."
   ]
  },
  {
   "cell_type": "code",
   "execution_count": 28,
   "metadata": {
    "ExecuteTime": {
     "end_time": "2019-05-16T19:58:48.263877Z",
     "start_time": "2019-05-16T19:58:48.144251Z"
    },
    "hidden": true
   },
   "outputs": [
    {
     "name": "stdout",
     "output_type": "stream",
     "text": [
      "-RECORD 0------------------------------------\n",
      " case_id              | 1014127332           \n",
      " case_opened_date     | 2018-01-01 00:42:00  \n",
      " case_closed_date     | 2018-01-01 12:29:00  \n",
      " SLA_due_date         | 2020-09-26 00:42:00  \n",
      " case_late            | false                \n",
      " num_days_late        | -998.5087616000001   \n",
      " case_closed          | true                 \n",
      " dept_division        | Field Operations     \n",
      " service_request_type | Stray Animal         \n",
      " SLA_days             | 999.0                \n",
      " case_status          | Closed               \n",
      " source_id            | svcCRMLS             \n",
      " request_address      | 2315  EL PASO ST,... \n",
      " council_district     | 5                    \n",
      " num_hours_late       | -23964.2102784       \n",
      "-RECORD 1------------------------------------\n",
      " case_id              | 1014127333           \n",
      " case_opened_date     | 2018-01-01 00:46:00  \n",
      " case_closed_date     | 2018-01-03 08:11:00  \n",
      " SLA_due_date         | 2018-01-05 08:30:00  \n",
      " case_late            | false                \n",
      " num_days_late        | -2.0126041669999997  \n",
      " case_closed          | true                 \n",
      " dept_division        | Storm Water          \n",
      " service_request_type | Removal Of Obstru... \n",
      " SLA_days             | 4.322222222          \n",
      " case_status          | Closed               \n",
      " source_id            | svcCRMSS             \n",
      " request_address      | 2215  GOLIAD RD, ... \n",
      " council_district     | 3                    \n",
      " num_hours_late       | -48.302500007999996  \n",
      "-RECORD 2------------------------------------\n",
      " case_id              | 1014127334           \n",
      " case_opened_date     | 2018-01-01 00:48:00  \n",
      " case_closed_date     | 2018-01-02 07:57:00  \n",
      " SLA_due_date         | 2018-01-05 08:30:00  \n",
      " case_late            | false                \n",
      " num_days_late        | -3.022337963         \n",
      " case_closed          | true                 \n",
      " dept_division        | Storm Water          \n",
      " service_request_type | Removal Of Obstru... \n",
      " SLA_days             | 4.320729167          \n",
      " case_status          | Closed               \n",
      " source_id            | svcCRMSS             \n",
      " request_address      | 102  PALFREY ST W... \n",
      " council_district     | 3                    \n",
      " num_hours_late       | -72.536111112        \n",
      "only showing top 3 rows\n",
      "\n"
     ]
    }
   ],
   "source": [
    "df = df.withColumn(\"num_hours_late\", df.num_days_late * 24)\n",
    "df.show(3, vertical=True)"
   ]
  },
  {
   "cell_type": "markdown",
   "metadata": {
    "heading_collapsed": true,
    "hidden": true
   },
   "source": [
    "### 4. Convert the case_late column to a boolean column."
   ]
  },
  {
   "cell_type": "markdown",
   "metadata": {
    "hidden": true
   },
   "source": [
    "Done in Question 1, Part 1"
   ]
  },
  {
   "cell_type": "markdown",
   "metadata": {
    "heading_collapsed": true,
    "hidden": true
   },
   "source": [
    "### 5. Convert the SLA_days columns to a double column."
   ]
  },
  {
   "cell_type": "code",
   "execution_count": 29,
   "metadata": {
    "ExecuteTime": {
     "end_time": "2019-05-16T19:58:48.269626Z",
     "start_time": "2019-05-16T19:58:48.265707Z"
    },
    "hidden": true
   },
   "outputs": [
    {
     "name": "stdout",
     "output_type": "stream",
     "text": [
      "root\n",
      " |-- case_id: integer (nullable = true)\n",
      " |-- case_opened_date: timestamp (nullable = true)\n",
      " |-- case_closed_date: timestamp (nullable = true)\n",
      " |-- SLA_due_date: timestamp (nullable = true)\n",
      " |-- case_late: boolean (nullable = false)\n",
      " |-- num_days_late: double (nullable = true)\n",
      " |-- case_closed: boolean (nullable = false)\n",
      " |-- dept_division: string (nullable = true)\n",
      " |-- service_request_type: string (nullable = true)\n",
      " |-- SLA_days: double (nullable = true)\n",
      " |-- case_status: string (nullable = true)\n",
      " |-- source_id: string (nullable = true)\n",
      " |-- request_address: string (nullable = true)\n",
      " |-- council_district: string (nullable = true)\n",
      " |-- num_hours_late: double (nullable = true)\n",
      "\n"
     ]
    }
   ],
   "source": [
    "df.printSchema()"
   ]
  },
  {
   "cell_type": "markdown",
   "metadata": {
    "hidden": true
   },
   "source": [
    "This was done by inferSchema when the csv was read. But to do this manually,\n",
    "I would do: df = df.withColumn(\"SLA_days\", df.SLA_days.cast(\"double\"))"
   ]
  },
  {
   "cell_type": "markdown",
   "metadata": {
    "heading_collapsed": true,
    "hidden": true
   },
   "source": [
    "### 6. Pull it all together"
   ]
  },
  {
   "cell_type": "markdown",
   "metadata": {
    "hidden": true
   },
   "source": [
    "Done in answers to previous questions"
   ]
  },
  {
   "cell_type": "code",
   "execution_count": 30,
   "metadata": {
    "ExecuteTime": {
     "end_time": "2019-05-16T19:58:48.348194Z",
     "start_time": "2019-05-16T19:58:48.271579Z"
    },
    "hidden": true
   },
   "outputs": [
    {
     "name": "stdout",
     "output_type": "stream",
     "text": [
      "-RECORD 0------------------------------------\n",
      " case_id              | 1014127332           \n",
      " case_opened_date     | 2018-01-01 00:42:00  \n",
      " case_closed_date     | 2018-01-01 12:29:00  \n",
      " SLA_due_date         | 2020-09-26 00:42:00  \n",
      " case_late            | false                \n",
      " num_days_late        | -998.5087616000001   \n",
      " case_closed          | true                 \n",
      " dept_division        | Field Operations     \n",
      " service_request_type | Stray Animal         \n",
      " SLA_days             | 999.0                \n",
      " case_status          | Closed               \n",
      " source_id            | svcCRMLS             \n",
      " request_address      | 2315  EL PASO ST,... \n",
      " council_district     | 5                    \n",
      " num_hours_late       | -23964.2102784       \n",
      "-RECORD 1------------------------------------\n",
      " case_id              | 1014127333           \n",
      " case_opened_date     | 2018-01-01 00:46:00  \n",
      " case_closed_date     | 2018-01-03 08:11:00  \n",
      " SLA_due_date         | 2018-01-05 08:30:00  \n",
      " case_late            | false                \n",
      " num_days_late        | -2.0126041669999997  \n",
      " case_closed          | true                 \n",
      " dept_division        | Storm Water          \n",
      " service_request_type | Removal Of Obstru... \n",
      " SLA_days             | 4.322222222          \n",
      " case_status          | Closed               \n",
      " source_id            | svcCRMSS             \n",
      " request_address      | 2215  GOLIAD RD, ... \n",
      " council_district     | 3                    \n",
      " num_hours_late       | -48.302500007999996  \n",
      "-RECORD 2------------------------------------\n",
      " case_id              | 1014127334           \n",
      " case_opened_date     | 2018-01-01 00:48:00  \n",
      " case_closed_date     | 2018-01-02 07:57:00  \n",
      " SLA_due_date         | 2018-01-05 08:30:00  \n",
      " case_late            | false                \n",
      " num_days_late        | -3.022337963         \n",
      " case_closed          | true                 \n",
      " dept_division        | Storm Water          \n",
      " service_request_type | Removal Of Obstru... \n",
      " SLA_days             | 4.320729167          \n",
      " case_status          | Closed               \n",
      " source_id            | svcCRMSS             \n",
      " request_address      | 102  PALFREY ST W... \n",
      " council_district     | 3                    \n",
      " num_hours_late       | -72.536111112        \n",
      "only showing top 3 rows\n",
      "\n"
     ]
    }
   ],
   "source": [
    "df.show(3, vertical=True)"
   ]
  },
  {
   "cell_type": "markdown",
   "metadata": {
    "heading_collapsed": true
   },
   "source": [
    "## Part 3"
   ]
  },
  {
   "cell_type": "markdown",
   "metadata": {
    "heading_collapsed": true,
    "hidden": true
   },
   "source": [
    "### 1. Create a DataFrame with all combinations of council_district and service_request_type (regardless of whether the combination is observed in the data)."
   ]
  },
  {
   "cell_type": "code",
   "execution_count": 31,
   "metadata": {
    "ExecuteTime": {
     "end_time": "2019-05-16T19:58:50.306171Z",
     "start_time": "2019-05-16T19:58:48.349957Z"
    },
    "hidden": true
   },
   "outputs": [
    {
     "name": "stdout",
     "output_type": "stream",
     "text": [
      "+----------------------------------+-----+\n",
      "|service_request_type              |count|\n",
      "+----------------------------------+-----+\n",
      "|Stray Animal                      |26760|\n",
      "|Front Or Side Yard Parking        |28794|\n",
      "|Animal Cruelty(Critical)          |3001 |\n",
      "|Traffic Signal Ops and Maintenance|4382 |\n",
      "|Alley-Way Maintenance             |20214|\n",
      "+----------------------------------+-----+\n",
      "only showing top 5 rows\n",
      "\n"
     ]
    }
   ],
   "source": [
    "(df.groupBy(df.service_request_type)\n",
    "  .count()\n",
    "  .show(5, truncate=False))"
   ]
  },
  {
   "cell_type": "code",
   "execution_count": 32,
   "metadata": {
    "ExecuteTime": {
     "end_time": "2019-05-16T19:58:51.651980Z",
     "start_time": "2019-05-16T19:58:50.307839Z"
    },
    "hidden": true
   },
   "outputs": [
    {
     "name": "stdout",
     "output_type": "stream",
     "text": [
      "-RECORD 0------------------------------------\n",
      " council_district     | 5                    \n",
      " service_request_type | Stray Animal         \n",
      "-RECORD 1------------------------------------\n",
      " council_district     | 5                    \n",
      " service_request_type | Removal Of Obstru... \n",
      "-RECORD 2------------------------------------\n",
      " council_district     | 5                    \n",
      " service_request_type | Removal Of Obstru... \n",
      "only showing top 3 rows\n",
      "\n"
     ]
    }
   ],
   "source": [
    "(df.select(df.council_district)\n",
    "  .crossJoin(df.select(df.service_request_type))\n",
    "  .show(3, vertical=True))"
   ]
  },
  {
   "cell_type": "markdown",
   "metadata": {
    "heading_collapsed": true,
    "hidden": true
   },
   "source": [
    "### 2. Join the case data with the source and department data."
   ]
  },
  {
   "cell_type": "code",
   "execution_count": 33,
   "metadata": {
    "ExecuteTime": {
     "end_time": "2019-05-16T19:58:51.791835Z",
     "start_time": "2019-05-16T19:58:51.653390Z"
    },
    "hidden": true
   },
   "outputs": [],
   "source": [
    "df_source = spark.read.csv(\"sa311/source.csv\", header=True, inferSchema=True)"
   ]
  },
  {
   "cell_type": "code",
   "execution_count": 34,
   "metadata": {
    "ExecuteTime": {
     "end_time": "2019-05-16T19:58:51.797630Z",
     "start_time": "2019-05-16T19:58:51.793665Z"
    },
    "hidden": true
   },
   "outputs": [
    {
     "name": "stdout",
     "output_type": "stream",
     "text": [
      "root\n",
      " |-- source_id: string (nullable = true)\n",
      " |-- source_username: string (nullable = true)\n",
      "\n"
     ]
    }
   ],
   "source": [
    "df_source.printSchema()"
   ]
  },
  {
   "cell_type": "code",
   "execution_count": 35,
   "metadata": {
    "ExecuteTime": {
     "end_time": "2019-05-16T19:58:51.867249Z",
     "start_time": "2019-05-16T19:58:51.799368Z"
    },
    "hidden": true
   },
   "outputs": [
    {
     "data": {
      "text/plain": [
       "140"
      ]
     },
     "execution_count": 35,
     "metadata": {},
     "output_type": "execute_result"
    }
   ],
   "source": [
    "df_source.count()"
   ]
  },
  {
   "cell_type": "code",
   "execution_count": 36,
   "metadata": {
    "ExecuteTime": {
     "end_time": "2019-05-16T19:58:51.914354Z",
     "start_time": "2019-05-16T19:58:51.868831Z"
    },
    "hidden": true
   },
   "outputs": [
    {
     "name": "stdout",
     "output_type": "stream",
     "text": [
      "+---------+----------------+\n",
      "|source_id| source_username|\n",
      "+---------+----------------+\n",
      "|   100137|Merlene Blodgett|\n",
      "|   103582|     Carmen Cura|\n",
      "|   106463| Richard Sanchez|\n",
      "+---------+----------------+\n",
      "only showing top 3 rows\n",
      "\n"
     ]
    }
   ],
   "source": [
    "df_source.show(3)"
   ]
  },
  {
   "cell_type": "code",
   "execution_count": 37,
   "metadata": {
    "ExecuteTime": {
     "end_time": "2019-05-16T19:58:51.980564Z",
     "start_time": "2019-05-16T19:58:51.916131Z"
    },
    "hidden": true
   },
   "outputs": [
    {
     "name": "stdout",
     "output_type": "stream",
     "text": [
      "+---------------+--------------------+----------------------+-------------------+\n",
      "|  dept_division|           dept_name|standardized_dept_name|dept_subject_to_SLA|\n",
      "+---------------+--------------------+----------------------+-------------------+\n",
      "|311 Call Center|    Customer Service|      Customer Service|                YES|\n",
      "|          Brush|Solid Waste Manag...|           Solid Waste|                YES|\n",
      "|Clean and Green|Parks and Recreation|    Parks & Recreation|                YES|\n",
      "+---------------+--------------------+----------------------+-------------------+\n",
      "only showing top 3 rows\n",
      "\n"
     ]
    }
   ],
   "source": [
    "df_dept.show(3)"
   ]
  },
  {
   "cell_type": "code",
   "execution_count": 38,
   "metadata": {
    "ExecuteTime": {
     "end_time": "2019-05-16T19:58:52.052830Z",
     "start_time": "2019-05-16T19:58:51.982361Z"
    },
    "hidden": true
   },
   "outputs": [
    {
     "name": "stdout",
     "output_type": "stream",
     "text": [
      "-RECORD 0-----------------------------------------------------\n",
      " case_id              | 1014127332                            \n",
      " case_opened_date     | 2018-01-01 00:42:00                   \n",
      " case_closed_date     | 2018-01-01 12:29:00                   \n",
      " SLA_due_date         | 2020-09-26 00:42:00                   \n",
      " case_late            | false                                 \n",
      " num_days_late        | -998.5087616000001                    \n",
      " case_closed          | true                                  \n",
      " dept_division        | Field Operations                      \n",
      " service_request_type | Stray Animal                          \n",
      " SLA_days             | 999.0                                 \n",
      " case_status          | Closed                                \n",
      " source_id            | svcCRMLS                              \n",
      " request_address      | 2315  EL PASO ST, San Antonio, 78207  \n",
      " council_district     | 5                                     \n",
      " num_hours_late       | -23964.2102784                        \n",
      "-RECORD 1-----------------------------------------------------\n",
      " case_id              | 1014127333                            \n",
      " case_opened_date     | 2018-01-01 00:46:00                   \n",
      " case_closed_date     | 2018-01-03 08:11:00                   \n",
      " SLA_due_date         | 2018-01-05 08:30:00                   \n",
      " case_late            | false                                 \n",
      " num_days_late        | -2.0126041669999997                   \n",
      " case_closed          | true                                  \n",
      " dept_division        | Storm Water                           \n",
      " service_request_type | Removal Of Obstruction                \n",
      " SLA_days             | 4.322222222                           \n",
      " case_status          | Closed                                \n",
      " source_id            | svcCRMSS                              \n",
      " request_address      | 2215  GOLIAD RD, San Antonio, 78223   \n",
      " council_district     | 3                                     \n",
      " num_hours_late       | -48.302500007999996                   \n",
      "-RECORD 2-----------------------------------------------------\n",
      " case_id              | 1014127334                            \n",
      " case_opened_date     | 2018-01-01 00:48:00                   \n",
      " case_closed_date     | 2018-01-02 07:57:00                   \n",
      " SLA_due_date         | 2018-01-05 08:30:00                   \n",
      " case_late            | false                                 \n",
      " num_days_late        | -3.022337963                          \n",
      " case_closed          | true                                  \n",
      " dept_division        | Storm Water                           \n",
      " service_request_type | Removal Of Obstruction                \n",
      " SLA_days             | 4.320729167                           \n",
      " case_status          | Closed                                \n",
      " source_id            | svcCRMSS                              \n",
      " request_address      | 102  PALFREY ST W, San Antonio, 78223 \n",
      " council_district     | 3                                     \n",
      " num_hours_late       | -72.536111112                         \n",
      "only showing top 3 rows\n",
      "\n"
     ]
    }
   ],
   "source": [
    "df.show(3, truncate=False, vertical=True)"
   ]
  },
  {
   "cell_type": "code",
   "execution_count": 39,
   "metadata": {
    "ExecuteTime": {
     "end_time": "2019-05-16T19:59:03.661335Z",
     "start_time": "2019-05-16T19:58:52.066101Z"
    },
    "hidden": true
   },
   "outputs": [
    {
     "name": "stdout",
     "output_type": "stream",
     "text": [
      "-RECORD 0--------------------------------------\n",
      " source_id              | 100137               \n",
      " dept_division          | 311 Call Center      \n",
      " case_id                | 1014263399           \n",
      " case_opened_date       | 2018-02-21 15:36:00  \n",
      " case_closed_date       | 2018-02-21 15:38:00  \n",
      " SLA_due_date           | 2018-03-02 15:36:00  \n",
      " case_late              | false                \n",
      " num_days_late          | -8.998854167000001   \n",
      " case_closed            | true                 \n",
      " service_request_type   | Compliment           \n",
      " SLA_days               | 9.0                  \n",
      " case_status            | Closed               \n",
      " request_address        | 927  DONALDSON AV... \n",
      " council_district       | 7                    \n",
      " num_hours_late         | -215.97250000800003  \n",
      " dept_name              | Customer Service     \n",
      " standardized_dept_name | Customer Service     \n",
      " dept_subject_to_SLA    | YES                  \n",
      " source_username        | Merlene Blodgett     \n",
      "-RECORD 1--------------------------------------\n",
      " source_id              | 100137               \n",
      " dept_division          | 311 Call Center      \n",
      " case_id                | 1014267826           \n",
      " case_opened_date       | 2018-02-23 10:36:00  \n",
      " case_closed_date       | 2018-02-23 10:37:00  \n",
      " SLA_due_date           | 2018-03-06 10:36:00  \n",
      " case_late              | false                \n",
      " num_days_late          | -10.99946759         \n",
      " case_closed            | true                 \n",
      " service_request_type   | Compliment           \n",
      " SLA_days               | 11.0                 \n",
      " case_status            | Closed               \n",
      " request_address        | EVANS RD and STON... \n",
      " council_district       | 9                    \n",
      " num_hours_late         | -263.98722216        \n",
      " dept_name              | Customer Service     \n",
      " standardized_dept_name | Customer Service     \n",
      " dept_subject_to_SLA    | YES                  \n",
      " source_username        | Merlene Blodgett     \n",
      "-RECORD 2--------------------------------------\n",
      " source_id              | 100137               \n",
      " dept_division          | 311 Call Center      \n",
      " case_id                | 1014292041           \n",
      " case_opened_date       | 2018-03-03 15:02:00  \n",
      " case_closed_date       | 2018-03-19 16:39:00  \n",
      " SLA_due_date           | 2018-03-12 08:30:00  \n",
      " case_late              | true                 \n",
      " num_days_late          | 7.340104167000001    \n",
      " case_closed            | true                 \n",
      " service_request_type   | Complaint            \n",
      " SLA_days               | 8.727453704          \n",
      " case_status            | Closed               \n",
      " request_address        | 4622  HACKBERRY S... \n",
      " council_district       | 3                    \n",
      " num_hours_late         | 176.16250000800002   \n",
      " dept_name              | Customer Service     \n",
      " standardized_dept_name | Customer Service     \n",
      " dept_subject_to_SLA    | YES                  \n",
      " source_username        | Merlene Blodgett     \n",
      "only showing top 3 rows\n",
      "\n"
     ]
    }
   ],
   "source": [
    "(df.join(df_dept, \"dept_division\", \"outer\")\n",
    "  .join(df_source, \"source_id\", \"outer\")\n",
    "  .show(3, vertical=True))"
   ]
  },
  {
   "cell_type": "code",
   "execution_count": 40,
   "metadata": {
    "ExecuteTime": {
     "end_time": "2019-05-16T19:59:03.689071Z",
     "start_time": "2019-05-16T19:59:03.671830Z"
    },
    "hidden": true
   },
   "outputs": [],
   "source": [
    "df_all = (df.join(df_dept, \"dept_division\", \"outer\")\n",
    "           .join(df_source, \"source_id\", \"outer\"))"
   ]
  },
  {
   "cell_type": "markdown",
   "metadata": {
    "heading_collapsed": true,
    "hidden": true
   },
   "source": [
    "### 3. Are there any cases that do not have a request source?"
   ]
  },
  {
   "cell_type": "code",
   "execution_count": 41,
   "metadata": {
    "ExecuteTime": {
     "end_time": "2019-05-16T19:59:09.414206Z",
     "start_time": "2019-05-16T19:59:03.690562Z"
    },
    "hidden": true
   },
   "outputs": [
    {
     "name": "stdout",
     "output_type": "stream",
     "text": [
      "+---------+---------------+\n",
      "|source_id|source_username|\n",
      "+---------+---------------+\n",
      "|        0|              0|\n",
      "+---------+---------------+\n",
      "\n"
     ]
    }
   ],
   "source": [
    "df_all.select([F.count(F.when(F.isnan(c), c)).alias(c) for c in [\"source_id\", \"source_username\"]]).show()"
   ]
  },
  {
   "cell_type": "markdown",
   "metadata": {
    "hidden": true
   },
   "source": [
    "No."
   ]
  },
  {
   "cell_type": "markdown",
   "metadata": {
    "heading_collapsed": true
   },
   "source": [
    "## Part 4"
   ]
  },
  {
   "cell_type": "markdown",
   "metadata": {
    "heading_collapsed": true,
    "hidden": true
   },
   "source": [
    "### 1. What are the top 10 service request types in terms of number of requests?"
   ]
  },
  {
   "cell_type": "code",
   "execution_count": 42,
   "metadata": {
    "ExecuteTime": {
     "end_time": "2019-05-16T19:59:10.832755Z",
     "start_time": "2019-05-16T19:59:09.419373Z"
    },
    "hidden": true
   },
   "outputs": [
    {
     "name": "stdout",
     "output_type": "stream",
     "text": [
      "+--------------------------------+-----+\n",
      "|service_request_type            |count|\n",
      "+--------------------------------+-----+\n",
      "|No Pickup                       |86855|\n",
      "|Overgrown Yard/Trash            |65895|\n",
      "|Bandit Signs                    |32910|\n",
      "|Damaged Cart                    |30338|\n",
      "|Front Or Side Yard Parking      |28794|\n",
      "|Stray Animal                    |26760|\n",
      "|Aggressive Animal(Non-Critical) |24882|\n",
      "|Cart Exchange Request           |22024|\n",
      "|Junk Vehicle On Private Property|21473|\n",
      "|Pot Hole Repair                 |20616|\n",
      "+--------------------------------+-----+\n",
      "only showing top 10 rows\n",
      "\n"
     ]
    }
   ],
   "source": [
    "(df.select(\"service_request_type\")\n",
    "   .groupBy(\"service_request_type\")\n",
    "   .count()\n",
    "   .sort(\"count\", ascending=False)\n",
    "   .show(10, truncate=False))"
   ]
  },
  {
   "cell_type": "markdown",
   "metadata": {
    "heading_collapsed": true,
    "hidden": true
   },
   "source": [
    "### 2. What are the top 10 service request types in terms of average days late?"
   ]
  },
  {
   "cell_type": "markdown",
   "metadata": {
    "hidden": true
   },
   "source": [
    "Out of all requests"
   ]
  },
  {
   "cell_type": "code",
   "execution_count": 43,
   "metadata": {
    "ExecuteTime": {
     "end_time": "2019-05-16T19:59:12.929947Z",
     "start_time": "2019-05-16T19:59:10.834896Z"
    },
    "hidden": true
   },
   "outputs": [
    {
     "name": "stdout",
     "output_type": "stream",
     "text": [
      "+--------------------------------------+------------------+\n",
      "|service_request_type                  |avg_num_days_late |\n",
      "+--------------------------------------+------------------+\n",
      "|Zoning: Junk Yards                    |175.95636210420932|\n",
      "|Labeling for Used Mattress            |162.43032902285717|\n",
      "|Record Keeping of Used Mattresses     |153.99724039428568|\n",
      "|Signage Requied for Sale of Used Mattr|151.63868055333333|\n",
      "|Storage of Used Mattress              |142.112556415     |\n",
      "|Zoning: Recycle Yard                  |135.9285161247979 |\n",
      "|Donation Container Enforcement        |131.75610506358706|\n",
      "|License Requied Used Mattress Sales   |128.79828704142858|\n",
      "|Traffic Signal Graffiti               |77.90021217000002 |\n",
      "|Complaint                             |72.51790932659706 |\n",
      "+--------------------------------------+------------------+\n",
      "only showing top 10 rows\n",
      "\n"
     ]
    }
   ],
   "source": [
    "(df.select(\"service_request_type\", \"num_days_late\")\n",
    "  .groupBy(\"service_request_type\")\n",
    "  .agg(F.avg(\"num_days_late\").alias(\"avg_num_days_late\"))\n",
    "  .sort(\"avg_num_days_late\", ascending=False)\n",
    "  .show(10, truncate=False))"
   ]
  },
  {
   "cell_type": "markdown",
   "metadata": {
    "hidden": true
   },
   "source": [
    "Out of those requests that were/are late"
   ]
  },
  {
   "cell_type": "code",
   "execution_count": 44,
   "metadata": {
    "ExecuteTime": {
     "end_time": "2019-05-16T19:59:15.358547Z",
     "start_time": "2019-05-16T19:59:12.931508Z"
    },
    "hidden": true
   },
   "outputs": [
    {
     "name": "stdout",
     "output_type": "stream",
     "text": [
      "+--------------------------------------+------------------+\n",
      "|service_request_type                  |avg_num_days_late |\n",
      "+--------------------------------------+------------------+\n",
      "|Zoning: Recycle Yard                  |210.89201994318177|\n",
      "|Zoning: Junk Yards                    |200.20517608494262|\n",
      "|Structure/Housing Maintenance         |190.20707698509804|\n",
      "|Donation Container Enforcement        |171.0911531394262 |\n",
      "|Storage of Used Mattress              |163.96812829714287|\n",
      "|Labeling for Used Mattress            |162.43032902285717|\n",
      "|Record Keeping of Used Mattresses     |153.99724039428568|\n",
      "|Signage Requied for Sale of Used Mattr|151.63868055333333|\n",
      "|Traffic Signal Graffiti               |137.64583330000002|\n",
      "|License Requied Used Mattress Sales   |128.79828704142858|\n",
      "+--------------------------------------+------------------+\n",
      "only showing top 10 rows\n",
      "\n"
     ]
    }
   ],
   "source": [
    "(df.where(\"case_late\")\n",
    "   .select(\"service_request_type\", \"num_days_late\")\n",
    "   .groupBy(\"service_request_type\")\n",
    "   .agg(F.avg(\"num_days_late\").alias(\"avg_num_days_late\"))\n",
    "   .sort(\"avg_num_days_late\", ascending=False)\n",
    "   .show(10, truncate=False))"
   ]
  },
  {
   "cell_type": "markdown",
   "metadata": {
    "heading_collapsed": true,
    "hidden": true
   },
   "source": [
    "### 3. Does number of days late depend on department?"
   ]
  },
  {
   "cell_type": "code",
   "execution_count": 45,
   "metadata": {
    "ExecuteTime": {
     "end_time": "2019-05-16T19:59:17.582085Z",
     "start_time": "2019-05-16T19:59:15.363585Z"
    },
    "hidden": true
   },
   "outputs": [
    {
     "name": "stdout",
     "output_type": "stream",
     "text": [
      "+-----------------------------+------------------+\n",
      "|dept_division                |avg_num_days_late |\n",
      "+-----------------------------+------------------+\n",
      "|Code Enforcement (Internal)  |210.89201994318177|\n",
      "|311 Call Center              |87.68385942150388 |\n",
      "|Shops                        |76.87018194568    |\n",
      "|Code Enforcement (IntExp)    |76.41362019978534 |\n",
      "|Director's Office Horizontal |76.07892152387134 |\n",
      "|Engineering Division         |67.31528481452678 |\n",
      "|Reservations                 |66.03116319       |\n",
      "|Dangerous Premise            |56.045185022437984|\n",
      "|Code Enforcement             |48.67433113395537 |\n",
      "|Tree Crew                    |33.85895311389414 |\n",
      "|Dangerous Premise (IntExp)   |26.794363426666667|\n",
      "|Trades                       |24.366771592386222|\n",
      "|Graffiti (IntExp)            |24.28088208908296 |\n",
      "|Field Operations             |23.458633245820238|\n",
      "|Shops (Internal)             |20.631614157630388|\n",
      "|Clean and Green Natural Areas|13.45023768214286 |\n",
      "|Solid Waste                  |13.22888506561607 |\n",
      "|Graffiti                     |12.981636342874543|\n",
      "|Food Establishments          |9.93612737436496  |\n",
      "|Clean and Green              |9.295087744500005 |\n",
      "|Traffic Engineering Design   |8.60994324962903  |\n",
      "|Vector                       |7.86384499683575  |\n",
      "|Streets                      |7.612337603254762 |\n",
      "|Signs and Markings           |7.564679980152681 |\n",
      "|Waste Collection             |7.436859084375749 |\n",
      "|Signals                      |4.9335432168899525|\n",
      "|Miscellaneous                |3.622265135384616 |\n",
      "|Facility License             |3.0876621369770123|\n",
      "|Brush                        |2.680685335874584 |\n",
      "|Storm Water Engineering      |1.8333236883333335|\n",
      "|Storm Water                  |1.221040468067961 |\n",
      "+-----------------------------+------------------+\n",
      "\n"
     ]
    }
   ],
   "source": [
    "(df.where(\"case_late\")\n",
    "   .select(\"dept_division\", \"num_days_late\")\n",
    "   .groupBy(\"dept_division\")\n",
    "   .agg(F.avg(\"num_days_late\").alias(\"avg_num_days_late\"))\n",
    "   .sort(\"avg_num_days_late\", ascending=False)\n",
    "   .show(50, truncate=False))"
   ]
  },
  {
   "cell_type": "markdown",
   "metadata": {
    "hidden": true
   },
   "source": [
    "Yes. Code Enforcement has a high average number of days late, followed by the 311 Call Center. The averages are somewhat spread out, suggesting a dependent relationship."
   ]
  },
  {
   "cell_type": "markdown",
   "metadata": {
    "heading_collapsed": true,
    "hidden": true
   },
   "source": [
    "### 4. How do number of days late depend on department division and request type?"
   ]
  },
  {
   "cell_type": "code",
   "execution_count": 46,
   "metadata": {
    "ExecuteTime": {
     "end_time": "2019-05-16T19:59:19.633368Z",
     "start_time": "2019-05-16T19:59:17.583600Z"
    },
    "hidden": true
   },
   "outputs": [
    {
     "name": "stdout",
     "output_type": "stream",
     "text": [
      "+---------------------------+----------------------------------------+------------------+\n",
      "|dept_division              |service_request_type                    |avg_num_days_late |\n",
      "+---------------------------+----------------------------------------+------------------+\n",
      "|Code Enforcement (Internal)|Zoning: Recycle Yard                    |210.89201994318177|\n",
      "|Code Enforcement           |Zoning: Junk Yards                      |200.20517608494262|\n",
      "|Code Enforcement           |Structure/Housing Maintenance           |190.20707698509804|\n",
      "|Code Enforcement           |Donation Container Enforcement          |171.0911531394262 |\n",
      "|Code Enforcement (IntExp)  |Storage of Used Mattress                |163.96812829714287|\n",
      "|Code Enforcement (IntExp)  |Labeling for Used Mattress              |162.43032902285717|\n",
      "|Code Enforcement (IntExp)  |Record Keeping of Used Mattresses       |153.99724039428568|\n",
      "|Code Enforcement (IntExp)  |Signage Requied for Sale of Used Mattr  |151.63868055333333|\n",
      "|Signals                    |Traffic Signal Graffiti                 |137.64583330000002|\n",
      "|Code Enforcement (IntExp)  |Bandit Signs                            |129.86148974857142|\n",
      "|Code Enforcement (IntExp)  |License Requied Used Mattress Sales     |128.79828704142858|\n",
      "|Code Enforcement (IntExp)  |Used Mattress Inspection                |124.2719034853846 |\n",
      "|Code Enforcement           |Curbstoning                             |120.3956647991788 |\n",
      "|Code Enforcement           |Vendors                                 |117.72551367776335|\n",
      "|Graffiti (IntExp)          |CPS Energy Wood Poles                   |115.18708329999998|\n",
      "|Graffiti                   |Graffiti: Private Property (Corridors)  |114.09439580800002|\n",
      "|Dangerous Premise          |DSDB Ordered/Hold Harmless/Regular: Main|94.90296008981379 |\n",
      "|Dangerous Premise          |DSDB Ordered/Hold Harmless/Regular-ALL  |90.60137650743475 |\n",
      "|Dangerous Premise          |DSDB Ordered/Hold Harmless/Regular: ASEC|88.67873591760807 |\n",
      "|311 Call Center            |Complaint                               |87.74197415340983 |\n",
      "+---------------------------+----------------------------------------+------------------+\n",
      "only showing top 20 rows\n",
      "\n"
     ]
    }
   ],
   "source": [
    "(df.where(\"case_late\")\n",
    "   .select(\"dept_division\", \"service_request_type\", \"num_days_late\")\n",
    "   .groupBy(\"dept_division\", \"service_request_type\")\n",
    "   .agg(F.avg(\"num_days_late\").alias(\"avg_num_days_late\"))\n",
    "   .sort(\"avg_num_days_late\", ascending=False)\n",
    "   .show(truncate=False))"
   ]
  },
  {
   "cell_type": "markdown",
   "metadata": {
    "hidden": true
   },
   "source": [
    "Mostly code enforcement, as expected, regarding refuse and mattresses. Graffiti cases are also more likely to have a high average number of late days."
   ]
  }
 ],
 "metadata": {
  "kernelspec": {
   "display_name": "Python 3",
   "language": "python",
   "name": "python3"
  },
  "language_info": {
   "codemirror_mode": {
    "name": "ipython",
    "version": 3
   },
   "file_extension": ".py",
   "mimetype": "text/x-python",
   "name": "python",
   "nbconvert_exporter": "python",
   "pygments_lexer": "ipython3",
   "version": "3.7.1"
  },
  "toc": {
   "base_numbering": 1,
   "nav_menu": {},
   "number_sections": false,
   "sideBar": true,
   "skip_h1_title": true,
   "title_cell": "Table of Contents",
   "title_sidebar": "Contents",
   "toc_cell": true,
   "toc_position": {
    "height": "calc(100% - 180px)",
    "left": "10px",
    "top": "150px",
    "width": "259px"
   },
   "toc_section_display": true,
   "toc_window_display": false
  },
  "varInspector": {
   "cols": {
    "lenName": 16,
    "lenType": 16,
    "lenVar": 40
   },
   "kernels_config": {
    "python": {
     "delete_cmd_postfix": "",
     "delete_cmd_prefix": "del ",
     "library": "var_list.py",
     "varRefreshCmd": "print(var_dic_list())"
    },
    "r": {
     "delete_cmd_postfix": ") ",
     "delete_cmd_prefix": "rm(",
     "library": "var_list.r",
     "varRefreshCmd": "cat(var_dic_list()) "
    }
   },
   "position": {
    "height": "334.85px",
    "left": "0px",
    "right": "1289px",
    "top": "481px",
    "width": "323px"
   },
   "types_to_exclude": [
    "module",
    "function",
    "builtin_function_or_method",
    "instance",
    "_Feature"
   ],
   "window_display": false
  }
 },
 "nbformat": 4,
 "nbformat_minor": 2
}
