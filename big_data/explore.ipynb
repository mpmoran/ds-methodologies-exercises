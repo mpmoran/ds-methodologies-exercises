{
 "cells": [
  {
   "cell_type": "markdown",
   "metadata": {
    "toc": true
   },
   "source": [
    "<h1>Table of Contents<span class=\"tocSkip\"></span></h1>\n",
    "<div class=\"toc\"><ul class=\"toc-item\"><li><span><a href=\"#1.-Explore-the-distribution-of-y1\" data-toc-modified-id=\"1.-Explore-the-distribution-of-y1-1\">1. Explore the distribution of y1</a></span></li><li><span><a href=\"#2.-Explore-the-distribution-of-y2\" data-toc-modified-id=\"2.-Explore-the-distribution-of-y2-2\">2. Explore the distribution of y2</a></span></li><li><span><a href=\"#3.-Explore-the-relationship-between-y1-and-x1.\" data-toc-modified-id=\"3.-Explore-the-relationship-between-y1-and-x1.-3\">3. Explore the relationship between y1 and x1.</a></span></li></ul></div>"
   ]
  },
  {
   "cell_type": "code",
   "execution_count": 1,
   "metadata": {
    "ExecuteTime": {
     "end_time": "2019-05-17T17:00:31.886120Z",
     "start_time": "2019-05-17T17:00:30.595746Z"
    }
   },
   "outputs": [],
   "source": [
    "import pyspark\n",
    "import pandas as pd\n",
    "import pyspark.sql.types as T\n",
    "import pyspark.sql.functions as F\n",
    "from pyspark.sql.functions import col, round as spark_round\n",
    "\n",
    "import matplotlib.pyplot as plt\n",
    "import seaborn as sns"
   ]
  },
  {
   "cell_type": "code",
   "execution_count": 2,
   "metadata": {
    "ExecuteTime": {
     "end_time": "2019-05-17T17:00:50.092113Z",
     "start_time": "2019-05-17T17:00:31.888202Z"
    }
   },
   "outputs": [],
   "source": [
    "nprocs = 2\n",
    "\n",
    "spark = (pyspark.sql.SparkSession.builder\n",
    " .master('local')\n",
    " .config('spark.jars.packages', 'mysql:mysql-connector-java:8.0.16')\n",
    " .config('spark.driver.memory', '4G')\n",
    " .config('spark.driver.cores', nprocs)\n",
    " .config('spark.sql.shuffle.partitions', nprocs)\n",
    " .appName('explore')\n",
    " .enableHiveSupport()\n",
    " .getOrCreate())"
   ]
  },
  {
   "cell_type": "code",
   "execution_count": 3,
   "metadata": {
    "ExecuteTime": {
     "end_time": "2019-05-17T17:00:53.081527Z",
     "start_time": "2019-05-17T17:00:50.093578Z"
    }
   },
   "outputs": [
    {
     "data": {
      "text/html": [
       "<div>\n",
       "<style scoped>\n",
       "    .dataframe tbody tr th:only-of-type {\n",
       "        vertical-align: middle;\n",
       "    }\n",
       "\n",
       "    .dataframe tbody tr th {\n",
       "        vertical-align: top;\n",
       "    }\n",
       "\n",
       "    .dataframe thead th {\n",
       "        text-align: right;\n",
       "    }\n",
       "</style>\n",
       "<table border=\"1\" class=\"dataframe\">\n",
       "  <thead>\n",
       "    <tr style=\"text-align: right;\">\n",
       "      <th></th>\n",
       "      <th>case_id</th>\n",
       "      <th>case_opened_date</th>\n",
       "      <th>case_closed_date</th>\n",
       "      <th>SLA_due_date</th>\n",
       "      <th>case_late</th>\n",
       "      <th>num_days_late</th>\n",
       "      <th>case_closed</th>\n",
       "      <th>dept_division</th>\n",
       "      <th>service_request_type</th>\n",
       "      <th>SLA_days</th>\n",
       "      <th>case_status</th>\n",
       "      <th>source_id</th>\n",
       "      <th>request_address</th>\n",
       "      <th>council_district</th>\n",
       "    </tr>\n",
       "  </thead>\n",
       "  <tbody>\n",
       "    <tr>\n",
       "      <th>0</th>\n",
       "      <td>1014127332</td>\n",
       "      <td>1/1/18 0:42</td>\n",
       "      <td>1/1/18 12:29</td>\n",
       "      <td>9/26/20 0:42</td>\n",
       "      <td>NO</td>\n",
       "      <td>-998.5087616000001</td>\n",
       "      <td>YES</td>\n",
       "      <td>Field Operations</td>\n",
       "      <td>Stray Animal</td>\n",
       "      <td>999.0</td>\n",
       "      <td>Closed</td>\n",
       "      <td>svcCRMLS</td>\n",
       "      <td>2315  EL PASO ST, San Antonio, 78207</td>\n",
       "      <td>5</td>\n",
       "    </tr>\n",
       "    <tr>\n",
       "      <th>1</th>\n",
       "      <td>1014127333</td>\n",
       "      <td>1/1/18 0:46</td>\n",
       "      <td>1/3/18 8:11</td>\n",
       "      <td>1/5/18 8:30</td>\n",
       "      <td>NO</td>\n",
       "      <td>-2.0126041669999997</td>\n",
       "      <td>YES</td>\n",
       "      <td>Storm Water</td>\n",
       "      <td>Removal Of Obstruction</td>\n",
       "      <td>4.322222222</td>\n",
       "      <td>Closed</td>\n",
       "      <td>svcCRMSS</td>\n",
       "      <td>2215  GOLIAD RD, San Antonio, 78223</td>\n",
       "      <td>3</td>\n",
       "    </tr>\n",
       "    <tr>\n",
       "      <th>2</th>\n",
       "      <td>1014127334</td>\n",
       "      <td>1/1/18 0:48</td>\n",
       "      <td>1/2/18 7:57</td>\n",
       "      <td>1/5/18 8:30</td>\n",
       "      <td>NO</td>\n",
       "      <td>-3.022337963</td>\n",
       "      <td>YES</td>\n",
       "      <td>Storm Water</td>\n",
       "      <td>Removal Of Obstruction</td>\n",
       "      <td>4.320729167</td>\n",
       "      <td>Closed</td>\n",
       "      <td>svcCRMSS</td>\n",
       "      <td>102  PALFREY ST W, San Antonio, 78223</td>\n",
       "      <td>3</td>\n",
       "    </tr>\n",
       "    <tr>\n",
       "      <th>3</th>\n",
       "      <td>1014127335</td>\n",
       "      <td>1/1/18 1:29</td>\n",
       "      <td>1/2/18 8:13</td>\n",
       "      <td>1/17/18 8:30</td>\n",
       "      <td>NO</td>\n",
       "      <td>-15.01148148</td>\n",
       "      <td>YES</td>\n",
       "      <td>Code Enforcement</td>\n",
       "      <td>Front Or Side Yard Parking</td>\n",
       "      <td>16.29188657</td>\n",
       "      <td>Closed</td>\n",
       "      <td>svcCRMSS</td>\n",
       "      <td>114  LA GARDE ST, San Antonio, 78223</td>\n",
       "      <td>3</td>\n",
       "    </tr>\n",
       "    <tr>\n",
       "      <th>4</th>\n",
       "      <td>1014127336</td>\n",
       "      <td>1/1/18 1:34</td>\n",
       "      <td>1/1/18 13:29</td>\n",
       "      <td>1/1/18 4:34</td>\n",
       "      <td>YES</td>\n",
       "      <td>0.37216435200000003</td>\n",
       "      <td>YES</td>\n",
       "      <td>Field Operations</td>\n",
       "      <td>Animal Cruelty(Critical)</td>\n",
       "      <td>0.125</td>\n",
       "      <td>Closed</td>\n",
       "      <td>svcCRMSS</td>\n",
       "      <td>734  CLEARVIEW DR, San Antonio, 78228</td>\n",
       "      <td>7</td>\n",
       "    </tr>\n",
       "    <tr>\n",
       "      <th>5</th>\n",
       "      <td>1014127337</td>\n",
       "      <td>1/1/18 6:28</td>\n",
       "      <td>1/1/18 14:38</td>\n",
       "      <td>1/31/18 8:30</td>\n",
       "      <td>NO</td>\n",
       "      <td>-29.74398148</td>\n",
       "      <td>YES</td>\n",
       "      <td>Signals</td>\n",
       "      <td>Traffic Signal Ops and Maintenance</td>\n",
       "      <td>30.08446759</td>\n",
       "      <td>Closed</td>\n",
       "      <td>svcCRMSS</td>\n",
       "      <td>BANDERA RD and BRESNAHAN</td>\n",
       "      <td>7</td>\n",
       "    </tr>\n",
       "    <tr>\n",
       "      <th>6</th>\n",
       "      <td>1014127338</td>\n",
       "      <td>1/1/18 6:57</td>\n",
       "      <td>1/2/18 15:32</td>\n",
       "      <td>1/17/18 8:30</td>\n",
       "      <td>NO</td>\n",
       "      <td>-14.70673611</td>\n",
       "      <td>YES</td>\n",
       "      <td>Code Enforcement</td>\n",
       "      <td>Front Or Side Yard Parking</td>\n",
       "      <td>16.06429398</td>\n",
       "      <td>Closed</td>\n",
       "      <td>svcCRMSS</td>\n",
       "      <td>10133  FIGARO CANYON, San Antonio, 78251</td>\n",
       "      <td>4</td>\n",
       "    </tr>\n",
       "    <tr>\n",
       "      <th>7</th>\n",
       "      <td>1014127339</td>\n",
       "      <td>1/1/18 6:58</td>\n",
       "      <td>1/2/18 15:32</td>\n",
       "      <td>1/17/18 8:30</td>\n",
       "      <td>NO</td>\n",
       "      <td>-14.70662037</td>\n",
       "      <td>YES</td>\n",
       "      <td>Code Enforcement</td>\n",
       "      <td>Front Or Side Yard Parking</td>\n",
       "      <td>16.063796300000003</td>\n",
       "      <td>Closed</td>\n",
       "      <td>svcCRMSS</td>\n",
       "      <td>10133  FIGARO CANYON, San Antonio, 78251</td>\n",
       "      <td>4</td>\n",
       "    </tr>\n",
       "    <tr>\n",
       "      <th>8</th>\n",
       "      <td>1014127340</td>\n",
       "      <td>1/1/18 6:58</td>\n",
       "      <td>1/2/18 15:32</td>\n",
       "      <td>1/17/18 8:30</td>\n",
       "      <td>NO</td>\n",
       "      <td>-14.70662037</td>\n",
       "      <td>YES</td>\n",
       "      <td>Code Enforcement</td>\n",
       "      <td>Right Of Way/Sidewalk Obstruction</td>\n",
       "      <td>16.06333333</td>\n",
       "      <td>Closed</td>\n",
       "      <td>svcCRMSS</td>\n",
       "      <td>10133  FIGARO CANYON, San Antonio, 78251</td>\n",
       "      <td>4</td>\n",
       "    </tr>\n",
       "    <tr>\n",
       "      <th>9</th>\n",
       "      <td>1014127341</td>\n",
       "      <td>1/1/18 6:59</td>\n",
       "      <td>1/2/18 15:32</td>\n",
       "      <td>1/17/18 8:30</td>\n",
       "      <td>NO</td>\n",
       "      <td>-14.70649306</td>\n",
       "      <td>YES</td>\n",
       "      <td>Code Enforcement</td>\n",
       "      <td>Front Or Side Yard Parking</td>\n",
       "      <td>16.0628588</td>\n",
       "      <td>Closed</td>\n",
       "      <td>svcCRMSS</td>\n",
       "      <td>10133  FIGARO CANYON, San Antonio, 78251</td>\n",
       "      <td>4</td>\n",
       "    </tr>\n",
       "  </tbody>\n",
       "</table>\n",
       "</div>"
      ],
      "text/plain": [
       "      case_id case_opened_date case_closed_date  SLA_due_date case_late  \\\n",
       "0  1014127332      1/1/18 0:42     1/1/18 12:29  9/26/20 0:42        NO   \n",
       "1  1014127333      1/1/18 0:46      1/3/18 8:11   1/5/18 8:30        NO   \n",
       "2  1014127334      1/1/18 0:48      1/2/18 7:57   1/5/18 8:30        NO   \n",
       "3  1014127335      1/1/18 1:29      1/2/18 8:13  1/17/18 8:30        NO   \n",
       "4  1014127336      1/1/18 1:34     1/1/18 13:29   1/1/18 4:34       YES   \n",
       "5  1014127337      1/1/18 6:28     1/1/18 14:38  1/31/18 8:30        NO   \n",
       "6  1014127338      1/1/18 6:57     1/2/18 15:32  1/17/18 8:30        NO   \n",
       "7  1014127339      1/1/18 6:58     1/2/18 15:32  1/17/18 8:30        NO   \n",
       "8  1014127340      1/1/18 6:58     1/2/18 15:32  1/17/18 8:30        NO   \n",
       "9  1014127341      1/1/18 6:59     1/2/18 15:32  1/17/18 8:30        NO   \n",
       "\n",
       "         num_days_late case_closed     dept_division  \\\n",
       "0   -998.5087616000001         YES  Field Operations   \n",
       "1  -2.0126041669999997         YES       Storm Water   \n",
       "2         -3.022337963         YES       Storm Water   \n",
       "3         -15.01148148         YES  Code Enforcement   \n",
       "4  0.37216435200000003         YES  Field Operations   \n",
       "5         -29.74398148         YES           Signals   \n",
       "6         -14.70673611         YES  Code Enforcement   \n",
       "7         -14.70662037         YES  Code Enforcement   \n",
       "8         -14.70662037         YES  Code Enforcement   \n",
       "9         -14.70649306         YES  Code Enforcement   \n",
       "\n",
       "                 service_request_type            SLA_days case_status  \\\n",
       "0                        Stray Animal               999.0      Closed   \n",
       "1              Removal Of Obstruction         4.322222222      Closed   \n",
       "2              Removal Of Obstruction         4.320729167      Closed   \n",
       "3          Front Or Side Yard Parking         16.29188657      Closed   \n",
       "4            Animal Cruelty(Critical)               0.125      Closed   \n",
       "5  Traffic Signal Ops and Maintenance         30.08446759      Closed   \n",
       "6          Front Or Side Yard Parking         16.06429398      Closed   \n",
       "7          Front Or Side Yard Parking  16.063796300000003      Closed   \n",
       "8   Right Of Way/Sidewalk Obstruction         16.06333333      Closed   \n",
       "9          Front Or Side Yard Parking          16.0628588      Closed   \n",
       "\n",
       "  source_id                           request_address council_district  \n",
       "0  svcCRMLS      2315  EL PASO ST, San Antonio, 78207                5  \n",
       "1  svcCRMSS       2215  GOLIAD RD, San Antonio, 78223                3  \n",
       "2  svcCRMSS     102  PALFREY ST W, San Antonio, 78223                3  \n",
       "3  svcCRMSS      114  LA GARDE ST, San Antonio, 78223                3  \n",
       "4  svcCRMSS     734  CLEARVIEW DR, San Antonio, 78228                7  \n",
       "5  svcCRMSS                  BANDERA RD and BRESNAHAN                7  \n",
       "6  svcCRMSS  10133  FIGARO CANYON, San Antonio, 78251                4  \n",
       "7  svcCRMSS  10133  FIGARO CANYON, San Antonio, 78251                4  \n",
       "8  svcCRMSS  10133  FIGARO CANYON, San Antonio, 78251                4  \n",
       "9  svcCRMSS  10133  FIGARO CANYON, San Antonio, 78251                4  "
      ]
     },
     "execution_count": 3,
     "metadata": {},
     "output_type": "execute_result"
    }
   ],
   "source": [
    "spark_df = spark.read.csv('sa311/case.csv', header=True)\n",
    "spark_df.limit(10).toPandas()"
   ]
  },
  {
   "cell_type": "code",
   "execution_count": 4,
   "metadata": {
    "ExecuteTime": {
     "end_time": "2019-05-17T17:00:53.086752Z",
     "start_time": "2019-05-17T17:00:53.084219Z"
    }
   },
   "outputs": [],
   "source": [
    "x1 = \"case_late\"\n",
    "x2 = \"case_closed\"\n",
    "x3 = \"council_district\"\n",
    "y1 = \"num_days_late\"\n",
    "y2 = \"SLA_days\""
   ]
  },
  {
   "cell_type": "markdown",
   "metadata": {},
   "source": [
    "## 1. Explore the distribution of y1"
   ]
  },
  {
   "cell_type": "markdown",
   "metadata": {},
   "source": [
    "# What did I do wrong here? The minimum is greater than the mean."
   ]
  },
  {
   "cell_type": "code",
   "execution_count": 5,
   "metadata": {
    "ExecuteTime": {
     "end_time": "2019-05-17T17:00:53.097745Z",
     "start_time": "2019-05-17T17:00:53.089690Z"
    }
   },
   "outputs": [
    {
     "name": "stdout",
     "output_type": "stream",
     "text": [
      "root\n",
      " |-- case_id: string (nullable = true)\n",
      " |-- case_opened_date: string (nullable = true)\n",
      " |-- case_closed_date: string (nullable = true)\n",
      " |-- SLA_due_date: string (nullable = true)\n",
      " |-- case_late: string (nullable = true)\n",
      " |-- num_days_late: string (nullable = true)\n",
      " |-- case_closed: string (nullable = true)\n",
      " |-- dept_division: string (nullable = true)\n",
      " |-- service_request_type: string (nullable = true)\n",
      " |-- SLA_days: string (nullable = true)\n",
      " |-- case_status: string (nullable = true)\n",
      " |-- source_id: string (nullable = true)\n",
      " |-- request_address: string (nullable = true)\n",
      " |-- council_district: string (nullable = true)\n",
      "\n"
     ]
    }
   ],
   "source": [
    "spark_df.printSchema()"
   ]
  },
  {
   "cell_type": "code",
   "execution_count": 6,
   "metadata": {
    "ExecuteTime": {
     "end_time": "2019-05-17T17:00:53.301480Z",
     "start_time": "2019-05-17T17:00:53.101215Z"
    }
   },
   "outputs": [],
   "source": [
    "spark_df = spark_df.withColumn(\"num_days_late\", spark_df.num_days_late.cast(\"double\"))\n",
    "spark_df = spark_df.withColumn(\"SLA_days\", spark_df.SLA_days.cast(\"double\"))"
   ]
  },
  {
   "cell_type": "code",
   "execution_count": 7,
   "metadata": {
    "ExecuteTime": {
     "end_time": "2019-05-17T17:00:55.488152Z",
     "start_time": "2019-05-17T17:00:53.303263Z"
    }
   },
   "outputs": [
    {
     "name": "stdout",
     "output_type": "stream",
     "text": [
      "+-------+-------------------+\n",
      "|summary|      num_days_late|\n",
      "+-------+-------------------+\n",
      "|  count|             841671|\n",
      "|   mean|-49.074867583697205|\n",
      "| stddev| 176.53002498187413|\n",
      "|    min|-1417.0006019999998|\n",
      "|    max|        519.6980787|\n",
      "+-------+-------------------+\n",
      "\n"
     ]
    }
   ],
   "source": [
    "(spark_df.select(y1)\n",
    "        .describe()\n",
    "        .show())"
   ]
  },
  {
   "cell_type": "markdown",
   "metadata": {},
   "source": [
    "What do the ends look like?"
   ]
  },
  {
   "cell_type": "code",
   "execution_count": 8,
   "metadata": {
    "ExecuteTime": {
     "end_time": "2019-05-17T17:00:57.249279Z",
     "start_time": "2019-05-17T17:00:55.489706Z"
    }
   },
   "outputs": [
    {
     "name": "stdout",
     "output_type": "stream",
     "text": [
      "+-----------------------+-----------------------+\n",
      "|skewness(num_days_late)|kurtosis(num_days_late)|\n",
      "+-----------------------+-----------------------+\n",
      "|     -4.940376908429641|      23.84786599971034|\n",
      "+-----------------------+-----------------------+\n",
      "\n"
     ]
    }
   ],
   "source": [
    "spark_df.agg(F.skewness(y1), F.kurtosis(y1)).show()"
   ]
  },
  {
   "cell_type": "markdown",
   "metadata": {},
   "source": [
    "Take a sample for plotting"
   ]
  },
  {
   "cell_type": "code",
   "execution_count": 9,
   "metadata": {
    "ExecuteTime": {
     "end_time": "2019-05-17T17:01:00.852742Z",
     "start_time": "2019-05-17T17:00:57.250961Z"
    }
   },
   "outputs": [],
   "source": [
    "pandas_df = (spark_df.dropna()\n",
    "                     .sample(False, 0.01)\n",
    "                     .toPandas())"
   ]
  },
  {
   "cell_type": "code",
   "execution_count": 10,
   "metadata": {
    "ExecuteTime": {
     "end_time": "2019-05-17T17:01:00.857387Z",
     "start_time": "2019-05-17T17:01:00.854335Z"
    }
   },
   "outputs": [],
   "source": [
    "num_days_late = pandas_df[y1]"
   ]
  },
  {
   "cell_type": "markdown",
   "metadata": {},
   "source": [
    "Visualize the distribution"
   ]
  },
  {
   "cell_type": "code",
   "execution_count": 11,
   "metadata": {
    "ExecuteTime": {
     "end_time": "2019-05-17T17:01:01.212554Z",
     "start_time": "2019-05-17T17:01:00.859619Z"
    }
   },
   "outputs": [
    {
     "name": "stderr",
     "output_type": "stream",
     "text": [
      "/usr/local/anaconda3/lib/python3.7/site-packages/scipy/stats/stats.py:1713: FutureWarning: Using a non-tuple sequence for multidimensional indexing is deprecated; use `arr[tuple(seq)]` instead of `arr[seq]`. In the future this will be interpreted as an array index, `arr[np.array(seq)]`, which will result either in an error or a different result.\n",
      "  return np.add.reduce(sorted[indexer] * weights, axis=axis) / sumval\n"
     ]
    },
    {
     "data": {
      "image/png": "[encoded data removed]",
      "text/plain": [
       "<Figure size 432x288 with 1 Axes>"
      ]
     },
     "metadata": {
      "needs_background": "light"
     },
     "output_type": "display_data"
    }
   ],
   "source": [
    "sns.distplot(num_days_late, kde=False, rug=True)\n",
    "plt.show()"
   ]
  },
  {
   "cell_type": "code",
   "execution_count": 12,
   "metadata": {
    "ExecuteTime": {
     "end_time": "2019-05-17T17:01:01.320737Z",
     "start_time": "2019-05-17T17:01:01.214699Z"
    }
   },
   "outputs": [
    {
     "data": {
      "image/png": "[encoded data removed]",
      "text/plain": [
       "<Figure size 432x288 with 1 Axes>"
      ]
     },
     "metadata": {
      "needs_background": "light"
     },
     "output_type": "display_data"
    }
   ],
   "source": [
    "sns.boxplot(num_days_late)\n",
    "plt.show()"
   ]
  },
  {
   "cell_type": "markdown",
   "metadata": {},
   "source": [
    "Most cases are resolved on time or may be completed a few days late."
   ]
  },
  {
   "cell_type": "markdown",
   "metadata": {
    "ExecuteTime": {
     "end_time": "2019-05-17T03:10:09.396170Z",
     "start_time": "2019-05-17T03:10:09.386679Z"
    }
   },
   "source": [
    "What do negative num_days_late mean?"
   ]
  },
  {
   "cell_type": "code",
   "execution_count": 13,
   "metadata": {
    "ExecuteTime": {
     "end_time": "2019-05-17T17:01:01.342614Z",
     "start_time": "2019-05-17T17:01:01.322372Z"
    }
   },
   "outputs": [
    {
     "data": {
      "text/html": [
       "<div>\n",
       "<style scoped>\n",
       "    .dataframe tbody tr th:only-of-type {\n",
       "        vertical-align: middle;\n",
       "    }\n",
       "\n",
       "    .dataframe tbody tr th {\n",
       "        vertical-align: top;\n",
       "    }\n",
       "\n",
       "    .dataframe thead th {\n",
       "        text-align: right;\n",
       "    }\n",
       "</style>\n",
       "<table border=\"1\" class=\"dataframe\">\n",
       "  <thead>\n",
       "    <tr style=\"text-align: right;\">\n",
       "      <th></th>\n",
       "      <th>case_id</th>\n",
       "      <th>case_opened_date</th>\n",
       "      <th>case_closed_date</th>\n",
       "      <th>SLA_due_date</th>\n",
       "      <th>case_late</th>\n",
       "      <th>num_days_late</th>\n",
       "      <th>case_closed</th>\n",
       "      <th>dept_division</th>\n",
       "      <th>service_request_type</th>\n",
       "      <th>SLA_days</th>\n",
       "      <th>case_status</th>\n",
       "      <th>source_id</th>\n",
       "      <th>request_address</th>\n",
       "      <th>council_district</th>\n",
       "    </tr>\n",
       "  </thead>\n",
       "  <tbody>\n",
       "    <tr>\n",
       "      <th>1</th>\n",
       "      <td>1014127650</td>\n",
       "      <td>1/1/18 16:59</td>\n",
       "      <td>1/1/18 19:44</td>\n",
       "      <td>1/11/18 16:59</td>\n",
       "      <td>NO</td>\n",
       "      <td>-9.885093</td>\n",
       "      <td>YES</td>\n",
       "      <td>Field Operations</td>\n",
       "      <td>Public Nuisance(Own Animal)</td>\n",
       "      <td>10.000000</td>\n",
       "      <td>Closed</td>\n",
       "      <td>124405</td>\n",
       "      <td>1415  24TH ST NW, San Antonio, 78207</td>\n",
       "      <td>5</td>\n",
       "    </tr>\n",
       "    <tr>\n",
       "      <th>2</th>\n",
       "      <td>1014127719</td>\n",
       "      <td>1/1/18 18:08</td>\n",
       "      <td>2/22/18 14:28</td>\n",
       "      <td>3/7/18 8:30</td>\n",
       "      <td>NO</td>\n",
       "      <td>-12.750937</td>\n",
       "      <td>YES</td>\n",
       "      <td>Code Enforcement</td>\n",
       "      <td>Sewer Line Broken</td>\n",
       "      <td>64.598368</td>\n",
       "      <td>Closed</td>\n",
       "      <td>svcCRMSS</td>\n",
       "      <td>5326  GHOST HAWK, San Antonio, 78242</td>\n",
       "      <td>4</td>\n",
       "    </tr>\n",
       "    <tr>\n",
       "      <th>3</th>\n",
       "      <td>1014128125</td>\n",
       "      <td>1/2/18 8:43</td>\n",
       "      <td>1/5/18 7:54</td>\n",
       "      <td>3/7/18 8:43</td>\n",
       "      <td>NO</td>\n",
       "      <td>-61.034132</td>\n",
       "      <td>YES</td>\n",
       "      <td>Code Enforcement</td>\n",
       "      <td>Permits Building</td>\n",
       "      <td>64.000000</td>\n",
       "      <td>Closed</td>\n",
       "      <td>svcCRMSS</td>\n",
       "      <td>904  HOUSTON ST W, San Antonio, 78207</td>\n",
       "      <td>5</td>\n",
       "    </tr>\n",
       "    <tr>\n",
       "      <th>6</th>\n",
       "      <td>1014128598</td>\n",
       "      <td>1/2/18 10:15</td>\n",
       "      <td>1/2/18 10:18</td>\n",
       "      <td>1/17/18 10:15</td>\n",
       "      <td>NO</td>\n",
       "      <td>-14.998426</td>\n",
       "      <td>YES</td>\n",
       "      <td>Code Enforcement</td>\n",
       "      <td>Bandit Signs</td>\n",
       "      <td>15.000000</td>\n",
       "      <td>Closed</td>\n",
       "      <td>CRM_Listener</td>\n",
       "      <td>OREY AVE and SURREY AVE</td>\n",
       "      <td>5</td>\n",
       "    </tr>\n",
       "    <tr>\n",
       "      <th>7</th>\n",
       "      <td>1014128710</td>\n",
       "      <td>1/2/18 10:33</td>\n",
       "      <td>1/2/18 11:19</td>\n",
       "      <td>1/4/18 10:33</td>\n",
       "      <td>NO</td>\n",
       "      <td>-1.968275</td>\n",
       "      <td>YES</td>\n",
       "      <td>Miscellaneous</td>\n",
       "      <td>Dead Animal - Dog</td>\n",
       "      <td>2.000000</td>\n",
       "      <td>Closed</td>\n",
       "      <td>135723</td>\n",
       "      <td>361  SAN IGNACIO N, San Antonio, 78237</td>\n",
       "      <td>5</td>\n",
       "    </tr>\n",
       "  </tbody>\n",
       "</table>\n",
       "</div>"
      ],
      "text/plain": [
       "      case_id case_opened_date case_closed_date   SLA_due_date case_late  \\\n",
       "1  1014127650     1/1/18 16:59     1/1/18 19:44  1/11/18 16:59        NO   \n",
       "2  1014127719     1/1/18 18:08    2/22/18 14:28    3/7/18 8:30        NO   \n",
       "3  1014128125      1/2/18 8:43      1/5/18 7:54    3/7/18 8:43        NO   \n",
       "6  1014128598     1/2/18 10:15     1/2/18 10:18  1/17/18 10:15        NO   \n",
       "7  1014128710     1/2/18 10:33     1/2/18 11:19   1/4/18 10:33        NO   \n",
       "\n",
       "   num_days_late case_closed     dept_division         service_request_type  \\\n",
       "1      -9.885093         YES  Field Operations  Public Nuisance(Own Animal)   \n",
       "2     -12.750937         YES  Code Enforcement            Sewer Line Broken   \n",
       "3     -61.034132         YES  Code Enforcement             Permits Building   \n",
       "6     -14.998426         YES  Code Enforcement                 Bandit Signs   \n",
       "7      -1.968275         YES     Miscellaneous            Dead Animal - Dog   \n",
       "\n",
       "    SLA_days case_status     source_id  \\\n",
       "1  10.000000      Closed        124405   \n",
       "2  64.598368      Closed      svcCRMSS   \n",
       "3  64.000000      Closed      svcCRMSS   \n",
       "6  15.000000      Closed  CRM_Listener   \n",
       "7   2.000000      Closed        135723   \n",
       "\n",
       "                          request_address council_district  \n",
       "1    1415  24TH ST NW, San Antonio, 78207                5  \n",
       "2    5326  GHOST HAWK, San Antonio, 78242                4  \n",
       "3   904  HOUSTON ST W, San Antonio, 78207                5  \n",
       "6                 OREY AVE and SURREY AVE                5  \n",
       "7  361  SAN IGNACIO N, San Antonio, 78237                5  "
      ]
     },
     "execution_count": 13,
     "metadata": {},
     "output_type": "execute_result"
    }
   ],
   "source": [
    "df_neg_num_days_late = pandas_df[num_days_late < 0]\n",
    "df_neg_num_days_late.head()"
   ]
  },
  {
   "cell_type": "markdown",
   "metadata": {},
   "source": [
    "It means the case was closed before the SLA_due_date by that number of days"
   ]
  },
  {
   "cell_type": "markdown",
   "metadata": {},
   "source": [
    "Select only the cases that were/are late"
   ]
  },
  {
   "cell_type": "code",
   "execution_count": 14,
   "metadata": {
    "ExecuteTime": {
     "end_time": "2019-05-17T17:01:01.350982Z",
     "start_time": "2019-05-17T17:01:01.346816Z"
    }
   },
   "outputs": [],
   "source": [
    "pos_num_days_late = num_days_late[num_days_late >= 0]"
   ]
  },
  {
   "cell_type": "code",
   "execution_count": 15,
   "metadata": {
    "ExecuteTime": {
     "end_time": "2019-05-17T17:01:01.359894Z",
     "start_time": "2019-05-17T17:01:01.352926Z"
    }
   },
   "outputs": [
    {
     "data": {
      "text/plain": [
       "count    897.000000\n",
       "mean      24.055414\n",
       "std       55.870829\n",
       "min        0.000567\n",
       "25%        0.730856\n",
       "50%        4.000764\n",
       "75%       21.916667\n",
       "max      496.832384\n",
       "Name: num_days_late, dtype: float64"
      ]
     },
     "execution_count": 15,
     "metadata": {},
     "output_type": "execute_result"
    }
   ],
   "source": [
    "pos_num_days_late.describe()"
   ]
  },
  {
   "cell_type": "code",
   "execution_count": 16,
   "metadata": {
    "ExecuteTime": {
     "end_time": "2019-05-17T17:01:01.604892Z",
     "start_time": "2019-05-17T17:01:01.361722Z"
    }
   },
   "outputs": [
    {
     "data": {
      "image/png": "[encoded data removed]",
      "text/plain": [
       "<Figure size 432x288 with 1 Axes>"
      ]
     },
     "metadata": {
      "needs_background": "light"
     },
     "output_type": "display_data"
    }
   ],
   "source": [
    "sns.distplot(pos_num_days_late, kde=False, rug=True)\n",
    "plt.show()"
   ]
  },
  {
   "cell_type": "code",
   "execution_count": 17,
   "metadata": {
    "ExecuteTime": {
     "end_time": "2019-05-17T17:01:01.701355Z",
     "start_time": "2019-05-17T17:01:01.606104Z"
    }
   },
   "outputs": [
    {
     "data": {
      "image/png": "[encoded data removed]",
      "text/plain": [
       "<Figure size 432x288 with 1 Axes>"
      ]
     },
     "metadata": {
      "needs_background": "light"
     },
     "output_type": "display_data"
    }
   ],
   "source": [
    "sns.boxplot(pos_num_days_late)\n",
    "plt.show()"
   ]
  },
  {
   "cell_type": "markdown",
   "metadata": {},
   "source": [
    "Most are resolved in under 25 days"
   ]
  },
  {
   "cell_type": "code",
   "execution_count": 18,
   "metadata": {
    "ExecuteTime": {
     "end_time": "2019-05-17T17:01:03.852122Z",
     "start_time": "2019-05-17T17:01:01.706252Z"
    }
   },
   "outputs": [],
   "source": [
    "late = (spark_df.select(spark_df.num_days_late, spark_df.service_request_type)\n",
    "         .groupBy(\"service_request_type\")\n",
    "         .count()\n",
    "         .orderBy(\"count\", ascending=False)\n",
    "         #.show(truncate=False)\n",
    ").toPandas()"
   ]
  },
  {
   "cell_type": "code",
   "execution_count": 19,
   "metadata": {
    "ExecuteTime": {
     "end_time": "2019-05-17T17:01:03.864782Z",
     "start_time": "2019-05-17T17:01:03.857521Z"
    }
   },
   "outputs": [
    {
     "data": {
      "text/html": [
       "<div>\n",
       "<style scoped>\n",
       "    .dataframe tbody tr th:only-of-type {\n",
       "        vertical-align: middle;\n",
       "    }\n",
       "\n",
       "    .dataframe tbody tr th {\n",
       "        vertical-align: top;\n",
       "    }\n",
       "\n",
       "    .dataframe thead th {\n",
       "        text-align: right;\n",
       "    }\n",
       "</style>\n",
       "<table border=\"1\" class=\"dataframe\">\n",
       "  <thead>\n",
       "    <tr style=\"text-align: right;\">\n",
       "      <th></th>\n",
       "      <th>service_request_type</th>\n",
       "      <th>count</th>\n",
       "    </tr>\n",
       "  </thead>\n",
       "  <tbody>\n",
       "    <tr>\n",
       "      <th>0</th>\n",
       "      <td>No Pickup</td>\n",
       "      <td>86855</td>\n",
       "    </tr>\n",
       "    <tr>\n",
       "      <th>1</th>\n",
       "      <td>Overgrown Yard/Trash</td>\n",
       "      <td>65895</td>\n",
       "    </tr>\n",
       "    <tr>\n",
       "      <th>2</th>\n",
       "      <td>Bandit Signs</td>\n",
       "      <td>32910</td>\n",
       "    </tr>\n",
       "    <tr>\n",
       "      <th>3</th>\n",
       "      <td>Damaged Cart</td>\n",
       "      <td>30338</td>\n",
       "    </tr>\n",
       "    <tr>\n",
       "      <th>4</th>\n",
       "      <td>Front Or Side Yard Parking</td>\n",
       "      <td>28794</td>\n",
       "    </tr>\n",
       "    <tr>\n",
       "      <th>5</th>\n",
       "      <td>Stray Animal</td>\n",
       "      <td>26760</td>\n",
       "    </tr>\n",
       "    <tr>\n",
       "      <th>6</th>\n",
       "      <td>Aggressive Animal(Non-Critical)</td>\n",
       "      <td>24882</td>\n",
       "    </tr>\n",
       "    <tr>\n",
       "      <th>7</th>\n",
       "      <td>Cart Exchange Request</td>\n",
       "      <td>22024</td>\n",
       "    </tr>\n",
       "    <tr>\n",
       "      <th>8</th>\n",
       "      <td>Junk Vehicle On Private Property</td>\n",
       "      <td>21473</td>\n",
       "    </tr>\n",
       "    <tr>\n",
       "      <th>9</th>\n",
       "      <td>Pot Hole Repair</td>\n",
       "      <td>20616</td>\n",
       "    </tr>\n",
       "  </tbody>\n",
       "</table>\n",
       "</div>"
      ],
      "text/plain": [
       "               service_request_type  count\n",
       "0                         No Pickup  86855\n",
       "1              Overgrown Yard/Trash  65895\n",
       "2                      Bandit Signs  32910\n",
       "3                      Damaged Cart  30338\n",
       "4        Front Or Side Yard Parking  28794\n",
       "5                      Stray Animal  26760\n",
       "6   Aggressive Animal(Non-Critical)  24882\n",
       "7             Cart Exchange Request  22024\n",
       "8  Junk Vehicle On Private Property  21473\n",
       "9                   Pot Hole Repair  20616"
      ]
     },
     "execution_count": 19,
     "metadata": {},
     "output_type": "execute_result"
    }
   ],
   "source": [
    "late[:10]"
   ]
  },
  {
   "cell_type": "code",
   "execution_count": 20,
   "metadata": {
    "ExecuteTime": {
     "end_time": "2019-05-17T17:01:04.126892Z",
     "start_time": "2019-05-17T17:01:03.867022Z"
    }
   },
   "outputs": [
    {
     "data": {
      "image/png": "[encoded data removed]",
      "text/plain": [
       "<Figure size 432x288 with 1 Axes>"
      ]
     },
     "metadata": {
      "needs_background": "light"
     },
     "output_type": "display_data"
    }
   ],
   "source": [
    "sns.barplot(y=\"service_request_type\", x=\"count\", data=late[:10], orient=\"h\")\n",
    "plt.ylabel(\"Service Request Type\")\n",
    "plt.xlabel(\"Count\")\n",
    "plt.title(\"Top Ten Number of Late Cases by Service Request Type\")\n",
    "plt.show()"
   ]
  },
  {
   "cell_type": "markdown",
   "metadata": {},
   "source": [
    "Most late cases are resolved in fewer than 50 days. But there are a bunch of outliers. What are these?"
   ]
  },
  {
   "cell_type": "code",
   "execution_count": 21,
   "metadata": {
    "ExecuteTime": {
     "end_time": "2019-05-17T17:01:06.984295Z",
     "start_time": "2019-05-17T17:01:04.129512Z"
    }
   },
   "outputs": [],
   "source": [
    "very_late = (spark_df.where(spark_df.num_days_late > 75)\n",
    "         .groupBy(\"service_request_type\")\n",
    "         .count()\n",
    "         .orderBy(\"count\", ascending=False)\n",
    "         #.show(truncate=False)\n",
    ").toPandas()"
   ]
  },
  {
   "cell_type": "code",
   "execution_count": 22,
   "metadata": {
    "ExecuteTime": {
     "end_time": "2019-05-17T17:01:06.992406Z",
     "start_time": "2019-05-17T17:01:06.985906Z"
    }
   },
   "outputs": [
    {
     "name": "stdout",
     "output_type": "stream",
     "text": [
      "<class 'pandas.core.frame.DataFrame'>\n",
      "RangeIndex: 152 entries, 0 to 151\n",
      "Data columns (total 2 columns):\n",
      "service_request_type    152 non-null object\n",
      "count                   152 non-null int64\n",
      "dtypes: int64(1), object(1)\n",
      "memory usage: 2.5+ KB\n"
     ]
    }
   ],
   "source": [
    "very_late.info()"
   ]
  },
  {
   "cell_type": "code",
   "execution_count": 23,
   "metadata": {
    "ExecuteTime": {
     "end_time": "2019-05-17T17:01:07.231045Z",
     "start_time": "2019-05-17T17:01:06.994501Z"
    }
   },
   "outputs": [
    {
     "data": {
      "image/png": "[encoded data removed]",
      "text/plain": [
       "<Figure size 432x288 with 1 Axes>"
      ]
     },
     "metadata": {
      "needs_background": "light"
     },
     "output_type": "display_data"
    }
   ],
   "source": [
    "sns.barplot(y=\"service_request_type\", x=\"count\", data=very_late[:10], orient=\"h\")\n",
    "plt.ylabel(\"Service Request Type\")\n",
    "plt.xlabel(\"Count\")\n",
    "plt.title(\"Top Ten Number of Very Late Cases by Service Request Type\")\n",
    "plt.show()"
   ]
  },
  {
   "cell_type": "code",
   "execution_count": 24,
   "metadata": {
    "ExecuteTime": {
     "end_time": "2019-05-17T17:01:07.366070Z",
     "start_time": "2019-05-17T17:01:07.232478Z"
    }
   },
   "outputs": [
    {
     "data": {
      "image/png": "[encoded data removed]",
      "text/plain": [
       "<Figure size 432x288 with 1 Axes>"
      ]
     },
     "metadata": {
      "needs_background": "light"
     },
     "output_type": "display_data"
    }
   ],
   "source": [
    "sns.distplot(num_days_late[num_days_late > 75], kde=False)\n",
    "plt.title(\"Distribution of Very Late Cases (> 75 days)\")\n",
    "plt.xlabel(\"Number of Days Late\")\n",
    "plt.show()"
   ]
  },
  {
   "cell_type": "markdown",
   "metadata": {},
   "source": [
    "The types of very late cases (> 75 days) are different than the types for merely late cases. Permits and complaints stand out as not in the top ten of merely late cases. Bandit signs is near or at the top for both degrees of lateness. Is there something about the request types in the very late cases that cause them to be so late? "
   ]
  },
  {
   "cell_type": "markdown",
   "metadata": {},
   "source": [
    "What does the distribution look like by district and request type"
   ]
  },
  {
   "cell_type": "code",
   "execution_count": 25,
   "metadata": {
    "ExecuteTime": {
     "end_time": "2019-05-17T17:01:09.752679Z",
     "start_time": "2019-05-17T17:01:07.367420Z"
    }
   },
   "outputs": [
    {
     "name": "stdout",
     "output_type": "stream",
     "text": [
      "+----------------+--------------------+-----+\n",
      "|council_district|service_request_type|count|\n",
      "+----------------+--------------------+-----+\n",
      "|1               |Permits Building    |237  |\n",
      "|5               |Bandit Signs        |192  |\n",
      "|6               |Permits Building    |176  |\n",
      "|3               |Bandit Signs        |171  |\n",
      "|4               |Zoning: Junk Yards  |164  |\n",
      "|2               |Permits Building    |154  |\n",
      "|1               |Complaint           |138  |\n",
      "|3               |Permits Building    |136  |\n",
      "|2               |Complaint           |131  |\n",
      "|3               |Complaint           |122  |\n",
      "|5               |Complaint           |122  |\n",
      "|10              |Bandit Signs        |120  |\n",
      "|5               |Permits Building    |119  |\n",
      "|4               |Complaint           |112  |\n",
      "|5               |Animal Neglect      |109  |\n",
      "|1               |Bandit Signs        |107  |\n",
      "|10              |Complaint           |107  |\n",
      "|7               |Complaint           |105  |\n",
      "|9               |Bandit Signs        |99   |\n",
      "|5               |Overgrown Yard/Trash|94   |\n",
      "+----------------+--------------------+-----+\n",
      "only showing top 20 rows\n",
      "\n"
     ]
    }
   ],
   "source": [
    "(spark_df.where(spark_df.num_days_late > 75)\n",
    "         .select(\"council_district\", \"service_request_type\", \"num_days_late\")\n",
    "         .groupBy([\"council_district\", \"service_request_type\"])\n",
    "         .count()\n",
    "         .orderBy(\"count\", ascending=False)\n",
    "         .show(truncate=False))"
   ]
  },
  {
   "cell_type": "markdown",
   "metadata": {},
   "source": [
    "## 2. Explore the distribution of y2"
   ]
  },
  {
   "cell_type": "code",
   "execution_count": 26,
   "metadata": {
    "ExecuteTime": {
     "end_time": "2019-05-17T17:01:09.763088Z",
     "start_time": "2019-05-17T17:01:09.755535Z"
    }
   },
   "outputs": [],
   "source": [
    "spark_df = spark_df.withColumn(\"SLA_days\", spark_df.SLA_days.cast(\"double\"))"
   ]
  },
  {
   "cell_type": "code",
   "execution_count": 27,
   "metadata": {
    "ExecuteTime": {
     "end_time": "2019-05-17T17:01:11.378712Z",
     "start_time": "2019-05-17T17:01:09.764720Z"
    }
   },
   "outputs": [
    {
     "name": "stdout",
     "output_type": "stream",
     "text": [
      "+-------+------------------+\n",
      "|summary|          SLA_days|\n",
      "+-------+------------------+\n",
      "|  count|            841671|\n",
      "|   mean| 59.25478976660636|\n",
      "| stddev|174.52559467491596|\n",
      "|    min|             0.125|\n",
      "|    max|            1420.0|\n",
      "+-------+------------------+\n",
      "\n"
     ]
    }
   ],
   "source": [
    "(spark_df.select(y2)\n",
    "        .describe()\n",
    "        .show())"
   ]
  },
  {
   "cell_type": "markdown",
   "metadata": {},
   "source": [
    "What cases are at the min?"
   ]
  },
  {
   "cell_type": "code",
   "execution_count": 28,
   "metadata": {
    "ExecuteTime": {
     "end_time": "2019-05-17T17:01:11.528219Z",
     "start_time": "2019-05-17T17:01:11.380741Z"
    }
   },
   "outputs": [
    {
     "name": "stdout",
     "output_type": "stream",
     "text": [
      "-RECORD 0-------------------------------------------------------\n",
      " case_id              | 1014127336                              \n",
      " case_opened_date     | 1/1/18 1:34                             \n",
      " case_closed_date     | 1/1/18 13:29                            \n",
      " SLA_due_date         | 1/1/18 4:34                             \n",
      " case_late            | YES                                     \n",
      " num_days_late        | 0.37216435200000003                     \n",
      " case_closed          | YES                                     \n",
      " dept_division        | Field Operations                        \n",
      " service_request_type | Animal Cruelty(Critical)                \n",
      " SLA_days             | 0.125                                   \n",
      " case_status          | Closed                                  \n",
      " source_id            | svcCRMSS                                \n",
      " request_address      | 734  CLEARVIEW DR, San Antonio, 78228   \n",
      " council_district     | 7                                       \n",
      "-RECORD 1-------------------------------------------------------\n",
      " case_id              | 1014127385                              \n",
      " case_opened_date     | 1/1/18 8:56                             \n",
      " case_closed_date     | 1/1/18 10:15                            \n",
      " SLA_due_date         | 1/1/18 11:56                            \n",
      " case_late            | NO                                      \n",
      " num_days_late        | -0.070092593                            \n",
      " case_closed          | YES                                     \n",
      " dept_division        | Field Operations                        \n",
      " service_request_type | Animal Cruelty(Critical)                \n",
      " SLA_days             | 0.125                                   \n",
      " case_status          | Closed                                  \n",
      " source_id            | ns16326                                 \n",
      " request_address      | TRAVIS ST W and 26TH ST NW              \n",
      " council_district     | 5                                       \n",
      "-RECORD 2-------------------------------------------------------\n",
      " case_id              | 1014127386                              \n",
      " case_opened_date     | 1/1/18 8:56                             \n",
      " case_closed_date     | 1/1/18 11:03                            \n",
      " SLA_due_date         | 1/1/18 11:56                            \n",
      " case_late            | NO                                      \n",
      " num_days_late        | -0.037303241                            \n",
      " case_closed          | YES                                     \n",
      " dept_division        | Field Operations                        \n",
      " service_request_type | Animal Cruelty(Critical)                \n",
      " SLA_days             | 0.125                                   \n",
      " case_status          | Closed                                  \n",
      " source_id            | svcCRMSS                                \n",
      " request_address      | 111  LUBBOCK ST E, San Antonio, 78204   \n",
      " council_district     | 5                                       \n",
      "-RECORD 3-------------------------------------------------------\n",
      " case_id              | 1014127387                              \n",
      " case_opened_date     | 1/1/18 8:57                             \n",
      " case_closed_date     | 1/1/18 12:42                            \n",
      " SLA_due_date         | 1/1/18 11:57                            \n",
      " case_late            | YES                                     \n",
      " num_days_late        | 0.03150463                              \n",
      " case_closed          | YES                                     \n",
      " dept_division        | Field Operations                        \n",
      " service_request_type | Animal Cruelty(Critical)                \n",
      " SLA_days             | 0.125                                   \n",
      " case_status          | Closed                                  \n",
      " source_id            | svcCRMSS                                \n",
      " request_address      | DATAPOINT and FREDSBG RD                \n",
      " council_district     | 8                                       \n",
      "-RECORD 4-------------------------------------------------------\n",
      " case_id              | 1014127408                              \n",
      " case_opened_date     | 1/1/18 10:02                            \n",
      " case_closed_date     | 1/1/18 11:10                            \n",
      " SLA_due_date         | 1/1/18 13:02                            \n",
      " case_late            | NO                                      \n",
      " num_days_late        | -0.077939815                            \n",
      " case_closed          | YES                                     \n",
      " dept_division        | Field Operations                        \n",
      " service_request_type | Injured Animal(Critical)                \n",
      " SLA_days             | 0.125                                   \n",
      " case_status          | Closed                                  \n",
      " source_id            | ns16326                                 \n",
      " request_address      | STATE HWY 151 and PINN RD               \n",
      " council_district     | 6                                       \n",
      "-RECORD 5-------------------------------------------------------\n",
      " case_id              | 1014127422                              \n",
      " case_opened_date     | 1/1/18 10:41                            \n",
      " case_closed_date     | 1/1/18 12:20                            \n",
      " SLA_due_date         | 1/1/18 13:41                            \n",
      " case_late            | NO                                      \n",
      " num_days_late        | -0.05648148099999999                    \n",
      " case_closed          | YES                                     \n",
      " dept_division        | Field Operations                        \n",
      " service_request_type | Injured Animal(Critical)                \n",
      " SLA_days             | 0.125                                   \n",
      " case_status          | Closed                                  \n",
      " source_id            | ns16326                                 \n",
      " request_address      | CHURING DR and PRESCOTT DR              \n",
      " council_district     | 4                                       \n",
      "-RECORD 6-------------------------------------------------------\n",
      " case_id              | 1014127444                              \n",
      " case_opened_date     | 1/1/18 11:23                            \n",
      " case_closed_date     | 1/1/18 11:39                            \n",
      " SLA_due_date         | 1/1/18 14:23                            \n",
      " case_late            | NO                                      \n",
      " num_days_late        | -0.11412037                             \n",
      " case_closed          | YES                                     \n",
      " dept_division        | Field Operations                        \n",
      " service_request_type | Animal Cruelty(Critical)                \n",
      " SLA_days             | 0.125                                   \n",
      " case_status          | Closed                                  \n",
      " source_id            | svcCRMSS                                \n",
      " request_address      | PRENTISS DR and PRESLEY DR              \n",
      " council_district     | 7                                       \n",
      "-RECORD 7-------------------------------------------------------\n",
      " case_id              | 1014127483                              \n",
      " case_opened_date     | 1/1/18 12:57                            \n",
      " case_closed_date     | 1/1/18 15:42                            \n",
      " SLA_due_date         | 1/1/18 15:57                            \n",
      " case_late            | NO                                      \n",
      " num_days_late        | -0.010729167                            \n",
      " case_closed          | YES                                     \n",
      " dept_division        | Field Operations                        \n",
      " service_request_type | Animal Cruelty(Critical)                \n",
      " SLA_days             | 0.125                                   \n",
      " case_status          | Closed                                  \n",
      " source_id            | svcCRMSS                                \n",
      " request_address      | 1975  RAYBURN DR, San Antonio, 78224    \n",
      " council_district     | 4                                       \n",
      "-RECORD 8-------------------------------------------------------\n",
      " case_id              | 1014127492                              \n",
      " case_opened_date     | 1/1/18 13:09                            \n",
      " case_closed_date     | 1/1/18 15:54                            \n",
      " SLA_due_date         | 1/1/18 16:09                            \n",
      " case_late            | NO                                      \n",
      " num_days_late        | -0.010706018999999999                   \n",
      " case_closed          | YES                                     \n",
      " dept_division        | Field Operations                        \n",
      " service_request_type | Animal Cruelty(Critical)                \n",
      " SLA_days             | 0.125                                   \n",
      " case_status          | Closed                                  \n",
      " source_id            | svcCRMSS                                \n",
      " request_address      | 10418  SHAENFIELD, San Antonio, 78254   \n",
      " council_district     | 6                                       \n",
      "-RECORD 9-------------------------------------------------------\n",
      " case_id              | 1014127493                              \n",
      " case_opened_date     | 1/1/18 13:09                            \n",
      " case_closed_date     | 1/1/18 13:20                            \n",
      " SLA_due_date         | 1/1/18 16:09                            \n",
      " case_late            | NO                                      \n",
      " num_days_late        | -0.11747685199999999                    \n",
      " case_closed          | YES                                     \n",
      " dept_division        | Field Operations                        \n",
      " service_request_type | Animal Cruelty(Critical)                \n",
      " SLA_days             | 0.125                                   \n",
      " case_status          | Closed                                  \n",
      " source_id            | svcCRMSS                                \n",
      " request_address      | 10418  SHAENFIELD, San Antonio, 78254   \n",
      " council_district     | 6                                       \n",
      "-RECORD 10------------------------------------------------------\n",
      " case_id              | 1014127544                              \n",
      " case_opened_date     | 1/1/18 13:53                            \n",
      " case_closed_date     | 1/1/18 18:07                            \n",
      " SLA_due_date         | 1/1/18 16:53                            \n",
      " case_late            | YES                                     \n",
      " num_days_late        | 0.051365741                             \n",
      " case_closed          | YES                                     \n",
      " dept_division        | Field Operations                        \n",
      " service_request_type | Animal Cruelty(Critical)                \n",
      " SLA_days             | 0.125                                   \n",
      " case_status          | Closed                                  \n",
      " source_id            | svcCRMSS                                \n",
      " request_address      | BLUFF ST and WATKINS                    \n",
      " council_district     | 7                                       \n",
      "-RECORD 11------------------------------------------------------\n",
      " case_id              | 1014127561                              \n",
      " case_opened_date     | 1/1/18 14:26                            \n",
      " case_closed_date     | 1/1/18 15:52                            \n",
      " SLA_due_date         | 1/1/18 17:26                            \n",
      " case_late            | NO                                      \n",
      " num_days_late        | -0.065416667                            \n",
      " case_closed          | YES                                     \n",
      " dept_division        | Field Operations                        \n",
      " service_request_type | Animal Cruelty(Critical)                \n",
      " SLA_days             | 0.125                                   \n",
      " case_status          | Closed                                  \n",
      " source_id            | svcCRMSS                                \n",
      " request_address      | 903  MT CAPOTE, San Antonio, 78213      \n",
      " council_district     | 9                                       \n",
      "-RECORD 12------------------------------------------------------\n",
      " case_id              | 1014127562                              \n",
      " case_opened_date     | 1/1/18 14:27                            \n",
      " case_closed_date     | 1/1/18 15:06                            \n",
      " SLA_due_date         | 1/1/18 17:27                            \n",
      " case_late            | NO                                      \n",
      " num_days_late        | -0.097997685                            \n",
      " case_closed          | YES                                     \n",
      " dept_division        | Field Operations                        \n",
      " service_request_type | Officer Standby                         \n",
      " SLA_days             | 0.125                                   \n",
      " case_status          | Closed                                  \n",
      " source_id            | 139344                                  \n",
      " request_address      | 2114  SACRAMENTO, San Antonio, 78201    \n",
      " council_district     | 1                                       \n",
      "-RECORD 13------------------------------------------------------\n",
      " case_id              | 1014127565                              \n",
      " case_opened_date     | 1/1/18 14:28                            \n",
      " case_closed_date     | 1/1/18 15:06                            \n",
      " SLA_due_date         | 1/1/18 17:28                            \n",
      " case_late            | NO                                      \n",
      " num_days_late        | -0.099039352                            \n",
      " case_closed          | YES                                     \n",
      " dept_division        | Field Operations                        \n",
      " service_request_type | Officer Standby                         \n",
      " SLA_days             | 0.125                                   \n",
      " case_status          | Closed                                  \n",
      " source_id            | 139344                                  \n",
      " request_address      | 6065  NW 410, San Antonio, 78238        \n",
      " council_district     | 7                                       \n",
      "-RECORD 14------------------------------------------------------\n",
      " case_id              | 1014127584                              \n",
      " case_opened_date     | 1/1/18 14:58                            \n",
      " case_closed_date     | 1/1/18 17:18                            \n",
      " SLA_due_date         | 1/1/18 17:58                            \n",
      " case_late            | NO                                      \n",
      " num_days_late        | -0.02837963                             \n",
      " case_closed          | YES                                     \n",
      " dept_division        | Field Operations                        \n",
      " service_request_type | Injured Animal(Critical)                \n",
      " SLA_days             | 0.125                                   \n",
      " case_status          | Closed                                  \n",
      " source_id            | rs16746                                 \n",
      " request_address      | 7230  WURZBACH RD, San Antonio, 78240   \n",
      " council_district     | 7                                       \n",
      "-RECORD 15------------------------------------------------------\n",
      " case_id              | 1014127588                              \n",
      " case_opened_date     | 1/1/18 15:09                            \n",
      " case_closed_date     | 1/1/18 16:29                            \n",
      " SLA_due_date         | 1/1/18 18:09                            \n",
      " case_late            | NO                                      \n",
      " num_days_late        | -0.06962963                             \n",
      " case_closed          | YES                                     \n",
      " dept_division        | Field Operations                        \n",
      " service_request_type | Injured Animal(Critical)                \n",
      " SLA_days             | 0.125                                   \n",
      " case_status          | Closed                                  \n",
      " source_id            | 124405                                  \n",
      " request_address      | NB LOOP 410 SW and HWY 90 W             \n",
      " council_district     | 4                                       \n",
      "-RECORD 16------------------------------------------------------\n",
      " case_id              | 1014127589                              \n",
      " case_opened_date     | 1/1/18 15:11                            \n",
      " case_closed_date     | 1/1/18 16:49                            \n",
      " SLA_due_date         | 1/1/18 18:11                            \n",
      " case_late            | NO                                      \n",
      " num_days_late        | -0.056990741                            \n",
      " case_closed          | YES                                     \n",
      " dept_division        | Field Operations                        \n",
      " service_request_type | Animal Cruelty(Critical)                \n",
      " SLA_days             | 0.125                                   \n",
      " case_status          | Closed                                  \n",
      " source_id            | svcCRMSS                                \n",
      " request_address      | 8211  ACADEMIC POST, San Antonio, 78250 \n",
      " council_district     | 6                                       \n",
      "-RECORD 17------------------------------------------------------\n",
      " case_id              | 1014127591                              \n",
      " case_opened_date     | 1/1/18 15:14                            \n",
      " case_closed_date     | 1/1/18 15:59                            \n",
      " SLA_due_date         | 1/1/18 18:14                            \n",
      " case_late            | NO                                      \n",
      " num_days_late        | -0.093865741                            \n",
      " case_closed          | YES                                     \n",
      " dept_division        | Field Operations                        \n",
      " service_request_type | Injured Animal(Critical)                \n",
      " SLA_days             | 0.125                                   \n",
      " case_status          | Closed                                  \n",
      " source_id            | ns16326                                 \n",
      " request_address      | 2411  POTOSI ST, San Antonio, 78207     \n",
      " council_district     | 5                                       \n",
      "-RECORD 18------------------------------------------------------\n",
      " case_id              | 1014127606                              \n",
      " case_opened_date     | 1/1/18 15:30                            \n",
      " case_closed_date     | 1/1/18 17:38                            \n",
      " SLA_due_date         | 1/1/18 18:30                            \n",
      " case_late            | NO                                      \n",
      " num_days_late        | -0.036145832999999995                   \n",
      " case_closed          | YES                                     \n",
      " dept_division        | Field Operations                        \n",
      " service_request_type | Animal Cruelty(Critical)                \n",
      " SLA_days             | 0.125                                   \n",
      " case_status          | Closed                                  \n",
      " source_id            | svcCRMSS                                \n",
      " request_address      | NASHVILLE and CUL-DE-SAC                \n",
      " council_district     | 4                                       \n",
      "-RECORD 19------------------------------------------------------\n",
      " case_id              | 1014127621                              \n",
      " case_opened_date     | 1/1/18 15:59                            \n",
      " case_closed_date     | 1/1/18 16:05                            \n",
      " SLA_due_date         | 1/1/18 18:59                            \n",
      " case_late            | NO                                      \n",
      " num_days_late        | -0.120300926                            \n",
      " case_closed          | YES                                     \n",
      " dept_division        | Field Operations                        \n",
      " service_request_type | Animal Cruelty(Critical)                \n",
      " SLA_days             | 0.125                                   \n",
      " case_status          | Closed                                  \n",
      " source_id            | svcCRMLS                                \n",
      " request_address      | 22322  RED SAND DR, Bexar County, 78264 \n",
      " council_district     | 0                                       \n",
      "only showing top 20 rows\n",
      "\n"
     ]
    }
   ],
   "source": [
    "spark_df.where(spark_df.SLA_days == 0.125).show(vertical=True, truncate=False)"
   ]
  },
  {
   "cell_type": "markdown",
   "metadata": {},
   "source": [
    "They are critical animal cruelty or injured animal cases"
   ]
  },
  {
   "cell_type": "markdown",
   "metadata": {},
   "source": [
    "What cases are at the max?"
   ]
  },
  {
   "cell_type": "code",
   "execution_count": 29,
   "metadata": {
    "ExecuteTime": {
     "end_time": "2019-05-17T17:01:14.824784Z",
     "start_time": "2019-05-17T17:01:11.530844Z"
    }
   },
   "outputs": [
    {
     "name": "stdout",
     "output_type": "stream",
     "text": [
      "-RECORD 0------------------------------------------------------\n",
      " case_id              | 1013822328                             \n",
      " case_opened_date     | 8/25/17 10:47                          \n",
      " case_closed_date     | 8/28/17 10:46                          \n",
      " SLA_due_date         | 7/15/21 10:47                          \n",
      " case_late            | NO                                     \n",
      " num_days_late        | -1417.0006019999998                    \n",
      " case_closed          | YES                                    \n",
      " dept_division        | Signals                                \n",
      " service_request_type | Signal Timing Modification By Engineer \n",
      " SLA_days             | 1420.0                                 \n",
      " case_status          | Closed                                 \n",
      " source_id            | CRM_Listener                           \n",
      " request_address      | DATAPOINT and WURZBACH RD              \n",
      " council_district     | 8                                      \n",
      "\n"
     ]
    }
   ],
   "source": [
    "spark_df.where(spark_df.SLA_days == 1420).show(vertical=True, truncate=False)"
   ]
  },
  {
   "cell_type": "markdown",
   "metadata": {},
   "source": [
    "Should be skewed right"
   ]
  },
  {
   "cell_type": "code",
   "execution_count": 30,
   "metadata": {
    "ExecuteTime": {
     "end_time": "2019-05-17T17:01:16.341131Z",
     "start_time": "2019-05-17T17:01:14.826603Z"
    }
   },
   "outputs": [
    {
     "name": "stdout",
     "output_type": "stream",
     "text": [
      "+------------------+------------------+\n",
      "|skewness(SLA_days)|kurtosis(SLA_days)|\n",
      "+------------------+------------------+\n",
      "| 4.983687199032779|23.983570974325893|\n",
      "+------------------+------------------+\n",
      "\n"
     ]
    }
   ],
   "source": [
    "spark_df.agg(F.skewness(y2), F.kurtosis(y2)).show()"
   ]
  },
  {
   "cell_type": "code",
   "execution_count": 31,
   "metadata": {
    "ExecuteTime": {
     "end_time": "2019-05-17T17:01:16.347484Z",
     "start_time": "2019-05-17T17:01:16.342522Z"
    }
   },
   "outputs": [],
   "source": [
    "sla_days = pandas_df.SLA_days"
   ]
  },
  {
   "cell_type": "code",
   "execution_count": 32,
   "metadata": {
    "ExecuteTime": {
     "end_time": "2019-05-17T17:01:16.647928Z",
     "start_time": "2019-05-17T17:01:16.348825Z"
    }
   },
   "outputs": [
    {
     "data": {
      "image/png": "[encoded data removed]",
      "text/plain": [
       "<Figure size 432x288 with 1 Axes>"
      ]
     },
     "metadata": {
      "needs_background": "light"
     },
     "output_type": "display_data"
    }
   ],
   "source": [
    "sns.distplot(sla_days, kde=False, rug=True)\n",
    "plt.show()"
   ]
  },
  {
   "cell_type": "code",
   "execution_count": 33,
   "metadata": {
    "ExecuteTime": {
     "end_time": "2019-05-17T17:01:16.755143Z",
     "start_time": "2019-05-17T17:01:16.649313Z"
    }
   },
   "outputs": [
    {
     "data": {
      "image/png": "[encoded data removed]",
      "text/plain": [
       "<Figure size 432x288 with 1 Axes>"
      ]
     },
     "metadata": {
      "needs_background": "light"
     },
     "output_type": "display_data"
    }
   ],
   "source": [
    "sns.boxplot(sla_days)\n",
    "plt.show()"
   ]
  },
  {
   "cell_type": "markdown",
   "metadata": {},
   "source": [
    "Most cases have a due date of less than 100 days. The vast majority are only a few days"
   ]
  },
  {
   "cell_type": "markdown",
   "metadata": {},
   "source": [
    "What kind of service requests have SLA days of fewer than two weeks?"
   ]
  },
  {
   "cell_type": "code",
   "execution_count": 34,
   "metadata": {
    "ExecuteTime": {
     "end_time": "2019-05-17T17:01:18.504215Z",
     "start_time": "2019-05-17T17:01:16.756694Z"
    }
   },
   "outputs": [
    {
     "name": "stdout",
     "output_type": "stream",
     "text": [
      "+----------------------------------------------+-----+\n",
      "|service_request_type                          |count|\n",
      "+----------------------------------------------+-----+\n",
      "|No Pickup                                     |86855|\n",
      "|Damaged Cart                                  |30064|\n",
      "|Aggressive Animal(Non-Critical)               |24882|\n",
      "|Cart Exchange Request                         |21955|\n",
      "|Pot Hole Repair                               |20616|\n",
      "|Lost/Stolen Cart                              |18552|\n",
      "|Dead Animal - Dog                             |16714|\n",
      "|Cart Delivery                                 |15321|\n",
      "|Dead Animal - Cat                             |14983|\n",
      "|Animal Neglect                                |13441|\n",
      "|Dead Animal - Misc                            |13234|\n",
      "|Trapped/Confined Animal                       |11354|\n",
      "|Public Nuisance(Own Animal)                   |10715|\n",
      "|Cart PickUp                                   |10017|\n",
      "|Injured Animal(Critical)                      |9633 |\n",
      "|Traffic Signal Ops and Maintenance - Emergency|7997 |\n",
      "|1st Call Bagged Leaves                        |6510 |\n",
      "|Traffic Sign Missing/Down                     |5582 |\n",
      "|Aggressive Animal(Critical)                   |5266 |\n",
      "|Solid Waste Fees and Charges                  |5104 |\n",
      "+----------------------------------------------+-----+\n",
      "only showing top 20 rows\n",
      "\n"
     ]
    }
   ],
   "source": [
    "(spark_df.where(spark_df.SLA_days < 14)\n",
    "         .groupBy(\"service_request_type\")\n",
    "         .count()\n",
    "         .orderBy(\"count\", ascending=False)\n",
    "         .show(truncate=False))"
   ]
  },
  {
   "cell_type": "markdown",
   "metadata": {},
   "source": [
    "These look to be requests of a time-sensitive nature"
   ]
  },
  {
   "cell_type": "markdown",
   "metadata": {},
   "source": [
    "What about for those with SLA_days of greater than two months"
   ]
  },
  {
   "cell_type": "code",
   "execution_count": 35,
   "metadata": {
    "ExecuteTime": {
     "end_time": "2019-05-17T17:01:20.251418Z",
     "start_time": "2019-05-17T17:01:18.506037Z"
    }
   },
   "outputs": [
    {
     "name": "stdout",
     "output_type": "stream",
     "text": [
      "+--------------------------------------+-----+\n",
      "|service_request_type                  |count|\n",
      "+--------------------------------------+-----+\n",
      "|Overgrown Yard/Trash                  |65895|\n",
      "|Stray Animal                          |26760|\n",
      "|Junk Vehicle On Private Property      |21473|\n",
      "|Alley-Way Maintenance                 |20214|\n",
      "|Vacant Lot/Overgrown/Trash            |9329 |\n",
      "|Minimum Housing-Owner Occupied        |8543 |\n",
      "|Graffiti: Private Property (Corridors)|8525 |\n",
      "|Dang. Premises/CL/SEC                 |8004 |\n",
      "|Minimum Housing-Tenant Occupied       |7984 |\n",
      "|\"Vacant Lot-Private (12\"\")\"           |7875 |\n",
      "|Brush Violations                      |7475 |\n",
      "|Vacant House Overgrown Yard           |6109 |\n",
      "|Base/Pavement Repair                  |5385 |\n",
      "|Permits Building                      |4605 |\n",
      "|Signal Timing Modification            |4414 |\n",
      "|Low Hanging Limbs on Streets/Sidewalk |4052 |\n",
      "|CPS Energy Wood Poles                 |3501 |\n",
      "|Zoning Business in Resident Area      |2716 |\n",
      "|Zoning: District Requirement          |2075 |\n",
      "|Zoning: Visual Obstruction            |1859 |\n",
      "+--------------------------------------+-----+\n",
      "only showing top 20 rows\n",
      "\n"
     ]
    }
   ],
   "source": [
    "(spark_df.where(spark_df.SLA_days > 60)\n",
    "         .groupBy(\"service_request_type\")\n",
    "         .count()\n",
    "         .orderBy(\"count\", ascending=False)\n",
    "         .show(truncate=False))"
   ]
  },
  {
   "cell_type": "markdown",
   "metadata": {},
   "source": [
    "Most of these are not time-sensitive."
   ]
  },
  {
   "cell_type": "markdown",
   "metadata": {},
   "source": [
    "## 3. Explore the relationship between y1 and x1."
   ]
  },
  {
   "cell_type": "code",
   "execution_count": 36,
   "metadata": {
    "ExecuteTime": {
     "end_time": "2019-05-17T17:01:22.358131Z",
     "start_time": "2019-05-17T17:01:20.253242Z"
    }
   },
   "outputs": [
    {
     "name": "stdout",
     "output_type": "stream",
     "text": [
      "-RECORD 0------------------------------------------\n",
      " case_late                  | NO                   \n",
      " count(num_days_late)       | 747168               \n",
      " avg(num_days_late)         | -58.49713051774848   \n",
      " stddev_samp(num_days_late) | 184.39797239177227   \n",
      " min(num_days_late)         | -1417.0006019999998  \n",
      " max(num_days_late)         | -1.15741000000000... \n",
      "-RECORD 1------------------------------------------\n",
      " case_late                  | YES                  \n",
      " count(num_days_late)       | 94503                \n",
      " avg(num_days_late)         | 25.42026327891507    \n",
      " stddev_samp(num_days_late) | 49.59320933377148    \n",
      " min(num_days_late)         | 1.157410000000000... \n",
      " max(num_days_late)         | 519.6980787          \n",
      "\n"
     ]
    }
   ],
   "source": [
    "(spark_df.groupBy(x1)\n",
    "         .agg(F.count(y1), F.mean(y1), F.stddev(y1), F.min(y1), F.max(y1))\n",
    "         .orderBy(x1)\n",
    "         .show(vertical=True))"
   ]
  },
  {
   "cell_type": "markdown",
   "metadata": {},
   "source": [
    "About 10 percent of cases are late and are completed, on average, 25 days late."
   ]
  },
  {
   "cell_type": "markdown",
   "metadata": {},
   "source": []
  },
  {
   "cell_type": "code",
   "execution_count": 37,
   "metadata": {
    "ExecuteTime": {
     "end_time": "2019-05-17T17:01:22.380517Z",
     "start_time": "2019-05-17T17:01:22.359921Z"
    }
   },
   "outputs": [
    {
     "name": "stdout",
     "output_type": "stream",
     "text": [
      "<class 'pandas.core.frame.DataFrame'>\n",
      "RangeIndex: 8243 entries, 0 to 8242\n",
      "Data columns (total 14 columns):\n",
      "case_id                 8243 non-null object\n",
      "case_opened_date        8243 non-null object\n",
      "case_closed_date        8243 non-null object\n",
      "SLA_due_date            8243 non-null object\n",
      "case_late               8243 non-null object\n",
      "num_days_late           8243 non-null float64\n",
      "case_closed             8243 non-null object\n",
      "dept_division           8243 non-null object\n",
      "service_request_type    8243 non-null object\n",
      "SLA_days                8243 non-null float64\n",
      "case_status             8243 non-null object\n",
      "source_id               8243 non-null object\n",
      "request_address         8243 non-null object\n",
      "council_district        8243 non-null object\n",
      "dtypes: float64(2), object(12)\n",
      "memory usage: 901.7+ KB\n"
     ]
    }
   ],
   "source": [
    "pandas_df.info()"
   ]
  },
  {
   "cell_type": "code",
   "execution_count": 38,
   "metadata": {
    "ExecuteTime": {
     "end_time": "2019-05-17T17:01:22.602261Z",
     "start_time": "2019-05-17T17:01:22.386657Z"
    }
   },
   "outputs": [
    {
     "data": {
      "image/png": "[encoded data removed]",
      "text/plain": [
       "<Figure size 432x288 with 1 Axes>"
      ]
     },
     "metadata": {
      "needs_background": "light"
     },
     "output_type": "display_data"
    }
   ],
   "source": [
    "sns.barplot(x1, y1, data=pandas_df)\n",
    "plt.show()"
   ]
  },
  {
   "cell_type": "code",
   "execution_count": 39,
   "metadata": {
    "ExecuteTime": {
     "end_time": "2019-05-17T17:01:22.716958Z",
     "start_time": "2019-05-17T17:01:22.603806Z"
    }
   },
   "outputs": [
    {
     "name": "stderr",
     "output_type": "stream",
     "text": [
      "/usr/local/anaconda3/lib/python3.7/site-packages/seaborn/categorical.py:2612: UserWarning: The `lvplot` function has been renamed to `boxenplot`. The original name will be removed in a future release. Please update your code. \n",
      "  warnings.warn(msg)\n"
     ]
    },
    {
     "data": {
      "image/png": "[encoded data removed]",
      "text/plain": [
       "<Figure size 432x288 with 1 Axes>"
      ]
     },
     "metadata": {
      "needs_background": "light"
     },
     "output_type": "display_data"
    }
   ],
   "source": [
    "sns.lvplot(x1, y1, data=pandas_df)\n",
    "plt.show()"
   ]
  },
  {
   "cell_type": "code",
   "execution_count": 40,
   "metadata": {
    "ExecuteTime": {
     "end_time": "2019-05-17T17:01:22.846037Z",
     "start_time": "2019-05-17T17:01:22.718156Z"
    }
   },
   "outputs": [
    {
     "data": {
      "image/png": "[encoded data removed]",
      "text/plain": [
       "<Figure size 432x288 with 1 Axes>"
      ]
     },
     "metadata": {
      "needs_background": "light"
     },
     "output_type": "display_data"
    }
   ],
   "source": [
    "sns.boxplot(x1, y1, data=pandas_df)\n",
    "plt.show()"
   ]
  },
  {
   "cell_type": "code",
   "execution_count": 41,
   "metadata": {
    "ExecuteTime": {
     "end_time": "2019-05-17T17:01:22.961903Z",
     "start_time": "2019-05-17T17:01:22.847679Z"
    }
   },
   "outputs": [
    {
     "data": {
      "image/png": "[encoded data removed]",
      "text/plain": [
       "<Figure size 432x288 with 1 Axes>"
      ]
     },
     "metadata": {
      "needs_background": "light"
     },
     "output_type": "display_data"
    }
   ],
   "source": [
    "sns.violinplot(x1, y1, data=pandas_df)\n",
    "plt.show()"
   ]
  },
  {
   "cell_type": "markdown",
   "metadata": {},
   "source": [
    "Overwhelming majority of cases are resolved days or weeks before the due date or are only a few days late."
   ]
  }
 ],
 "metadata": {
  "kernelspec": {
   "display_name": "Python 3",
   "language": "python",
   "name": "python3"
  },
  "language_info": {
   "codemirror_mode": {
    "name": "ipython",
    "version": 3
   },
   "file_extension": ".py",
   "mimetype": "text/x-python",
   "name": "python",
   "nbconvert_exporter": "python",
   "pygments_lexer": "ipython3",
   "version": "3.7.1"
  },
  "toc": {
   "base_numbering": 1,
   "nav_menu": {},
   "number_sections": false,
   "sideBar": true,
   "skip_h1_title": true,
   "title_cell": "Table of Contents",
   "title_sidebar": "Contents",
   "toc_cell": true,
   "toc_position": {},
   "toc_section_display": true,
   "toc_window_display": true
  },
  "varInspector": {
   "cols": {
    "lenName": 16,
    "lenType": 16,
    "lenVar": 40
   },
   "kernels_config": {
    "python": {
     "delete_cmd_postfix": "",
     "delete_cmd_prefix": "del ",
     "library": "var_list.py",
     "varRefreshCmd": "print(var_dic_list())"
    },
    "r": {
     "delete_cmd_postfix": ") ",
     "delete_cmd_prefix": "rm(",
     "library": "var_list.r",
     "varRefreshCmd": "cat(var_dic_list()) "
    }
   },
   "types_to_exclude": [
    "module",
    "function",
    "builtin_function_or_method",
    "instance",
    "_Feature"
   ],
   "window_display": false
  }
 },
 "nbformat": 4,
 "nbformat_minor": 2
}
